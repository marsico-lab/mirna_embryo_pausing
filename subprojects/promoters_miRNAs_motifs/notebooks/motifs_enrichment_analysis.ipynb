{
 "cells": [
  {
   "cell_type": "code",
   "execution_count": null,
   "metadata": {},
   "outputs": [],
   "source": [
    "EXPORT = False"
   ]
  },
  {
   "cell_type": "markdown",
   "metadata": {},
   "source": [
    "# Forewords"
   ]
  },
  {
   "cell_type": "markdown",
   "metadata": {},
   "source": [
    "This notebook gathers the analysis of transcription factors motifs within miRNAs promoters."
   ]
  },
  {
   "cell_type": "markdown",
   "metadata": {},
   "source": [
    "# Imports and definitions"
   ]
  },
  {
   "cell_type": "code",
   "execution_count": 2,
   "metadata": {
    "ExecuteTime": {
     "end_time": "2023-09-20T09:44:41.571550Z",
     "start_time": "2023-09-20T09:44:40.798109Z"
    }
   },
   "outputs": [],
   "source": [
    "import itertools as itt\n",
    "from pathlib import Path\n",
    "import json\n",
    "\n",
    "import Bio.SeqIO\n",
    "import pandas as pd\n",
    "import numpy as np\n",
    "import scipy.stats\n",
    "import sklearn.preprocessing\n",
    "import statsmodels.stats.multitest\n",
    "\n",
    "from dotmap import DotMap\n",
    "\n",
    "from typing import Union, List, Dict\n",
    "\n",
    "import matplotlib as mpl\n",
    "import matplotlib.pyplot as plt\n",
    "import seaborn as sns\n",
    "\n",
    "from IPython.display import display, Image, SVG"
   ]
  },
  {
   "cell_type": "markdown",
   "metadata": {},
   "source": [
    "# Load"
   ]
  },
  {
   "cell_type": "code",
   "execution_count": 3,
   "metadata": {
    "ExecuteTime": {
     "end_time": "2023-09-20T09:44:41.576053Z",
     "start_time": "2023-09-20T09:44:41.573301Z"
    }
   },
   "outputs": [],
   "source": [
    "DATA = DotMap()"
   ]
  },
  {
   "cell_type": "code",
   "execution_count": 4,
   "metadata": {
    "ExecuteTime": {
     "end_time": "2023-09-20T09:44:41.593669Z",
     "start_time": "2023-09-20T09:44:41.584642Z"
    }
   },
   "outputs": [],
   "source": [
    "# motifs table : mapping the cryptic IDs to a gene symbol\n",
    "path = Path(\"../../../storage/external_resources/JASPAR2024/table_ids.tsv\")\n",
    "df = pd.read_csv(path, header=0, index_col=None, sep=\"\\t\")\n",
    "DATA['input']['motifs']['table_id'] = df\n",
    "\n",
    "DATA['input']['motifs']['motif_ac_to_name'] = df.set_index('AC')['ID'].to_dict()"
   ]
  },
  {
   "cell_type": "code",
   "execution_count": 5,
   "metadata": {
    "ExecuteTime": {
     "end_time": "2023-09-20T09:45:05.069680Z",
     "start_time": "2023-09-20T09:44:42.337937Z"
    }
   },
   "outputs": [],
   "source": [
    "# Load the hits\n",
    "\n",
    "fp = Path(\n",
    "    \"../../../storage/MAIN_DATA/promoters_mirnas/motif_hits/u1500_d500/processed/{MOTIF_ID}.bed.gz\"\n",
    ")\n",
    "\n",
    "for motif_id_fp in fp.parent.glob(\"*.bed.gz\"):\n",
    "    df = pd.read_csv(motif_id_fp, header=0, index_col=None, sep=\"\\t\")\n",
    "    df.columns = [\"chrom\", \"start\", \"end\", \"name\", \"score\", \"strand\", \"metadata\"]\n",
    "    # Cast the metadata to a dict\n",
    "    df[\"metadata\"] = df[\"metadata\"].apply(json.loads)\n",
    "\n",
    "    DATA[\"input\"][\"motifs\"][\"hits\"][motif_id_fp.name.rsplit(\".\", maxsplit=1)[0]] = df"
   ]
  },
  {
   "cell_type": "code",
   "execution_count": 7,
   "metadata": {
    "ExecuteTime": {
     "end_time": "2023-09-20T09:45:05.100656Z",
     "start_time": "2023-09-20T09:45:05.071138Z"
    }
   },
   "outputs": [],
   "source": [
    "# Load the promoters information\n",
    "\n",
    "parent_dir = Path(\"../../../storage/MAIN_DATA/promoters_mirnas/promoters/u1500_d500/\")\n",
    "\n",
    "# Fasta\n",
    "path = parent_dir / \"promoters.fa\"\n",
    "\n",
    "fa_records = Bio.SeqIO.parse(path, \"fasta\")\n",
    "fa_records_dict = {record.id: record for record in fa_records}\n",
    "DATA['input']['promoters']['fasta'] = fa_records_dict\n",
    "\n",
    "\n",
    "# Bed\n",
    "path = parent_dir / \"promoters.no_chr.bed\"\n",
    "\n",
    "df = pd.read_csv(path, header=None, sep=\"\\t\")\n",
    "df.columns = ['chrom','start','end','name','score','strand']\n",
    "df['chrom'] = df['chrom'].astype(str)\n",
    "df['name'] = df['name'].replace(np.nan,'')\n",
    "\n",
    "# We can use this bed file to make a mapping of promoter identifiers to miRNA lists.\n",
    "prom_identifier = df['chrom']+':'+df['start'].astype(str)+'-'+df['end'].astype(str)+'('+df['strand']+')'\n",
    "df['seqid'] = prom_identifier\n",
    "\n",
    "DATA['input']['promoters']['bed'] = df\n",
    "seqid_to_mirnas = {k:v.split(',') for k,v in df.set_index('seqid')['name'].to_dict().items()}\n",
    "\n",
    "# Here: get a mapping between promoter ID and list of miRNA IDs.\n",
    "DATA['input']['promoters']['seqid_to_mirna'] = seqid_to_mirnas\n",
    "\n",
    "\n",
    "# We want the reverse as well: a mapping between miRNA ID and list of promoter IDs.\n",
    "mirna_to_seqids = {}\n",
    "for seqid, mirnas in seqid_to_mirnas.items():\n",
    "    for mirna in mirnas:\n",
    "        if mirna not in mirna_to_seqids:\n",
    "            mirna_to_seqids[mirna] = []\n",
    "        mirna_to_seqids[mirna].append(seqid)\n",
    "DATA['input']['promoters']['mirna_to_seqid'] = mirna_to_seqids"
   ]
  },
  {
   "cell_type": "code",
   "execution_count": 8,
   "metadata": {
    "ExecuteTime": {
     "end_time": "2023-09-20T09:45:05.121808Z",
     "start_time": "2023-09-20T09:45:05.102025Z"
    }
   },
   "outputs": [],
   "source": [
    "# miRNA data\n",
    "\n",
    "\n",
    "# miRNA sets: which are the miRNAs we want to test for enrichment?\n",
    "# => the concordant up-regulated in cluster 1 and 8\n",
    "# These were already pre-extracted.\n",
    "path = \"../../../storage/MAIN_DATA/miRNA_dea/E14_ivvivt_concordant_upregulated_miRNAs.tsv\"\n",
    "df = pd.read_csv(path, header=0, index_col=0, sep=\"\\t\")\n",
    "DATA['input']['mirnas']['candidate_mirnas'] = df.index.values\n",
    "\n",
    "path = \"../../../storage/MAIN_DATA/miRNA_dea/E14_ivvivt_DEA-miRNA-merged-logFC_clusters.tsv\"\n",
    "df = pd.read_csv(path, header=0, index_col=0, sep=\"\\t\")\n",
    "DATA['input']['mirnas']['ivv_ivt_clustered'] = df\n",
    "\n",
    "# Here you can assert that the loaded candidate miRNAs are indeed the ones we want:\n",
    "# - miRNAs that are in the \"concordant-upregulated on average\" : cluster 1 and 8\n",
    "# - from that subset: only keep those that actually show an up-regulation in all three experiments\n",
    "\n",
    "df = DATA['input']['mirnas']['ivv_ivt_clustered'].copy()\n",
    "columns_experiments = ['diapaused_ICM','mTor_ICM','paused_E14']\n",
    "column_cluster = \"cluster\"\n",
    "\n",
    "is_in_cluster = df[column_cluster].isin([1,8])\n",
    "is_concordant_up = df.loc[:,columns_experiments].applymap(lambda v: v>0).sum(axis=1) == 3\n",
    "candidate_mirnas = df.loc[is_in_cluster & is_concordant_up,:].index.values\n",
    "\n",
    "assert set(candidate_mirnas) == set(DATA['input']['mirnas']['candidate_mirnas'])"
   ]
  },
  {
   "cell_type": "markdown",
   "metadata": {},
   "source": [
    "# Processing and normalizing scores"
   ]
  },
  {
   "cell_type": "code",
   "execution_count": 9,
   "metadata": {
    "ExecuteTime": {
     "end_time": "2023-09-20T09:45:05.128626Z",
     "start_time": "2023-09-20T09:45:05.125570Z"
    }
   },
   "outputs": [],
   "source": [
    "PARAMS = DotMap()"
   ]
  },
  {
   "cell_type": "markdown",
   "metadata": {},
   "source": [
    "## Explore motif hits score distributions"
   ]
  },
  {
   "cell_type": "markdown",
   "metadata": {},
   "source": [
    "Not all motifs can reach the same scores, so we should work with a normalized score.\n",
    "\n",
    "Here we will divide the score from each hit by the maximum score for the TF."
   ]
  },
  {
   "cell_type": "markdown",
   "metadata": {},
   "source": [
    "The usual shape of the score distribution is a lognormal distribution, with sometimes a bump\n",
    "towards high scoring hits.\n",
    "\n",
    "See for instance MA1556.1 = RXRG, motif AGGTCA."
   ]
  },
  {
   "cell_type": "code",
   "execution_count": 10,
   "metadata": {
    "ExecuteTime": {
     "end_time": "2023-09-20T09:45:05.134885Z",
     "start_time": "2023-09-20T09:45:05.131540Z"
    }
   },
   "outputs": [],
   "source": [
    "motifs_with_typical_score_hit_distributions = ['MA1607.1', 'MA0801.1', 'MA1623.1']"
   ]
  },
  {
   "cell_type": "code",
   "execution_count": 11,
   "metadata": {
    "ExecuteTime": {
     "end_time": "2023-09-20T09:45:05.386682Z",
     "start_time": "2023-09-20T09:45:05.136373Z"
    }
   },
   "outputs": [
    {
     "data": {
      "image/png": "[encoded data removed]",
      "text/plain": [
       "<Figure size 640x480 with 1 Axes>"
      ]
     },
     "metadata": {},
     "output_type": "display_data"
    }
   ],
   "source": [
    "list_motifs_of_interest = motifs_with_typical_score_hit_distributions\n",
    "\n",
    "tmp_accumulated_hits = pd.concat([\n",
    "    DATA.input.motifs.hits[motif_id]\n",
    "    for motif_id in list_motifs_of_interest\n",
    "])\n",
    "\n",
    "sns.kdeplot(\n",
    "    data=tmp_accumulated_hits,\n",
    "    x='score',\n",
    "    #hue='motif_id',\n",
    "    common_norm=False,\n",
    "    cumulative=False,\n",
    "    legend=True,\n",
    ")\n",
    "\n",
    "\n",
    "plt.xlim(-1,22)\n",
    "plt.title(\"\\\"Typical\\\" hit score distributions\")\n",
    "\n",
    "plt.show()"
   ]
  },
  {
   "cell_type": "code",
   "execution_count": 12,
   "metadata": {
    "ExecuteTime": {
     "end_time": "2023-09-20T09:45:07.590901Z",
     "start_time": "2023-09-20T09:45:05.388285Z"
    }
   },
   "outputs": [
    {
     "name": "stdout",
     "output_type": "stream",
     "text": [
      "MA0075.3\n"
     ]
    },
    {
     "data": {
      "image/svg+xml": [
       "<svg xmlns=\"http://www.w3.org/2000/svg\" xmlns:xlink=\"http://www.w3.org/1999/xlink\" width=\"720\" height=\"360\" viewBox=\"0 0 720 360\">\n",
       "<defs>\n",
       "<g>\n",
       "<g id=\"glyph-0-0\">\n",
       "</g>\n",
       "<g id=\"glyph-0-1\">\n",
       "<path d=\"M 2.640625 -6.9375 C 2 -6.9375 1.421875 -6.65625 1.078125 -6.171875 C 0.640625 -5.5625 0.40625 -4.640625 0.40625 -3.359375 C 0.40625 -1.015625 1.1875 0.21875 2.640625 0.21875 C 4.078125 0.21875 4.859375 -1.015625 4.859375 -3.296875 C 4.859375 -4.640625 4.65625 -5.546875 4.203125 -6.171875 C 3.84375 -6.65625 3.28125 -6.9375 2.640625 -6.9375 Z M 2.640625 -6.1875 C 3.546875 -6.1875 4 -5.25 4 -3.375 C 4 -1.40625 3.5625 -0.484375 2.625 -0.484375 C 1.734375 -0.484375 1.28125 -1.4375 1.28125 -3.34375 C 1.28125 -5.25 1.734375 -6.1875 2.640625 -6.1875 Z M 2.640625 -6.1875 \"/>\n",
       "</g>\n",
       "<g id=\"glyph-0-2\">\n",
       "<path d=\"M 1.828125 -1 L 0.828125 -1 L 0.828125 0 L 1.828125 0 Z M 1.828125 -1 \"/>\n",
       "</g>\n",
       "<g id=\"glyph-0-3\">\n",
       "<path d=\"M 4.5625 -6.796875 L 1.0625 -6.796875 L 0.546875 -3.09375 L 1.328125 -3.09375 C 1.71875 -3.5625 2.046875 -3.734375 2.578125 -3.734375 C 3.484375 -3.734375 4.0625 -3.109375 4.0625 -2.09375 C 4.0625 -1.125 3.484375 -0.53125 2.578125 -0.53125 C 1.828125 -0.53125 1.375 -0.90625 1.1875 -1.671875 L 0.328125 -1.671875 C 0.453125 -1.109375 0.546875 -0.84375 0.75 -0.59375 C 1.125 -0.078125 1.828125 0.21875 2.59375 0.21875 C 3.96875 0.21875 4.921875 -0.78125 4.921875 -2.21875 C 4.921875 -3.5625 4.03125 -4.484375 2.71875 -4.484375 C 2.25 -4.484375 1.859375 -4.359375 1.46875 -4.0625 L 1.734375 -5.96875 L 4.5625 -5.96875 Z M 4.5625 -6.796875 \"/>\n",
       "</g>\n",
       "<g id=\"glyph-0-4\">\n",
       "<path d=\"M 2.484375 -4.9375 L 2.484375 0 L 3.328125 0 L 3.328125 -6.9375 L 2.765625 -6.9375 C 2.46875 -5.875 2.28125 -5.734375 0.984375 -5.5625 L 0.984375 -4.9375 Z M 2.484375 -4.9375 \"/>\n",
       "</g>\n",
       "<g id=\"glyph-0-5\">\n",
       "<path d=\"M 4.859375 -0.828125 L 1.28125 -0.828125 C 1.359375 -1.40625 1.671875 -1.78125 2.5 -2.28125 L 3.46875 -2.828125 C 4.40625 -3.34375 4.90625 -4.0625 4.90625 -4.90625 C 4.90625 -5.484375 4.671875 -6.03125 4.265625 -6.40625 C 3.859375 -6.765625 3.375 -6.9375 2.71875 -6.9375 C 1.859375 -6.9375 1.21875 -6.625 0.84375 -6.03125 C 0.609375 -5.671875 0.5 -5.234375 0.484375 -4.53125 L 1.328125 -4.53125 C 1.359375 -5.015625 1.40625 -5.28125 1.53125 -5.515625 C 1.75 -5.9375 2.1875 -6.203125 2.703125 -6.203125 C 3.46875 -6.203125 4.03125 -5.640625 4.03125 -4.890625 C 4.03125 -4.34375 3.71875 -3.859375 3.125 -3.515625 L 2.234375 -3 C 0.8125 -2.171875 0.40625 -1.53125 0.328125 -0.015625 L 4.859375 -0.015625 Z M 4.859375 -0.828125 \"/>\n",
       "</g>\n",
       "<g id=\"glyph-0-6\">\n",
       "<path d=\"M 2.125 -3.1875 L 2.578125 -3.1875 C 3.5 -3.1875 3.984375 -2.765625 3.984375 -1.921875 C 3.984375 -1.0625 3.46875 -0.53125 2.59375 -0.53125 C 1.65625 -0.53125 1.203125 -1 1.15625 -2.015625 L 0.3125 -2.015625 C 0.34375 -1.453125 0.4375 -1.09375 0.609375 -0.78125 C 0.953125 -0.109375 1.625 0.21875 2.546875 0.21875 C 3.953125 0.21875 4.859375 -0.625 4.859375 -1.9375 C 4.859375 -2.828125 4.515625 -3.296875 3.703125 -3.59375 C 4.34375 -3.84375 4.65625 -4.328125 4.65625 -5.03125 C 4.65625 -6.21875 3.875 -6.9375 2.578125 -6.9375 C 1.203125 -6.9375 0.484375 -6.171875 0.453125 -4.703125 L 1.296875 -4.703125 C 1.3125 -5.125 1.34375 -5.359375 1.453125 -5.578125 C 1.640625 -5.96875 2.0625 -6.203125 2.59375 -6.203125 C 3.34375 -6.203125 3.796875 -5.75 3.796875 -5 C 3.796875 -4.515625 3.609375 -4.21875 3.25 -4.046875 C 3.015625 -3.953125 2.703125 -3.921875 2.125 -3.90625 Z M 2.125 -3.1875 \"/>\n",
       "</g>\n",
       "<g id=\"glyph-0-7\">\n",
       "<path d=\"M 3.140625 -1.671875 L 3.140625 0 L 3.984375 0 L 3.984375 -1.671875 L 4.984375 -1.671875 L 4.984375 -2.4375 L 3.984375 -2.4375 L 3.984375 -6.9375 L 3.359375 -6.9375 L 0.265625 -2.578125 L 0.265625 -1.671875 Z M 3.140625 -2.4375 L 1 -2.4375 L 3.140625 -5.5 Z M 3.140625 -2.4375 \"/>\n",
       "</g>\n",
       "<g id=\"glyph-0-8\">\n",
       "<path d=\"M 4.78125 -5.125 C 4.609375 -6.265625 3.890625 -6.9375 2.84375 -6.9375 C 2.09375 -6.9375 1.421875 -6.578125 1.03125 -5.953125 C 0.59375 -5.265625 0.40625 -4.421875 0.40625 -3.171875 C 0.40625 -2 0.578125 -1.25 0.984375 -0.640625 C 1.359375 -0.078125 1.953125 0.21875 2.703125 0.21875 C 3.984375 0.21875 4.921875 -0.75 4.921875 -2.09375 C 4.921875 -3.375 4.0625 -4.28125 2.84375 -4.28125 C 2.171875 -4.28125 1.640625 -4.03125 1.28125 -3.515625 C 1.28125 -5.234375 1.828125 -6.1875 2.796875 -6.1875 C 3.390625 -6.1875 3.796875 -5.796875 3.9375 -5.125 Z M 2.734375 -3.53125 C 3.546875 -3.53125 4.0625 -2.953125 4.0625 -2.03125 C 4.0625 -1.15625 3.484375 -0.53125 2.703125 -0.53125 C 1.921875 -0.53125 1.328125 -1.1875 1.328125 -2.078125 C 1.328125 -2.9375 1.90625 -3.53125 2.734375 -3.53125 Z M 2.734375 -3.53125 \"/>\n",
       "</g>\n",
       "<g id=\"glyph-0-9\">\n",
       "<path d=\"M 4.984375 -6.796875 L 0.4375 -6.796875 L 0.4375 -5.96875 L 4.109375 -5.96875 C 2.5 -3.65625 1.828125 -2.234375 1.328125 0 L 2.21875 0 C 2.59375 -2.171875 3.453125 -4.046875 4.984375 -6.09375 Z M 4.984375 -6.796875 \"/>\n",
       "</g>\n",
       "<g id=\"glyph-0-10\">\n",
       "<path d=\"M 3.75 -3.65625 C 4.46875 -4.09375 4.6875 -4.4375 4.6875 -5.078125 C 4.6875 -6.171875 3.84375 -6.9375 2.640625 -6.9375 C 1.4375 -6.9375 0.59375 -6.171875 0.59375 -5.09375 C 0.59375 -4.4375 0.8125 -4.09375 1.515625 -3.65625 C 0.734375 -3.265625 0.359375 -2.703125 0.359375 -1.921875 C 0.359375 -0.65625 1.28125 0.21875 2.640625 0.21875 C 3.984375 0.21875 4.921875 -0.65625 4.921875 -1.921875 C 4.921875 -2.703125 4.53125 -3.265625 3.75 -3.65625 Z M 2.640625 -6.1875 C 3.359375 -6.1875 3.8125 -5.75 3.8125 -5.0625 C 3.8125 -4.40625 3.34375 -3.984375 2.640625 -3.984375 C 1.921875 -3.984375 1.453125 -4.40625 1.453125 -5.078125 C 1.453125 -5.75 1.921875 -6.1875 2.640625 -6.1875 Z M 2.640625 -3.265625 C 3.484375 -3.265625 4.0625 -2.71875 4.0625 -1.90625 C 4.0625 -1.078125 3.484375 -0.53125 2.625 -0.53125 C 1.796875 -0.53125 1.21875 -1.09375 1.21875 -1.90625 C 1.21875 -2.71875 1.78125 -3.265625 2.640625 -3.265625 Z M 2.640625 -3.265625 \"/>\n",
       "</g>\n",
       "<g id=\"glyph-1-0\">\n",
       "</g>\n",
       "<g id=\"glyph-1-1\">\n",
       "<path d=\"M 0 -0.953125 L 0 -4.890625 C 0 -5.71875 -0.234375 -6.34375 -0.734375 -6.796875 C -1.1875 -7.234375 -1.8125 -7.46875 -2.5 -7.46875 C -3.546875 -7.46875 -4.1875 -7 -4.625 -5.875 C -4.984375 -6.6875 -5.625 -7.09375 -6.53125 -7.09375 C -7.171875 -7.09375 -7.734375 -6.859375 -8.140625 -6.390625 C -8.5625 -5.921875 -8.75 -5.34375 -8.75 -4.5 L -8.75 -0.953125 Z M -4.984375 -2.0625 L -7.765625 -2.0625 L -7.765625 -4.21875 C -7.765625 -4.84375 -7.6875 -5.203125 -7.453125 -5.5 C -7.21875 -5.8125 -6.859375 -5.96875 -6.375 -5.96875 C -5.890625 -5.96875 -5.53125 -5.8125 -5.296875 -5.5 C -5.0625 -5.203125 -4.984375 -4.84375 -4.984375 -4.21875 Z M -0.984375 -2.0625 L -4 -2.0625 L -4 -4.78125 C -4 -5.765625 -3.4375 -6.359375 -2.484375 -6.359375 C -1.546875 -6.359375 -0.984375 -5.765625 -0.984375 -4.78125 Z M -0.984375 -2.0625 \"/>\n",
       "</g>\n",
       "<g id=\"glyph-1-2\">\n",
       "<path d=\"M -6.28125 -1.796875 L -6.28125 -0.796875 L 0 -0.796875 L 0 -1.796875 Z M -8.75 -1.796875 L -8.75 -0.796875 L -7.484375 -0.796875 L -7.484375 -1.796875 Z M -8.75 -1.796875 \"/>\n",
       "</g>\n",
       "<g id=\"glyph-1-3\">\n",
       "<path d=\"M -6.28125 -3.046875 L -6.28125 -2.015625 L -8.015625 -2.015625 L -8.015625 -1.015625 L -6.28125 -1.015625 L -6.28125 -0.171875 L -5.46875 -0.171875 L -5.46875 -1.015625 L -0.71875 -1.015625 C -0.078125 -1.015625 0.28125 -1.453125 0.28125 -2.234375 C 0.28125 -2.5 0.25 -2.71875 0.1875 -3.046875 L -0.640625 -3.046875 C -0.609375 -2.90625 -0.59375 -2.765625 -0.59375 -2.5625 C -0.59375 -2.140625 -0.71875 -2.015625 -1.15625 -2.015625 L -5.46875 -2.015625 L -5.46875 -3.046875 Z M -6.28125 -3.046875 \"/>\n",
       "</g>\n",
       "<g id=\"glyph-1-4\">\n",
       "<path d=\"M -4.53125 -5.25 C -5.765625 -5.25 -6.46875 -4.421875 -6.46875 -2.96875 C -6.46875 -1.515625 -5.71875 -0.5625 -4.546875 -0.5625 C -3.5625 -0.5625 -3.09375 -1.0625 -2.734375 -2.5625 L -2.515625 -3.484375 C -2.34375 -4.1875 -2.09375 -4.46875 -1.640625 -4.46875 C -1.046875 -4.46875 -0.640625 -3.875 -0.640625 -3 C -0.640625 -2.453125 -0.796875 -2 -1.0625 -1.75 C -1.25 -1.59375 -1.421875 -1.53125 -1.875 -1.46875 L -1.875 -0.40625 C -0.421875 -0.453125 0.28125 -1.265625 0.28125 -2.921875 C 0.28125 -4.5 -0.5 -5.515625 -1.71875 -5.515625 C -2.65625 -5.515625 -3.171875 -4.984375 -3.46875 -3.734375 L -3.703125 -2.765625 C -3.890625 -1.953125 -4.15625 -1.609375 -4.59375 -1.609375 C -5.1875 -1.609375 -5.546875 -2.125 -5.546875 -2.9375 C -5.546875 -3.75 -5.203125 -4.171875 -4.53125 -4.203125 Z M -4.53125 -5.25 \"/>\n",
       "</g>\n",
       "</g>\n",
       "</defs>\n",
       "<rect x=\"-72\" y=\"-36\" width=\"864\" height=\"432\" fill=\"rgb(100%, 100%, 100%)\" fill-opacity=\"1\"/>\n",
       "<path fill-rule=\"nonzero\" fill=\"rgb(6.27451%, 58.823529%, 28.235294%)\" fill-opacity=\"1\" d=\"M 67.730469 310.328125 L 67.808594 310.324219 L 99.636719 306.894531 L 109.300781 306.894531 L 141.28125 310.332031 L 130.046875 310.332031 L 122.03125 309.433594 L 86.90625 309.433594 L 79.046875 310.328125 L 67.730469 310.328125 L 90.285156 309.066406 L 118.808594 309.0625 L 104.585938 307.457031 L 104.429688 307.453125 L 104.269531 307.464844 L 90.207031 309.0625 L 90.285156 309.066406 Z M 67.730469 310.328125 \"/>\n",
       "<path fill-rule=\"nonzero\" fill=\"rgb(14.509804%, 36.078431%, 60%)\" fill-opacity=\"1\" d=\"M 67.730469 262.980469 L 67.820312 262.945312 L 67.820312 262.097656 L 68.089844 260.757812 L 68.71875 259.066406 L 69.34375 257.902344 L 70.960938 255.824219 L 73.203125 253.8125 L 75.535156 252.261719 L 77.238281 251.34375 L 78.765625 250.640625 L 82.261719 249.335938 L 84.503906 248.667969 L 86.925781 248.066406 L 89.886719 247.46875 L 92.039062 247.113281 L 96.882812 246.550781 L 100.46875 246.304688 L 103.25 246.199219 L 109.261719 246.199219 L 112.847656 246.339844 L 115.449219 246.515625 L 118.320312 246.796875 L 120.742188 247.113281 L 124.957031 247.890625 L 128.726562 248.878906 L 130.429688 249.441406 L 133.121094 250.535156 L 135.183594 251.59375 L 136.617188 252.507812 L 138.234375 253.8125 L 139.667969 255.398438 L 140.746094 257.199219 L 141.28125 258.714844 L 128.726562 258.714844 L 128.097656 257.304688 L 127.378906 256.210938 L 126.035156 254.765625 L 124.6875 253.742188 L 122.804688 252.71875 L 121.101562 252.050781 L 118.769531 251.378906 L 116.707031 250.957031 L 114.554688 250.640625 L 112.488281 250.429688 L 108.542969 250.21875 L 103.96875 250.21875 L 102.265625 250.289062 L 98.765625 250.570312 L 96.882812 250.816406 L 94.191406 251.308594 L 92.308594 251.769531 L 90.066406 252.472656 L 88.539062 253.074219 L 86.65625 253.988281 L 85.3125 254.800781 L 83.785156 255.964844 L 82.890625 256.84375 L 82.082031 257.832031 L 81.363281 258.996094 L 80.828125 260.230469 L 80.46875 261.535156 L 80.289062 262.804688 L 80.289062 268.269531 L 80.46875 269.535156 L 80.917969 271.015625 L 82.082031 273.167969 L 83.785156 275.035156 L 85.761719 276.515625 L 87.644531 277.574219 L 88.71875 278.066406 L 90.15625 278.632812 L 92.398438 279.335938 L 95.628906 280.042969 L 97.511719 280.324219 L 100.382812 280.605469 L 103.339844 280.746094 L 107.289062 280.746094 L 110.785156 280.605469 L 113.117188 280.429688 L 115.539062 280.148438 L 118.859375 279.550781 L 120.921875 278.984375 L 122.714844 278.316406 L 124.0625 277.644531 L 124.957031 277.082031 L 126.304688 275.988281 L 127.378906 274.789062 L 128.1875 273.554688 L 128.726562 272.355469 L 141.28125 272.355469 L 140.746094 273.765625 L 139.9375 275.140625 L 139.128906 276.164062 L 137.875 277.398438 L 136.441406 278.492188 L 134.375 279.726562 L 132.671875 280.535156 L 130.429688 281.417969 L 128.367188 282.085938 L 126.125 282.6875 L 122.804688 283.390625 L 120.652344 283.746094 L 118.320312 284.0625 L 115.539062 284.34375 L 112.042969 284.589844 L 108.273438 284.730469 L 104.777344 284.765625 L 101.007812 284.695312 L 98.226562 284.554688 L 94.550781 284.238281 L 89.976562 283.601562 L 86.65625 282.933594 L 84.054688 282.261719 L 81.8125 281.558594 L 79.300781 280.605469 L 76.074219 279.054688 L 74.097656 277.855469 L 72.753906 276.871094 L 71.230469 275.496094 L 70.152344 274.261719 L 68.898438 272.285156 L 68 269.785156 L 67.730469 267.84375 Z M 67.730469 262.980469 \"/>\n",
       "<path fill-rule=\"nonzero\" fill=\"rgb(96.862745%, 70.196078%, 16.862745%)\" fill-opacity=\"1\" d=\"M 67.730469 300.945312 L 67.820312 300.9375 L 67.820312 300.785156 L 68.179688 300.441406 L 69.078125 299.96875 L 70.242188 299.578125 L 71.5 299.269531 L 72.304688 299.109375 L 73.652344 298.882812 L 74.816406 298.714844 L 77.777344 298.367188 L 81.542969 298.046875 L 83.609375 297.910156 L 85.941406 297.78125 L 89.257812 297.632812 L 90.785156 297.582031 L 95.449219 297.457031 L 100.738281 297.382812 L 106.570312 297.359375 L 109.261719 297.367188 L 112.9375 297.398438 L 117.960938 297.480469 L 120.832031 297.558594 L 123.074219 297.632812 L 125.40625 297.734375 L 128.277344 297.886719 L 130.96875 298.070312 L 133.121094 298.253906 L 135.273438 298.484375 L 137.066406 298.726562 L 138.59375 298.996094 L 139.9375 299.316406 L 140.746094 299.585938 L 141.28125 299.851562 L 128.816406 299.851562 L 128.097656 299.585938 L 127.289062 299.378906 L 125.945312 299.125 L 124.597656 298.941406 L 123.253906 298.796875 L 120.742188 298.597656 L 118.589844 298.476562 L 115.898438 298.367188 L 113.296875 298.300781 L 110.335938 298.253906 L 108.542969 298.238281 L 103.789062 298.238281 L 99.484375 298.292969 L 96.972656 298.355469 L 95.179688 298.414062 L 92.667969 298.53125 L 91.140625 298.621094 L 90.246094 298.683594 L 87.554688 298.917969 L 85.761719 299.132812 L 84.773438 299.277344 L 83.519531 299.507812 L 82.621094 299.714844 L 81.632812 300.019531 L 81.097656 300.25 L 80.378906 300.769531 L 80.289062 302.144531 L 80.558594 302.4375 L 81.097656 302.75 L 81.8125 303.027344 L 82.890625 303.316406 L 83.964844 303.539062 L 85.851562 303.835938 L 87.464844 304.035156 L 88.71875 304.164062 L 91.140625 304.371094 L 92.128906 304.441406 L 94.460938 304.578125 L 96.882812 304.683594 L 99.84375 304.777344 L 102.085938 304.824219 L 105.671875 304.859375 L 110.246094 304.859375 L 115.628906 304.816406 L 119.039062 304.753906 L 121.371094 304.691406 L 122.894531 304.640625 L 124.777344 304.554688 L 126.125 304.476562 L 127.378906 304.394531 L 128.90625 304.265625 L 128.90625 302.4375 L 106.75 302.429688 L 106.75 301.574219 L 141.195312 301.566406 L 141.28125 304.554688 L 139.398438 304.761719 L 137.066406 304.960938 L 134.824219 305.113281 L 132.492188 305.242188 L 129.175781 305.386719 L 126.484375 305.480469 L 122.355469 305.585938 L 118.589844 305.65625 L 114.644531 305.703125 L 111.144531 305.726562 L 107.019531 305.734375 L 103.339844 305.71875 L 99.394531 305.671875 L 96.253906 305.609375 L 93.382812 305.535156 L 90.515625 305.433594 L 86.925781 305.273438 L 84.59375 305.144531 L 82.171875 304.984375 L 79.75 304.792969 L 77.597656 304.585938 L 76.164062 304.425781 L 74.726562 304.242188 L 73.203125 304.011719 L 71.765625 303.753906 L 70.691406 303.515625 L 69.703125 303.246094 L 68.988281 302.996094 L 68.269531 302.652344 L 67.910156 302.375 L 67.730469 302.136719 Z M 67.730469 300.945312 \"/>\n",
       "<path fill-rule=\"nonzero\" fill=\"rgb(83.921569%, 15.686275%, 22.352941%)\" fill-opacity=\"1\" d=\"M 67.730469 285.929688 L 141.28125 285.929688 L 141.28125 287.03125 L 110.628906 287.039062 L 110.628906 296.195312 L 98.296875 296.195312 L 98.296875 287.046875 L 98.117188 287.03125 L 67.730469 287.03125 Z M 67.730469 285.929688 \"/>\n",
       "<path fill-rule=\"nonzero\" fill=\"rgb(6.27451%, 58.823529%, 28.235294%)\" fill-opacity=\"1\" d=\"M 145.15625 310.332031 L 145.234375 310.332031 L 177.058594 309.230469 L 186.722656 309.230469 L 218.707031 310.332031 L 207.46875 310.332031 L 199.453125 310.042969 L 164.328125 310.042969 L 156.46875 310.332031 L 145.15625 310.332031 L 167.707031 309.925781 L 196.230469 309.925781 L 182.007812 309.410156 L 181.851562 309.40625 L 181.695312 309.410156 L 167.628906 309.925781 L 167.707031 309.925781 Z M 145.15625 310.332031 \"/>\n",
       "<path fill-rule=\"nonzero\" fill=\"rgb(14.509804%, 36.078431%, 60%)\" fill-opacity=\"1\" d=\"M 145.15625 285.203125 L 145.242188 285.167969 L 145.242188 284.375 L 145.511719 283.121094 L 146.140625 281.535156 L 146.769531 280.441406 L 148.382812 278.492188 L 150.625 276.609375 L 152.957031 275.152344 L 154.664062 274.292969 L 156.1875 273.632812 L 159.683594 272.410156 L 161.929688 271.78125 L 164.351562 271.21875 L 167.308594 270.660156 L 169.460938 270.328125 L 174.304688 269.800781 L 177.894531 269.566406 L 180.675781 269.46875 L 186.683594 269.46875 L 190.273438 269.601562 L 192.875 269.765625 L 195.742188 270.03125 L 198.164062 270.328125 L 202.382812 271.054688 L 206.148438 271.980469 L 207.851562 272.507812 L 210.542969 273.535156 L 212.605469 274.527344 L 214.042969 275.386719 L 215.65625 276.609375 L 217.09375 278.097656 L 218.167969 279.78125 L 218.707031 281.203125 L 206.148438 281.203125 L 205.519531 279.878906 L 204.804688 278.855469 L 203.457031 277.5 L 202.113281 276.542969 L 200.230469 275.582031 L 198.523438 274.957031 L 196.191406 274.328125 L 194.128906 273.929688 L 191.976562 273.632812 L 189.914062 273.433594 L 185.96875 273.238281 L 181.390625 273.238281 L 179.6875 273.304688 L 176.191406 273.566406 L 174.304688 273.800781 L 171.613281 274.261719 L 169.730469 274.691406 L 167.488281 275.351562 L 165.964844 275.914062 L 164.082031 276.773438 L 162.734375 277.535156 L 161.210938 278.625 L 160.3125 279.449219 L 159.507812 280.375 L 158.789062 281.46875 L 158.25 282.625 L 157.890625 283.847656 L 157.710938 285.039062 L 157.710938 290.160156 L 157.890625 291.351562 L 158.339844 292.738281 L 159.507812 294.753906 L 161.210938 296.507812 L 163.183594 297.894531 L 165.066406 298.886719 L 166.144531 299.347656 L 167.578125 299.878906 L 169.820312 300.539062 L 173.050781 301.199219 L 174.933594 301.464844 L 177.804688 301.730469 L 180.765625 301.863281 L 184.710938 301.863281 L 188.210938 301.730469 L 190.542969 301.5625 L 192.964844 301.300781 L 196.28125 300.738281 L 198.34375 300.207031 L 200.140625 299.582031 L 201.484375 298.953125 L 202.382812 298.425781 L 203.726562 297.398438 L 204.804688 296.277344 L 205.609375 295.117188 L 206.148438 293.996094 L 218.707031 293.996094 L 218.167969 295.316406 L 217.359375 296.605469 L 216.554688 297.566406 L 215.296875 298.722656 L 213.863281 299.746094 L 211.800781 300.902344 L 210.09375 301.664062 L 207.851562 302.488281 L 205.789062 303.117188 L 203.546875 303.679688 L 200.230469 304.339844 L 198.074219 304.671875 L 195.742188 304.96875 L 192.964844 305.234375 L 189.464844 305.464844 L 185.699219 305.597656 L 182.199219 305.628906 L 178.433594 305.5625 L 175.652344 305.429688 L 171.972656 305.132812 L 167.398438 304.539062 L 164.082031 303.910156 L 161.480469 303.28125 L 159.238281 302.621094 L 156.726562 301.730469 L 153.496094 300.273438 L 151.523438 299.152344 L 150.175781 298.226562 L 148.652344 296.9375 L 147.574219 295.78125 L 146.320312 293.929688 L 145.421875 291.582031 L 145.15625 289.765625 Z M 145.15625 285.203125 \"/>\n",
       "<path fill-rule=\"nonzero\" fill=\"rgb(96.862745%, 70.196078%, 16.862745%)\" fill-opacity=\"1\" d=\"M 145.15625 307.339844 L 145.242188 307.335938 L 145.242188 307.3125 L 145.601562 307.261719 L 146.5 307.1875 L 147.664062 307.128906 L 148.921875 307.082031 L 149.730469 307.058594 L 151.074219 307.023438 L 152.242188 307 L 155.199219 306.945312 L 158.96875 306.898438 L 161.03125 306.878906 L 163.363281 306.855469 L 166.683594 306.835938 L 168.207031 306.828125 L 172.871094 306.808594 L 178.164062 306.796875 L 183.992188 306.792969 L 186.683594 306.792969 L 190.363281 306.800781 L 195.386719 306.8125 L 198.253906 306.824219 L 200.496094 306.835938 L 202.828125 306.851562 L 205.699219 306.875 L 208.390625 306.902344 L 210.542969 306.929688 L 212.695312 306.964844 L 214.492188 307 L 216.015625 307.042969 L 217.359375 307.089844 L 218.167969 307.132812 L 218.707031 307.171875 L 206.238281 307.171875 L 205.519531 307.132812 L 204.714844 307.101562 L 203.367188 307.0625 L 202.023438 307.035156 L 200.675781 307.011719 L 198.164062 306.980469 L 196.011719 306.964844 L 193.320312 306.945312 L 190.722656 306.9375 L 187.761719 306.929688 L 185.96875 306.925781 L 181.210938 306.925781 L 176.90625 306.933594 L 174.394531 306.945312 L 172.601562 306.953125 L 170.089844 306.972656 L 168.566406 306.984375 L 167.667969 306.996094 L 164.976562 307.03125 L 163.183594 307.0625 L 162.195312 307.085938 L 160.941406 307.121094 L 160.042969 307.152344 L 159.058594 307.199219 L 158.519531 307.230469 L 157.800781 307.3125 L 157.710938 307.519531 L 157.980469 307.5625 L 158.519531 307.613281 L 159.238281 307.652344 L 160.3125 307.699219 L 161.390625 307.730469 L 163.273438 307.777344 L 164.886719 307.808594 L 166.144531 307.828125 L 168.566406 307.859375 L 169.550781 307.867188 L 171.882812 307.890625 L 174.304688 307.90625 L 177.265625 307.917969 L 179.507812 307.925781 L 183.097656 307.933594 L 187.671875 307.933594 L 193.054688 307.925781 L 196.460938 307.917969 L 198.792969 307.90625 L 200.320312 307.898438 L 202.203125 307.886719 L 203.546875 307.875 L 204.804688 307.863281 L 206.328125 307.84375 L 206.328125 307.5625 L 184.171875 307.5625 L 184.171875 307.433594 L 218.617188 307.433594 L 218.707031 307.886719 L 216.824219 307.917969 L 214.492188 307.949219 L 212.25 307.96875 L 209.917969 307.992188 L 206.597656 308.011719 L 203.90625 308.027344 L 199.78125 308.042969 L 196.011719 308.054688 L 192.066406 308.058594 L 188.566406 308.0625 L 184.441406 308.066406 L 180.765625 308.0625 L 176.816406 308.054688 L 173.679688 308.046875 L 170.808594 308.035156 L 167.9375 308.019531 L 164.351562 307.996094 L 162.015625 307.976562 L 157.171875 307.921875 L 155.019531 307.890625 L 153.585938 307.867188 L 152.152344 307.839844 L 150.625 307.804688 L 149.191406 307.765625 L 148.113281 307.726562 L 147.128906 307.6875 L 146.410156 307.648438 L 145.691406 307.597656 L 145.332031 307.554688 L 145.15625 307.519531 Z M 145.15625 307.339844 \"/>\n",
       "<path fill-rule=\"nonzero\" fill=\"rgb(83.921569%, 15.686275%, 22.352941%)\" fill-opacity=\"1\" d=\"M 145.15625 181.902344 L 218.707031 181.902344 L 218.707031 191.148438 L 188.050781 191.230469 L 188.050781 268.304688 L 175.71875 268.304688 L 175.71875 191.3125 L 175.539062 191.148438 L 145.15625 191.148438 Z M 145.15625 181.902344 \"/>\n",
       "<path fill-rule=\"nonzero\" fill=\"rgb(6.27451%, 58.823529%, 28.235294%)\" fill-opacity=\"1\" d=\"M 222.578125 308.71875 L 222.65625 308.457031 L 254.480469 27.152344 L 264.148438 27.152344 L 296.128906 308.984375 L 284.894531 308.984375 L 276.878906 235.417969 L 241.75 235.417969 L 233.894531 308.71875 L 222.578125 308.71875 L 245.128906 204.984375 L 273.65625 204.71875 L 259.433594 73.199219 L 259.273438 72.933594 L 259.117188 73.726562 L 245.050781 204.71875 L 245.128906 204.984375 Z M 222.578125 308.71875 \"/>\n",
       "<path fill-rule=\"nonzero\" fill=\"rgb(14.509804%, 36.078431%, 60%)\" fill-opacity=\"1\" d=\"M 222.578125 310.171875 L 222.9375 310.171875 L 223.5625 310.167969 L 224.191406 310.167969 L 225.808594 310.164062 L 228.050781 310.160156 L 230.382812 310.15625 L 233.609375 310.15625 L 237.109375 310.152344 L 244.734375 310.152344 L 246.886719 310.148438 L 275.589844 310.148438 L 279.804688 310.152344 L 285.277344 310.152344 L 287.96875 310.15625 L 291.464844 310.15625 L 293.082031 310.160156 L 294.515625 310.164062 L 295.589844 310.164062 L 296.128906 310.167969 L 283.570312 310.167969 L 282.945312 310.164062 L 282.226562 310.164062 L 280.882812 310.160156 L 277.652344 310.160156 L 275.949219 310.15625 L 244.914062 310.15625 L 243.386719 310.160156 L 240.160156 310.160156 L 238.632812 310.164062 L 237.738281 310.164062 L 236.929688 310.167969 L 235.671875 310.167969 L 235.316406 310.171875 L 235.136719 310.171875 L 235.136719 310.179688 L 235.316406 310.183594 L 235.761719 310.1875 L 236.929688 310.1875 L 238.632812 310.191406 L 240.605469 310.195312 L 245.003906 310.195312 L 247.246094 310.199219 L 275.769531 310.199219 L 277.5625 310.195312 L 279.804688 310.195312 L 281.148438 310.191406 L 282.226562 310.191406 L 283.035156 310.1875 L 296.128906 310.1875 L 295.589844 310.191406 L 293.976562 310.191406 L 292.722656 310.195312 L 291.285156 310.195312 L 289.222656 310.199219 L 285.277344 310.199219 L 283.214844 310.203125 L 273.167969 310.203125 L 270.386719 310.207031 L 249.398438 310.207031 L 244.824219 310.203125 L 236.660156 310.203125 L 234.148438 310.199219 L 230.917969 310.199219 L 228.945312 310.195312 L 227.601562 310.195312 L 226.074219 310.191406 L 225 310.191406 L 223.742188 310.1875 L 222.847656 310.183594 L 222.578125 310.179688 Z M 222.578125 310.171875 \"/>\n",
       "<path fill-rule=\"nonzero\" fill=\"rgb(6.27451%, 58.823529%, 28.235294%)\" fill-opacity=\"1\" d=\"M 300 310.058594 L 300.078125 309.789062 L 331.90625 20.527344 L 341.570312 20.527344 L 373.554688 310.332031 L 362.316406 310.332031 L 354.300781 234.683594 L 319.175781 234.683594 L 311.316406 310.058594 L 300 310.058594 L 322.554688 203.390625 L 351.078125 203.117188 L 336.855469 67.875 L 336.699219 67.601562 L 336.542969 68.417969 L 322.476562 203.117188 L 322.554688 203.390625 Z M 300 310.058594 \"/>\n",
       "<path fill-rule=\"nonzero\" fill=\"rgb(83.921569%, 15.686275%, 22.352941%)\" fill-opacity=\"1\" d=\"M 377.425781 20.527344 L 450.976562 20.527344 L 450.976562 51.546875 L 420.324219 51.820312 L 420.324219 310.332031 L 407.988281 310.332031 L 407.988281 52.09375 L 407.808594 51.546875 L 377.425781 51.546875 Z M 377.425781 20.527344 \"/>\n",
       "<path fill-rule=\"nonzero\" fill=\"rgb(83.921569%, 15.686275%, 22.352941%)\" fill-opacity=\"1\" d=\"M 454.847656 20.527344 L 528.398438 20.527344 L 528.398438 51.546875 L 497.746094 51.820312 L 497.746094 310.332031 L 485.414062 310.332031 L 485.414062 52.09375 L 485.234375 51.546875 L 454.847656 51.546875 Z M 454.847656 20.527344 \"/>\n",
       "<path fill-rule=\"nonzero\" fill=\"rgb(6.27451%, 58.823529%, 28.235294%)\" fill-opacity=\"1\" d=\"M 532.269531 296.332031 L 532.351562 296.117188 L 564.175781 66.136719 L 573.839844 66.136719 L 605.824219 296.546875 L 594.585938 296.546875 L 586.570312 236.402344 L 551.445312 236.402344 L 543.585938 296.332031 L 532.269531 296.332031 L 554.824219 211.523438 L 583.347656 211.308594 L 569.125 103.78125 L 568.96875 103.566406 L 568.8125 104.214844 L 554.746094 211.308594 L 554.824219 211.523438 Z M 532.269531 296.332031 \"/>\n",
       "<path fill-rule=\"nonzero\" fill=\"rgb(96.862745%, 70.196078%, 16.862745%)\" fill-opacity=\"1\" d=\"M 532.269531 303.101562 L 532.359375 303.089844 L 532.359375 302.863281 L 532.71875 302.34375 L 533.617188 301.632812 L 534.78125 301.046875 L 536.039062 300.585938 L 536.84375 300.34375 L 538.191406 300 L 539.355469 299.746094 L 542.316406 299.230469 L 546.085938 298.746094 L 548.148438 298.539062 L 550.480469 298.34375 L 553.796875 298.125 L 555.324219 298.046875 L 559.988281 297.863281 L 565.28125 297.746094 L 571.109375 297.710938 L 573.800781 297.722656 L 577.480469 297.769531 L 582.5 297.894531 L 585.371094 298.011719 L 587.613281 298.125 L 589.945312 298.273438 L 592.816406 298.503906 L 595.507812 298.78125 L 597.660156 299.058594 L 599.8125 299.402344 L 601.609375 299.769531 L 603.132812 300.171875 L 604.476562 300.65625 L 605.285156 301.058594 L 605.824219 301.460938 L 593.355469 301.460938 L 592.636719 301.058594 L 591.832031 300.746094 L 590.484375 300.367188 L 589.140625 300.089844 L 587.792969 299.871094 L 585.28125 299.574219 L 583.128906 299.390625 L 580.4375 299.230469 L 577.835938 299.125 L 574.878906 299.058594 L 573.082031 299.035156 L 568.328125 299.035156 L 564.023438 299.113281 L 561.511719 299.207031 L 559.71875 299.296875 L 557.207031 299.46875 L 555.683594 299.609375 L 554.785156 299.699219 L 552.09375 300.058594 L 550.300781 300.378906 L 549.3125 300.597656 L 548.058594 300.941406 L 547.160156 301.253906 L 546.175781 301.710938 L 545.636719 302.058594 L 544.917969 302.839844 L 544.828125 304.90625 L 545.097656 305.34375 L 545.636719 305.816406 L 546.355469 306.230469 L 547.429688 306.664062 L 548.507812 307 L 550.390625 307.449219 L 552.003906 307.746094 L 553.261719 307.941406 L 555.683594 308.253906 L 556.667969 308.355469 L 559 308.5625 L 561.421875 308.722656 L 564.382812 308.859375 L 566.625 308.929688 L 570.214844 308.988281 L 574.789062 308.988281 L 580.167969 308.917969 L 583.578125 308.828125 L 585.910156 308.734375 L 587.433594 308.65625 L 589.320312 308.527344 L 590.664062 308.414062 L 591.921875 308.285156 L 593.445312 308.089844 L 593.445312 305.34375 L 571.289062 305.332031 L 571.289062 304.046875 L 605.734375 304.035156 L 605.824219 308.527344 L 603.941406 308.839844 L 601.609375 309.136719 L 599.363281 309.367188 L 597.03125 309.5625 L 593.714844 309.78125 L 591.023438 309.917969 L 586.898438 310.078125 L 583.128906 310.183594 L 579.183594 310.253906 L 575.683594 310.285156 L 571.558594 310.296875 L 567.882812 310.273438 L 563.933594 310.207031 L 560.796875 310.113281 L 557.925781 310 L 555.054688 309.851562 L 551.464844 309.609375 L 549.132812 309.414062 L 546.710938 309.171875 L 544.289062 308.882812 L 542.136719 308.574219 L 540.703125 308.332031 L 539.265625 308.058594 L 537.742188 307.710938 L 536.308594 307.320312 L 535.230469 306.964844 L 534.246094 306.5625 L 533.527344 306.183594 L 532.808594 305.664062 L 532.449219 305.253906 L 532.269531 304.894531 Z M 532.269531 303.101562 \"/>\n",
       "<path fill-rule=\"nonzero\" fill=\"rgb(6.27451%, 58.823529%, 28.235294%)\" fill-opacity=\"1\" d=\"M 609.695312 305.976562 L 609.773438 305.976562 L 641.597656 304.890625 L 651.265625 304.890625 L 683.246094 305.976562 L 672.007812 305.976562 L 663.996094 305.695312 L 628.867188 305.695312 L 621.011719 305.976562 L 609.695312 305.976562 L 632.246094 305.574219 L 660.773438 305.574219 L 646.550781 305.066406 L 646.390625 305.066406 L 646.234375 305.070312 L 632.167969 305.574219 L 632.246094 305.574219 Z M 609.695312 305.976562 \"/>\n",
       "<path fill-rule=\"nonzero\" fill=\"rgb(14.509804%, 36.078431%, 60%)\" fill-opacity=\"1\" d=\"M 609.695312 310.285156 L 609.785156 310.285156 L 609.785156 310.28125 L 610.054688 310.277344 L 610.679688 310.273438 L 611.308594 310.273438 L 612.921875 310.269531 L 615.164062 310.261719 L 617.5 310.261719 L 619.203125 310.257812 L 620.726562 310.257812 L 624.226562 310.253906 L 626.46875 310.25 L 634.003906 310.25 L 638.847656 310.246094 L 660.285156 310.246094 L 662.707031 310.25 L 666.921875 310.25 L 670.6875 310.253906 L 672.394531 310.253906 L 675.085938 310.257812 L 677.148438 310.257812 L 678.582031 310.261719 L 680.195312 310.261719 L 681.632812 310.265625 L 682.707031 310.269531 L 683.246094 310.273438 L 670.6875 310.273438 L 670.0625 310.269531 L 669.34375 310.269531 L 667.996094 310.265625 L 666.652344 310.261719 L 664.769531 310.261719 L 663.066406 310.257812 L 654.453125 310.257812 L 650.507812 310.253906 L 644.226562 310.253906 L 640.730469 310.257812 L 634.273438 310.257812 L 632.027344 310.261719 L 630.503906 310.261719 L 628.621094 310.265625 L 627.273438 310.265625 L 625.75 310.269531 L 624.851562 310.269531 L 624.046875 310.273438 L 623.328125 310.273438 L 622.789062 310.277344 L 622.429688 310.28125 L 622.253906 310.285156 L 622.253906 310.296875 L 622.429688 310.296875 L 622.878906 310.300781 L 624.046875 310.304688 L 625.75 310.3125 L 627.722656 310.3125 L 629.605469 310.316406 L 630.683594 310.316406 L 632.117188 310.320312 L 637.589844 310.320312 L 639.472656 310.324219 L 655.082031 310.324219 L 657.503906 310.320312 L 662.886719 310.320312 L 664.679688 310.316406 L 666.921875 310.316406 L 668.265625 310.3125 L 669.34375 310.308594 L 670.152344 310.308594 L 670.6875 310.304688 L 683.246094 310.304688 L 682.707031 310.308594 L 681.902344 310.3125 L 681.09375 310.3125 L 679.839844 310.316406 L 678.402344 310.320312 L 676.339844 310.320312 L 674.636719 310.324219 L 672.394531 310.324219 L 670.332031 310.328125 L 664.769531 310.328125 L 662.617188 310.332031 L 636.515625 310.332031 L 631.941406 310.328125 L 626.019531 310.328125 L 623.777344 310.324219 L 621.265625 310.324219 L 618.035156 310.320312 L 616.0625 310.316406 L 614.71875 310.316406 L 613.191406 310.3125 L 612.117188 310.308594 L 610.859375 310.304688 L 609.964844 310.300781 L 609.695312 310.292969 Z M 609.695312 310.285156 \"/>\n",
       "<path fill-rule=\"nonzero\" fill=\"rgb(96.862745%, 70.196078%, 16.862745%)\" fill-opacity=\"1\" d=\"M 609.695312 307.425781 L 609.785156 307.425781 L 609.785156 307.414062 L 610.144531 307.386719 L 611.039062 307.351562 L 612.207031 307.320312 L 613.460938 307.292969 L 614.269531 307.28125 L 615.613281 307.261719 L 616.78125 307.25 L 619.742188 307.222656 L 623.507812 307.195312 L 625.570312 307.1875 L 627.902344 307.175781 L 631.222656 307.164062 L 632.746094 307.160156 L 637.410156 307.148438 L 642.703125 307.144531 L 648.535156 307.140625 L 651.222656 307.140625 L 654.902344 307.144531 L 659.925781 307.152344 L 662.796875 307.15625 L 665.039062 307.164062 L 667.371094 307.171875 L 670.242188 307.183594 L 672.929688 307.199219 L 675.085938 307.214844 L 677.238281 307.230469 L 679.03125 307.25 L 680.554688 307.273438 L 681.902344 307.296875 L 682.707031 307.320312 L 683.246094 307.339844 L 670.777344 307.339844 L 670.0625 307.320312 L 669.253906 307.304688 L 667.910156 307.28125 L 666.5625 307.269531 L 665.21875 307.257812 L 662.707031 307.242188 L 660.554688 307.230469 L 657.863281 307.222656 L 655.261719 307.21875 L 652.300781 307.214844 L 650.507812 307.210938 L 645.753906 307.210938 L 641.449219 307.214844 L 638.9375 307.222656 L 637.140625 307.226562 L 634.628906 307.234375 L 633.105469 307.242188 L 632.207031 307.246094 L 629.519531 307.265625 L 627.722656 307.285156 L 626.738281 307.292969 L 625.480469 307.3125 L 624.585938 307.328125 L 623.597656 307.355469 L 623.058594 307.371094 L 622.34375 307.414062 L 622.253906 307.523438 L 622.519531 307.546875 L 623.058594 307.570312 L 623.777344 307.59375 L 624.851562 307.617188 L 625.929688 307.632812 L 627.8125 307.65625 L 629.429688 307.671875 L 630.683594 307.683594 L 633.105469 307.699219 L 634.09375 307.707031 L 636.425781 307.71875 L 638.847656 307.726562 L 641.804688 307.734375 L 644.046875 307.738281 L 652.210938 307.738281 L 657.59375 307.734375 L 661 307.730469 L 663.332031 307.726562 L 664.859375 307.722656 L 666.742188 307.714844 L 668.085938 307.710938 L 669.34375 307.703125 L 670.867188 307.691406 L 670.867188 307.546875 L 648.714844 307.546875 L 648.714844 307.476562 L 683.15625 307.476562 L 683.246094 307.714844 L 681.363281 307.730469 L 679.03125 307.746094 L 676.789062 307.757812 L 674.457031 307.769531 L 671.136719 307.78125 L 668.445312 307.789062 L 664.320312 307.796875 L 660.554688 307.804688 L 656.605469 307.808594 L 645.304688 307.808594 L 641.359375 307.804688 L 638.21875 307.800781 L 632.476562 307.785156 L 628.890625 307.773438 L 626.558594 307.761719 L 624.136719 307.75 L 621.714844 307.734375 L 619.5625 307.71875 L 618.125 307.703125 L 616.691406 307.691406 L 615.164062 307.671875 L 613.730469 307.652344 L 612.65625 307.632812 L 611.667969 307.609375 L 610.949219 307.589844 L 610.234375 307.5625 L 609.875 307.542969 L 609.695312 307.523438 Z M 609.695312 307.425781 \"/>\n",
       "<path fill-rule=\"nonzero\" fill=\"rgb(83.921569%, 15.686275%, 22.352941%)\" fill-opacity=\"1\" d=\"M 609.695312 308.972656 L 683.246094 308.972656 L 683.246094 308.984375 L 652.59375 308.984375 L 652.59375 309.082031 L 640.257812 309.082031 L 640.257812 308.984375 L 609.695312 308.984375 Z M 609.695312 308.972656 \"/>\n",
       "<g fill=\"rgb(0%, 0%, 0%)\" fill-opacity=\"1\">\n",
       "<use xlink:href=\"#glyph-0-1\" x=\"20.964844\" y=\"314.993164\"/>\n",
       "<use xlink:href=\"#glyph-0-2\" x=\"25.964844\" y=\"314.993164\"/>\n",
       "<use xlink:href=\"#glyph-0-1\" x=\"28.964844\" y=\"314.993164\"/>\n",
       "</g>\n",
       "<g fill=\"rgb(0%, 0%, 0%)\" fill-opacity=\"1\">\n",
       "<use xlink:href=\"#glyph-0-1\" x=\"20.964844\" y=\"242.250977\"/>\n",
       "<use xlink:href=\"#glyph-0-2\" x=\"25.964844\" y=\"242.250977\"/>\n",
       "<use xlink:href=\"#glyph-0-3\" x=\"28.964844\" y=\"242.250977\"/>\n",
       "</g>\n",
       "<g fill=\"rgb(0%, 0%, 0%)\" fill-opacity=\"1\">\n",
       "<use xlink:href=\"#glyph-0-4\" x=\"20.964844\" y=\"169.508789\"/>\n",
       "<use xlink:href=\"#glyph-0-2\" x=\"25.964844\" y=\"169.508789\"/>\n",
       "<use xlink:href=\"#glyph-0-1\" x=\"28.964844\" y=\"169.508789\"/>\n",
       "</g>\n",
       "<g fill=\"rgb(0%, 0%, 0%)\" fill-opacity=\"1\">\n",
       "<use xlink:href=\"#glyph-0-4\" x=\"20.964844\" y=\"96.766602\"/>\n",
       "<use xlink:href=\"#glyph-0-2\" x=\"25.964844\" y=\"96.766602\"/>\n",
       "<use xlink:href=\"#glyph-0-3\" x=\"28.964844\" y=\"96.766602\"/>\n",
       "</g>\n",
       "<g fill=\"rgb(0%, 0%, 0%)\" fill-opacity=\"1\">\n",
       "<use xlink:href=\"#glyph-0-5\" x=\"20.964844\" y=\"24.024414\"/>\n",
       "<use xlink:href=\"#glyph-0-2\" x=\"25.964844\" y=\"24.024414\"/>\n",
       "<use xlink:href=\"#glyph-0-1\" x=\"28.964844\" y=\"24.024414\"/>\n",
       "</g>\n",
       "<g fill=\"rgb(0%, 0%, 0%)\" fill-opacity=\"1\">\n",
       "<use xlink:href=\"#glyph-0-4\" x=\"102.007812\" y=\"337.532227\"/>\n",
       "</g>\n",
       "<g fill=\"rgb(0%, 0%, 0%)\" fill-opacity=\"1\">\n",
       "<use xlink:href=\"#glyph-0-5\" x=\"179.429688\" y=\"337.532227\"/>\n",
       "</g>\n",
       "<g fill=\"rgb(0%, 0%, 0%)\" fill-opacity=\"1\">\n",
       "<use xlink:href=\"#glyph-0-6\" x=\"256.855469\" y=\"337.532227\"/>\n",
       "</g>\n",
       "<g fill=\"rgb(0%, 0%, 0%)\" fill-opacity=\"1\">\n",
       "<use xlink:href=\"#glyph-0-7\" x=\"334.277344\" y=\"337.532227\"/>\n",
       "</g>\n",
       "<g fill=\"rgb(0%, 0%, 0%)\" fill-opacity=\"1\">\n",
       "<use xlink:href=\"#glyph-0-3\" x=\"411.699219\" y=\"337.532227\"/>\n",
       "</g>\n",
       "<g fill=\"rgb(0%, 0%, 0%)\" fill-opacity=\"1\">\n",
       "<use xlink:href=\"#glyph-0-8\" x=\"489.125\" y=\"337.532227\"/>\n",
       "</g>\n",
       "<g fill=\"rgb(0%, 0%, 0%)\" fill-opacity=\"1\">\n",
       "<use xlink:href=\"#glyph-0-9\" x=\"566.546875\" y=\"337.532227\"/>\n",
       "</g>\n",
       "<g fill=\"rgb(0%, 0%, 0%)\" fill-opacity=\"1\">\n",
       "<use xlink:href=\"#glyph-0-10\" x=\"643.96875\" y=\"337.532227\"/>\n",
       "</g>\n",
       "<g fill=\"rgb(0%, 0%, 0%)\" fill-opacity=\"1\">\n",
       "<use xlink:href=\"#glyph-1-1\" x=\"14.724609\" y=\"176.011719\"/>\n",
       "<use xlink:href=\"#glyph-1-2\" x=\"14.724609\" y=\"168.011719\"/>\n",
       "<use xlink:href=\"#glyph-1-3\" x=\"14.724609\" y=\"165.011719\"/>\n",
       "<use xlink:href=\"#glyph-1-4\" x=\"14.724609\" y=\"162.011719\"/>\n",
       "</g>\n",
       "</svg>"
      ],
      "text/plain": [
       "<IPython.core.display.SVG object>"
      ]
     },
     "metadata": {},
     "output_type": "display_data"
    }
   ],
   "source": [
    "selected_motif_id = \"MA0075.3\"\n",
    "print(selected_motif_id)\n",
    "try:\n",
    "    display(SVG(f\"https://jaspar.genereg.net/static/logos/all/svg/{selected_motif_id}.svg\"))\n",
    "except Exception as e:\n",
    "    print(e)"
   ]
  },
  {
   "cell_type": "code",
   "execution_count": 13,
   "metadata": {
    "ExecuteTime": {
     "end_time": "2023-09-20T09:45:07.603362Z",
     "start_time": "2023-09-20T09:45:07.593693Z"
    }
   },
   "outputs": [],
   "source": [
    "# These were accumulated manually\n",
    "\n",
    "motifs_with_atypical_score_hit_distributions = {\n",
    "    \"AT_rich\":[\n",
    "        \"MA0075.3\", # TAATTA\n",
    "        \"MA0158.2\", # TAATTA\n",
    "        \"MA0666.2\", # CAATTA\n",
    "        \"MA0612.2\", # TAATTA\n",
    "        \"MA0703.2\", # TTAATTA\n",
    "        \"MA0709.1\", # CAATTA\n",
    "        \"MA0910.2\", # CAATTA\n",
    "        \"MA0900.2\", # AATTA\n",
    "        \"MA0902.2\", # AATTA\n",
    "        \"MA1473.1\", # GCAATAAA\n",
    "        \"MA1499.1\", # AATTA\n",
    "        \"MA1495.1\", # AATTA\n",
    "        \"MA1502.1\", # AATTA\n",
    "        \"MA1507.1\", # AATTA\n",
    "        \"MA1577.1\", # AATTA\n",
    "    ],\n",
    "    \"short_high_IC\":[\n",
    "        \"MA0006.1\", # GCGTG, High information content (0 or 2 bits per nt), short\n",
    "        \"MA0164.1\", # High information content (0 or 2 bits per nt), short\n",
    "        \"MA0498.2\", # High information content (0 or 2 bits per nt), short\n",
    "        \"MA0633.2\", # High information content (0 or 2 bits per nt), short\n",
    "        \"MA0670.1\", # High information content (0 or 2 bits per nt), short\n",
    "        \"MA1153.1\", # High information content (0 or 2 bits per nt), short\n",
    "        \"MA1684.1\", # High information content (0 or 2 bits per nt), short\n",
    "        \"MA1993.1\", # High information content (0 or 2 bits per nt), short\n",
    "    ],\n",
    "    \"long_repeats\":[\n",
    "        \"MA0079.5\", # Long, G's\n",
    "        \"MA0149.1\", # Long, GGAAGGAAGGAA\n",
    "        \"MA0516.3\", # Long, G's\n",
    "        \"MA0599.1\", # Long, C's\n",
    "        \"MA0740.2\", # Long, G's\n",
    "    ],\n",
    "    \"palindromic_or_paired\":[ # Tends to be unimodal or bimodal.\n",
    "        \"MA0004.1\", # RC palindrom CACGTG\n",
    "        \"MA0476.1\", # SL, TGA_TCA\n",
    "        \"MA0728.1\", # Long, pair of AGGTCA\n",
    "        \"MA0729.1\", # Long, pair of AGGTCA\n",
    "        \"MA0605.2\", # RC palindrome TGACGTCA\n",
    "        \"MA0619.1\", # RC Palindrome TTCGAA\n",
    "        \"MA1099.2\", # RC palindrome CGCGTG\n",
    "        \"MA1569.1\", # dyad symmetry, CC___GG\n",
    "    ],\n",
    "    \"other\":[\n",
    "        \"MA0042.2\", # 4/7 are A\n",
    "        \"MA0479.1\", # AATCCACA\n",
    "        \"MA0848.1\", # A rich\n",
    "        \"MA1155.1\", # CACACA\n",
    "        \"MA1563.2\", # Nothing particular.\n",
    "        \"MA1965.1\", # CCTCCC\n",
    "    ],\n",
    "}"
   ]
  },
  {
   "cell_type": "code",
   "execution_count": 14,
   "metadata": {
    "ExecuteTime": {
     "end_time": "2023-09-20T09:45:08.050420Z",
     "start_time": "2023-09-20T09:45:07.607661Z"
    }
   },
   "outputs": [
    {
     "data": {
      "image/png": "[encoded data removed]",
      "text/plain": [
       "<Figure size 640x480 with 1 Axes>"
      ]
     },
     "metadata": {},
     "output_type": "display_data"
    }
   ],
   "source": [
    "list_motifs_of_interest = motifs_with_atypical_score_hit_distributions['AT_rich']\n",
    "\n",
    "tmp_accumulated_hits = pd.concat([\n",
    "    DATA.input.motifs.hits[motif_id].assign(motif_id=motif_id)\n",
    "    for motif_id in list_motifs_of_interest\n",
    "])\n",
    "\n",
    "sns.kdeplot(\n",
    "    data=tmp_accumulated_hits,\n",
    "    x='score',\n",
    "    hue='motif_id',\n",
    "    common_norm=False,\n",
    "    cumulative=False,\n",
    "    legend=True,\n",
    ")\n",
    "\n",
    "\n",
    "plt.xlim(-1,22)\n",
    "plt.title(\"\\\"Typical\\\" hit score distributions\")\n",
    "\n",
    "plt.show()"
   ]
  },
  {
   "cell_type": "markdown",
   "metadata": {},
   "source": [
    "While some of the \"atypical\" motifs sort-of make sense w.r.t their hit scores distributions,\n",
    "(e.g. the dyads and RC pairs), others are more difficult to explain.\n",
    "\n",
    "For instance: the ATTAA set could be expected to have a symilar, atypical distribution,\n",
    "but we observe a diversity of distributions.\n"
   ]
  },
  {
   "cell_type": "markdown",
   "metadata": {},
   "source": [
    "## Processing the hits"
   ]
  },
  {
   "cell_type": "code",
   "execution_count": 15,
   "metadata": {
    "ExecuteTime": {
     "end_time": "2023-09-20T09:46:03.636622Z",
     "start_time": "2023-09-20T09:45:08.052438Z"
    }
   },
   "outputs": [
    {
     "ename": "KeyboardInterrupt",
     "evalue": "",
     "output_type": "error",
     "traceback": [
      "\u001b[0;31m---------------------------------------------------------------------------\u001b[0m",
      "\u001b[0;31mKeyboardInterrupt\u001b[0m                         Traceback (most recent call last)",
      "Cell \u001b[0;32mIn[15], line 31\u001b[0m\n\u001b[1;32m     28\u001b[0m data_hits[\u001b[38;5;124m'\u001b[39m\u001b[38;5;124mmirnas\u001b[39m\u001b[38;5;124m'\u001b[39m] \u001b[38;5;241m=\u001b[39m mirnas_sets_as_string\n\u001b[1;32m     30\u001b[0m \u001b[38;5;66;03m# This will be used downstream to drop the promoters which are associated with miRNAs that are not measured.\u001b[39;00m\n\u001b[0;32m---> 31\u001b[0m data_hits[\u001b[38;5;124m'\u001b[39m\u001b[38;5;124mhas_measured_mirnas\u001b[39m\u001b[38;5;124m'\u001b[39m] \u001b[38;5;241m=\u001b[39m \u001b[43mmirnas_sets\u001b[49m\u001b[38;5;241;43m.\u001b[39;49m\u001b[43mapply\u001b[49m\u001b[43m(\u001b[49m\u001b[38;5;28;43;01mlambda\u001b[39;49;00m\u001b[43m \u001b[49m\u001b[43mv\u001b[49m\u001b[43m:\u001b[49m\u001b[43m \u001b[49m\u001b[38;5;28;43mlen\u001b[39;49m\u001b[43m(\u001b[49m\u001b[38;5;28;43mset\u001b[39;49m\u001b[43m(\u001b[49m\u001b[43mv\u001b[49m\u001b[43m)\u001b[49m\u001b[43m \u001b[49m\u001b[38;5;241;43m&\u001b[39;49m\u001b[43m \u001b[49m\u001b[38;5;28;43mset\u001b[39;49m\u001b[43m(\u001b[49m\u001b[43mDATA\u001b[49m\u001b[43m[\u001b[49m\u001b[38;5;124;43m'\u001b[39;49m\u001b[38;5;124;43minput\u001b[39;49m\u001b[38;5;124;43m'\u001b[39;49m\u001b[43m]\u001b[49m\u001b[43m[\u001b[49m\u001b[38;5;124;43m'\u001b[39;49m\u001b[38;5;124;43mmirnas\u001b[39;49m\u001b[38;5;124;43m'\u001b[39;49m\u001b[43m]\u001b[49m\u001b[43m[\u001b[49m\u001b[38;5;124;43m'\u001b[39;49m\u001b[38;5;124;43mivv_ivt_clustered\u001b[39;49m\u001b[38;5;124;43m'\u001b[39;49m\u001b[43m]\u001b[49m\u001b[38;5;241;43m.\u001b[39;49m\u001b[43mindex\u001b[49m\u001b[38;5;241;43m.\u001b[39;49m\u001b[43mvalues\u001b[49m\u001b[43m)\u001b[49m\u001b[43m)\u001b[49m\u001b[38;5;241;43m>\u001b[39;49m\u001b[38;5;241;43m0\u001b[39;49m\u001b[43m)\u001b[49m\n\u001b[1;32m     33\u001b[0m all_hits_list\u001b[38;5;241m.\u001b[39mappend(data_hits)\n",
      "File \u001b[0;32m~/miniconda3/envs/hzmdev/lib/python3.9/site-packages/pandas/core/series.py:4771\u001b[0m, in \u001b[0;36mSeries.apply\u001b[0;34m(self, func, convert_dtype, args, **kwargs)\u001b[0m\n\u001b[1;32m   4661\u001b[0m \u001b[38;5;28;01mdef\u001b[39;00m \u001b[38;5;21mapply\u001b[39m(\n\u001b[1;32m   4662\u001b[0m     \u001b[38;5;28mself\u001b[39m,\n\u001b[1;32m   4663\u001b[0m     func: AggFuncType,\n\u001b[0;32m   (...)\u001b[0m\n\u001b[1;32m   4666\u001b[0m     \u001b[38;5;241m*\u001b[39m\u001b[38;5;241m*\u001b[39mkwargs,\n\u001b[1;32m   4667\u001b[0m ) \u001b[38;5;241m-\u001b[39m\u001b[38;5;241m>\u001b[39m DataFrame \u001b[38;5;241m|\u001b[39m Series:\n\u001b[1;32m   4668\u001b[0m \u001b[38;5;250m    \u001b[39m\u001b[38;5;124;03m\"\"\"\u001b[39;00m\n\u001b[1;32m   4669\u001b[0m \u001b[38;5;124;03m    Invoke function on values of Series.\u001b[39;00m\n\u001b[1;32m   4670\u001b[0m \n\u001b[0;32m   (...)\u001b[0m\n\u001b[1;32m   4769\u001b[0m \u001b[38;5;124;03m    dtype: float64\u001b[39;00m\n\u001b[1;32m   4770\u001b[0m \u001b[38;5;124;03m    \"\"\"\u001b[39;00m\n\u001b[0;32m-> 4771\u001b[0m     \u001b[38;5;28;01mreturn\u001b[39;00m \u001b[43mSeriesApply\u001b[49m\u001b[43m(\u001b[49m\u001b[38;5;28;43mself\u001b[39;49m\u001b[43m,\u001b[49m\u001b[43m \u001b[49m\u001b[43mfunc\u001b[49m\u001b[43m,\u001b[49m\u001b[43m \u001b[49m\u001b[43mconvert_dtype\u001b[49m\u001b[43m,\u001b[49m\u001b[43m \u001b[49m\u001b[43margs\u001b[49m\u001b[43m,\u001b[49m\u001b[43m \u001b[49m\u001b[43mkwargs\u001b[49m\u001b[43m)\u001b[49m\u001b[38;5;241;43m.\u001b[39;49m\u001b[43mapply\u001b[49m\u001b[43m(\u001b[49m\u001b[43m)\u001b[49m\n",
      "File \u001b[0;32m~/miniconda3/envs/hzmdev/lib/python3.9/site-packages/pandas/core/apply.py:1123\u001b[0m, in \u001b[0;36mSeriesApply.apply\u001b[0;34m(self)\u001b[0m\n\u001b[1;32m   1120\u001b[0m     \u001b[38;5;28;01mreturn\u001b[39;00m \u001b[38;5;28mself\u001b[39m\u001b[38;5;241m.\u001b[39mapply_str()\n\u001b[1;32m   1122\u001b[0m \u001b[38;5;66;03m# self.f is Callable\u001b[39;00m\n\u001b[0;32m-> 1123\u001b[0m \u001b[38;5;28;01mreturn\u001b[39;00m \u001b[38;5;28;43mself\u001b[39;49m\u001b[38;5;241;43m.\u001b[39;49m\u001b[43mapply_standard\u001b[49m\u001b[43m(\u001b[49m\u001b[43m)\u001b[49m\n",
      "File \u001b[0;32m~/miniconda3/envs/hzmdev/lib/python3.9/site-packages/pandas/core/apply.py:1174\u001b[0m, in \u001b[0;36mSeriesApply.apply_standard\u001b[0;34m(self)\u001b[0m\n\u001b[1;32m   1172\u001b[0m     \u001b[38;5;28;01melse\u001b[39;00m:\n\u001b[1;32m   1173\u001b[0m         values \u001b[38;5;241m=\u001b[39m obj\u001b[38;5;241m.\u001b[39mastype(\u001b[38;5;28mobject\u001b[39m)\u001b[38;5;241m.\u001b[39m_values\n\u001b[0;32m-> 1174\u001b[0m         mapped \u001b[38;5;241m=\u001b[39m \u001b[43mlib\u001b[49m\u001b[38;5;241;43m.\u001b[39;49m\u001b[43mmap_infer\u001b[49m\u001b[43m(\u001b[49m\n\u001b[1;32m   1175\u001b[0m \u001b[43m            \u001b[49m\u001b[43mvalues\u001b[49m\u001b[43m,\u001b[49m\n\u001b[1;32m   1176\u001b[0m \u001b[43m            \u001b[49m\u001b[43mf\u001b[49m\u001b[43m,\u001b[49m\n\u001b[1;32m   1177\u001b[0m \u001b[43m            \u001b[49m\u001b[43mconvert\u001b[49m\u001b[38;5;241;43m=\u001b[39;49m\u001b[38;5;28;43mself\u001b[39;49m\u001b[38;5;241;43m.\u001b[39;49m\u001b[43mconvert_dtype\u001b[49m\u001b[43m,\u001b[49m\n\u001b[1;32m   1178\u001b[0m \u001b[43m        \u001b[49m\u001b[43m)\u001b[49m\n\u001b[1;32m   1180\u001b[0m \u001b[38;5;28;01mif\u001b[39;00m \u001b[38;5;28mlen\u001b[39m(mapped) \u001b[38;5;129;01mand\u001b[39;00m \u001b[38;5;28misinstance\u001b[39m(mapped[\u001b[38;5;241m0\u001b[39m], ABCSeries):\n\u001b[1;32m   1181\u001b[0m     \u001b[38;5;66;03m# GH#43986 Need to do list(mapped) in order to get treated as nested\u001b[39;00m\n\u001b[1;32m   1182\u001b[0m     \u001b[38;5;66;03m#  See also GH#25959 regarding EA support\u001b[39;00m\n\u001b[1;32m   1183\u001b[0m     \u001b[38;5;28;01mreturn\u001b[39;00m obj\u001b[38;5;241m.\u001b[39m_constructor_expanddim(\u001b[38;5;28mlist\u001b[39m(mapped), index\u001b[38;5;241m=\u001b[39mobj\u001b[38;5;241m.\u001b[39mindex)\n",
      "File \u001b[0;32m~/miniconda3/envs/hzmdev/lib/python3.9/site-packages/pandas/_libs/lib.pyx:2924\u001b[0m, in \u001b[0;36mpandas._libs.lib.map_infer\u001b[0;34m()\u001b[0m\n",
      "Cell \u001b[0;32mIn[15], line 31\u001b[0m, in \u001b[0;36m<lambda>\u001b[0;34m(v)\u001b[0m\n\u001b[1;32m     28\u001b[0m data_hits[\u001b[38;5;124m'\u001b[39m\u001b[38;5;124mmirnas\u001b[39m\u001b[38;5;124m'\u001b[39m] \u001b[38;5;241m=\u001b[39m mirnas_sets_as_string\n\u001b[1;32m     30\u001b[0m \u001b[38;5;66;03m# This will be used downstream to drop the promoters which are associated with miRNAs that are not measured.\u001b[39;00m\n\u001b[0;32m---> 31\u001b[0m data_hits[\u001b[38;5;124m'\u001b[39m\u001b[38;5;124mhas_measured_mirnas\u001b[39m\u001b[38;5;124m'\u001b[39m] \u001b[38;5;241m=\u001b[39m mirnas_sets\u001b[38;5;241m.\u001b[39mapply(\u001b[38;5;28;01mlambda\u001b[39;00m v: \u001b[38;5;28mlen\u001b[39m(\u001b[38;5;28mset\u001b[39m(v) \u001b[38;5;241m&\u001b[39m \u001b[38;5;28;43mset\u001b[39;49m\u001b[43m(\u001b[49m\u001b[43mDATA\u001b[49m\u001b[43m[\u001b[49m\u001b[38;5;124;43m'\u001b[39;49m\u001b[38;5;124;43minput\u001b[39;49m\u001b[38;5;124;43m'\u001b[39;49m\u001b[43m]\u001b[49m\u001b[43m[\u001b[49m\u001b[38;5;124;43m'\u001b[39;49m\u001b[38;5;124;43mmirnas\u001b[39;49m\u001b[38;5;124;43m'\u001b[39;49m\u001b[43m]\u001b[49m\u001b[43m[\u001b[49m\u001b[38;5;124;43m'\u001b[39;49m\u001b[38;5;124;43mivv_ivt_clustered\u001b[39;49m\u001b[38;5;124;43m'\u001b[39;49m\u001b[43m]\u001b[49m\u001b[38;5;241;43m.\u001b[39;49m\u001b[43mindex\u001b[49m\u001b[38;5;241;43m.\u001b[39;49m\u001b[43mvalues\u001b[49m\u001b[43m)\u001b[49m)\u001b[38;5;241m>\u001b[39m\u001b[38;5;241m0\u001b[39m)\n\u001b[1;32m     33\u001b[0m all_hits_list\u001b[38;5;241m.\u001b[39mappend(data_hits)\n",
      "\u001b[0;31mKeyboardInterrupt\u001b[0m: "
     ]
    }
   ],
   "source": [
    "all_hits_list = []\n",
    "outliers_quantile = 0.90 # clip all hits with larger scores than the NNth percentile to that value.\n",
    "minmax_scalers = {}\n",
    "\n",
    "PARAMS['motif_hit_score_normalization_outliers_quantile'] = outliers_quantile\n",
    "\n",
    "\n",
    "for motif_id, data_hits in DATA.input.motifs.hits.items():\n",
    "    motif_name = DATA.input.motifs.motif_ac_to_name[motif_id]\n",
    "    data_hits = data_hits.copy()\n",
    "    mirnas_sets = data_hits['name'].map(DATA.input.promoters.seqid_to_mirna)\n",
    "    mirnas_sets_as_string = mirnas_sets.apply(lambda v: ','.join(v))\n",
    "\n",
    "    data_max_robust = data_hits['score'].quantile(outliers_quantile)\n",
    "    data_hits['score_clipped'] = data_hits['score'].clip(lower=None, upper=data_max_robust)\n",
    "\n",
    "    minmax_scaler = sklearn.preprocessing.MinMaxScaler(feature_range=(0,1))\n",
    "    minmax_scaler.fit(data_hits.loc[:,['score_clipped']])\n",
    "    score_norm = minmax_scaler.transform(data_hits.loc[:,['score_clipped']]).flatten()\n",
    "\n",
    "    minmax_scalers[motif_id] = minmax_scaler\n",
    "\n",
    "    data_hits['motif_id'] = motif_id\n",
    "    data_hits['max_score'] = data_hits['score'].max()\n",
    "    data_hits['max_score_robust'] = data_max_robust\n",
    "    data_hits['score_norm'] = score_norm\n",
    "    data_hits['motif_name'] = motif_name\n",
    "    data_hits['mirnas'] = mirnas_sets_as_string\n",
    "\n",
    "    # This will be used downstream to drop the promoters which are associated with miRNAs that are not measured.\n",
    "    data_hits['has_measured_mirnas'] = mirnas_sets.apply(lambda v: len(set(v) & set(DATA['input']['mirnas']['ivv_ivt_clustered'].index.values))>0)\n",
    "\n",
    "    all_hits_list.append(data_hits)\n"
   ]
  },
  {
   "cell_type": "code",
   "execution_count": 15,
   "metadata": {
    "ExecuteTime": {
     "end_time": "2023-09-20T09:46:06.806591Z",
     "start_time": "2023-09-20T09:46:03.638232Z"
    }
   },
   "outputs": [],
   "source": [
    "all_hits = pd.concat(all_hits_list, axis=0, ignore_index=True)\n",
    "measured_mirnas_proms_hits = all_hits.loc[lambda df: df['has_measured_mirnas'],:].copy()\n",
    "\n",
    "all_hits['score_rank'] = all_hits['score'].rank(ascending=False)\n",
    "all_hits['score_norm_rank'] = all_hits['score_norm'].rank(ascending=False)\n",
    "\n",
    "\n",
    "measured_mirnas_proms_hits['score_rank'] = measured_mirnas_proms_hits['score'].rank(ascending=False)\n",
    "measured_mirnas_proms_hits['score_norm_rank'] = measured_mirnas_proms_hits['score_norm'].rank(ascending=False)"
   ]
  },
  {
   "cell_type": "code",
   "execution_count": 17,
   "metadata": {
    "ExecuteTime": {
     "end_time": "2023-09-20T09:46:07.231635Z",
     "start_time": "2023-09-20T09:46:06.808099Z"
    }
   },
   "outputs": [
    {
     "name": "stdout",
     "output_type": "stream",
     "text": [
      "Total set of motif hits: 5,389,949 from 841 motifs in 641 promoters.\n",
      "Subset of motif hits in prom. with measured miRNAs: 880,714 from 840 motifs in 105 promoters.\n"
     ]
    }
   ],
   "source": [
    "print(f\"Total set of motif hits: {all_hits.shape[0]:,} from {all_hits['motif_id'].unique().shape[0]} motifs in {all_hits['name'].unique().shape[0]:,} promoters.\")\n",
    "print(f\"Subset of motif hits in prom. with measured miRNAs: {measured_mirnas_proms_hits.shape[0]:,} from {measured_mirnas_proms_hits['motif_id'].unique().shape[0]} motifs in {measured_mirnas_proms_hits['name'].unique().shape[0]:,} promoters.\")"
   ]
  },
  {
   "cell_type": "code",
   "execution_count": 18,
   "metadata": {
    "ExecuteTime": {
     "end_time": "2023-09-20T09:46:30.761199Z",
     "start_time": "2023-09-20T09:46:30.748808Z"
    }
   },
   "outputs": [
    {
     "data": {
      "text/html": [
       "<div>\n",
       "<style scoped>\n",
       "    .dataframe tbody tr th:only-of-type {\n",
       "        vertical-align: middle;\n",
       "    }\n",
       "\n",
       "    .dataframe tbody tr th {\n",
       "        vertical-align: top;\n",
       "    }\n",
       "\n",
       "    .dataframe thead th {\n",
       "        text-align: right;\n",
       "    }\n",
       "</style>\n",
       "<table border=\"1\" class=\"dataframe\">\n",
       "  <thead>\n",
       "    <tr style=\"text-align: right;\">\n",
       "      <th></th>\n",
       "      <th>chrom</th>\n",
       "      <th>start</th>\n",
       "      <th>end</th>\n",
       "      <th>name</th>\n",
       "      <th>score</th>\n",
       "      <th>strand</th>\n",
       "      <th>metadata</th>\n",
       "      <th>score_clipped</th>\n",
       "      <th>motif_id</th>\n",
       "      <th>max_score</th>\n",
       "      <th>max_score_robust</th>\n",
       "      <th>score_norm</th>\n",
       "      <th>motif_name</th>\n",
       "      <th>mirnas</th>\n",
       "      <th>has_measured_mirnas</th>\n",
       "      <th>score_rank</th>\n",
       "      <th>score_norm_rank</th>\n",
       "    </tr>\n",
       "  </thead>\n",
       "  <tbody>\n",
       "    <tr>\n",
       "      <th>0</th>\n",
       "      <td>chr1</td>\n",
       "      <td>20680691</td>\n",
       "      <td>20680702</td>\n",
       "      <td>1:20680448-20682449(+)</td>\n",
       "      <td>1.3</td>\n",
       "      <td>+</td>\n",
       "      <td>{'sequence': 'CTATCATTAGAA', 'Pval': 0.0041, '...</td>\n",
       "      <td>1.3</td>\n",
       "      <td>MA0070.1</td>\n",
       "      <td>12.8</td>\n",
       "      <td>4.7</td>\n",
       "      <td>0.081081</td>\n",
       "      <td>PBX1</td>\n",
       "      <td>mmu-miR-133b-3p,mmu-miR-133b-5p</td>\n",
       "      <td>False</td>\n",
       "      <td>4578638.5</td>\n",
       "      <td>4505753.5</td>\n",
       "    </tr>\n",
       "    <tr>\n",
       "      <th>1</th>\n",
       "      <td>chr1</td>\n",
       "      <td>20680840</td>\n",
       "      <td>20680851</td>\n",
       "      <td>1:20680448-20682449(+)</td>\n",
       "      <td>7.6</td>\n",
       "      <td>+</td>\n",
       "      <td>{'sequence': 'ACAACATTCATA', 'Pval': 6.1e-05, ...</td>\n",
       "      <td>4.7</td>\n",
       "      <td>MA0070.1</td>\n",
       "      <td>12.8</td>\n",
       "      <td>4.7</td>\n",
       "      <td>1.000000</td>\n",
       "      <td>PBX1</td>\n",
       "      <td>mmu-miR-133b-3p,mmu-miR-133b-5p</td>\n",
       "      <td>False</td>\n",
       "      <td>118778.5</td>\n",
       "      <td>219039.0</td>\n",
       "    </tr>\n",
       "    <tr>\n",
       "      <th>2</th>\n",
       "      <td>chr1</td>\n",
       "      <td>20680847</td>\n",
       "      <td>20680858</td>\n",
       "      <td>1:20680448-20682449(+)</td>\n",
       "      <td>2.3</td>\n",
       "      <td>+</td>\n",
       "      <td>{'sequence': 'TCATACATGATA', 'Pval': 0.0023, '...</td>\n",
       "      <td>2.3</td>\n",
       "      <td>MA0070.1</td>\n",
       "      <td>12.8</td>\n",
       "      <td>4.7</td>\n",
       "      <td>0.351351</td>\n",
       "      <td>PBX1</td>\n",
       "      <td>mmu-miR-133b-3p,mmu-miR-133b-5p</td>\n",
       "      <td>False</td>\n",
       "      <td>2802433.5</td>\n",
       "      <td>2595961.0</td>\n",
       "    </tr>\n",
       "  </tbody>\n",
       "</table>\n",
       "</div>"
      ],
      "text/plain": [
       "  chrom     start       end                    name  score strand  \\\n",
       "0  chr1  20680691  20680702  1:20680448-20682449(+)    1.3      +   \n",
       "1  chr1  20680840  20680851  1:20680448-20682449(+)    7.6      +   \n",
       "2  chr1  20680847  20680858  1:20680448-20682449(+)    2.3      +   \n",
       "\n",
       "                                            metadata  score_clipped  motif_id  \\\n",
       "0  {'sequence': 'CTATCATTAGAA', 'Pval': 0.0041, '...            1.3  MA0070.1   \n",
       "1  {'sequence': 'ACAACATTCATA', 'Pval': 6.1e-05, ...            4.7  MA0070.1   \n",
       "2  {'sequence': 'TCATACATGATA', 'Pval': 0.0023, '...            2.3  MA0070.1   \n",
       "\n",
       "   max_score  max_score_robust  score_norm motif_name  \\\n",
       "0       12.8               4.7    0.081081       PBX1   \n",
       "1       12.8               4.7    1.000000       PBX1   \n",
       "2       12.8               4.7    0.351351       PBX1   \n",
       "\n",
       "                            mirnas  has_measured_mirnas  score_rank  \\\n",
       "0  mmu-miR-133b-3p,mmu-miR-133b-5p                False   4578638.5   \n",
       "1  mmu-miR-133b-3p,mmu-miR-133b-5p                False    118778.5   \n",
       "2  mmu-miR-133b-3p,mmu-miR-133b-5p                False   2802433.5   \n",
       "\n",
       "   score_norm_rank  \n",
       "0        4505753.5  \n",
       "1         219039.0  \n",
       "2        2595961.0  "
      ]
     },
     "execution_count": 18,
     "metadata": {},
     "output_type": "execute_result"
    }
   ],
   "source": [
    "all_hits.head(3)"
   ]
  },
  {
   "cell_type": "code",
   "execution_count": 19,
   "metadata": {
    "ExecuteTime": {
     "end_time": "2023-09-20T09:46:32.566752Z",
     "start_time": "2023-09-20T09:46:32.264997Z"
    }
   },
   "outputs": [
    {
     "name": "stderr",
     "output_type": "stream",
     "text": [
      "/tmp/ipykernel_1537780/2623700585.py:4: UserWarning: Ignoring `palette` because no `hue` variable has been assigned.\n",
      "  sns.kdeplot(\n"
     ]
    },
    {
     "data": {
      "image/png": "[encoded data removed]",
      "text/plain": [
       "<Figure size 600x400 with 1 Axes>"
      ]
     },
     "metadata": {},
     "output_type": "display_data"
    }
   ],
   "source": [
    "fig = plt.figure(figsize=(6,4))\n",
    "ax1 = fig.add_subplot(1,1,1)\n",
    "\n",
    "sns.kdeplot(\n",
    "    data=all_hits.drop_duplicates(subset=['motif_id']),\n",
    "    x='max_score_robust',\n",
    "    palette={'max_score_robust':'blue'},\n",
    "    ax=ax1,\n",
    ")\n",
    "\n",
    "ax1.set_title(\"Distribution of the max (robust) scores for all TF hits.\")\n",
    "\n",
    "plt.tight_layout()\n",
    "\n",
    "plt.show()"
   ]
  },
  {
   "cell_type": "markdown",
   "metadata": {},
   "source": [
    "## Define a score threshold"
   ]
  },
  {
   "cell_type": "code",
   "execution_count": 20,
   "metadata": {
    "ExecuteTime": {
     "end_time": "2023-09-20T09:46:34.803960Z",
     "start_time": "2023-09-20T09:46:34.799828Z"
    }
   },
   "outputs": [],
   "source": [
    "QUANTILES_VALUES = [0.25, 0.50, 0.75, 0.9, 0.95, 0.99]\n",
    "QUANTILES_VALUES_STR = [\"0.25\", \"0.50\", \"0.75\", \"0.90\", \"0.95\", \"0.99\"]"
   ]
  },
  {
   "cell_type": "markdown",
   "metadata": {},
   "source": [
    "### Across TFs "
   ]
  },
  {
   "cell_type": "code",
   "execution_count": 21,
   "metadata": {
    "ExecuteTime": {
     "end_time": "2023-09-20T09:46:35.886430Z",
     "start_time": "2023-09-20T09:46:35.873563Z"
    }
   },
   "outputs": [],
   "source": [
    "def plot_density(scores: pd.Series, subsample: Union[int, float]=0.1, title: str = \"\") -> Dict[str, float]:\n",
    "    if not subsample > 0:\n",
    "        raise ValueError(\"Expected either a fraction or a round number.\")\n",
    "\n",
    "    if subsample > scores.shape[0]:\n",
    "        subsample = scores.shape[0]\n",
    "\n",
    "    if subsample <= 1:\n",
    "        subsample = int(scores.shape[0]*subsample)\n",
    "\n",
    "    scores_subsample = scores.sample(subsample)\n",
    "\n",
    "    fig = plt.figure(figsize=(6, 4))\n",
    "    ax1 = fig.add_subplot(1,1,1)\n",
    "\n",
    "    sns.kdeplot(\n",
    "        scores_subsample,\n",
    "        ax=ax1\n",
    "    )\n",
    "\n",
    "    quantiles = scores_subsample.quantile(QUANTILES_VALUES)\n",
    "\n",
    "    for quantile, value in quantiles.items():\n",
    "        ax1.axvline(value, color='red', linestyle='--',)\n",
    "        ax1.text(value, 0.1, f\"{quantile:.2f}\", rotation=90, verticalalignment='bottom', color='red')\n",
    "        # Add the weight value at the bottom of the line (on the x axis)\n",
    "        ax1.text(value, -0.0, f\"{value:.2f}\", rotation=90, verticalalignment='top', color='red')\n",
    "\n",
    "    ax1.set_title(title)\n",
    "\n",
    "    plt.tight_layout()\n",
    "    plt.show()\n",
    "\n",
    "    return dict(zip(QUANTILES_VALUES_STR, np.round(quantiles, 2)))\n"
   ]
  },
  {
   "cell_type": "code",
   "execution_count": 22,
   "metadata": {
    "ExecuteTime": {
     "end_time": "2023-09-20T09:46:38.724107Z",
     "start_time": "2023-09-20T09:46:37.145003Z"
    }
   },
   "outputs": [
    {
     "data": {
      "image/png": "[encoded data removed]",
      "text/plain": [
       "<Figure size 600x400 with 1 Axes>"
      ]
     },
     "metadata": {},
     "output_type": "display_data"
    },
    {
     "name": "stdout",
     "output_type": "stream",
     "text": [
      "{'0.25': 0.14, '0.50': 0.33, '0.75': 0.64, '0.90': 1.0, '0.95': 1.0, '0.99': 1.0}\n"
     ]
    }
   ],
   "source": [
    "# NORMALIZED SCORE - ALL HITS\n",
    "tmp_quantiles = plot_density(\n",
    "    all_hits['score_norm'],\n",
    "    subsample=0.1,\n",
    "    title=\"Thresholds at quantiles of the normalized scores distribution (all hits).\",\n",
    ")\n",
    "\n",
    "print(tmp_quantiles)\n",
    "\n",
    "\n",
    "allhits_norm_score_thresholds_quantiles = tmp_quantiles"
   ]
  },
  {
   "cell_type": "markdown",
   "metadata": {},
   "source": [
    "NOTE: because of the clipping of outliers, the quantiles are a bit messed up."
   ]
  },
  {
   "cell_type": "code",
   "execution_count": 23,
   "metadata": {
    "ExecuteTime": {
     "end_time": "2023-09-20T09:46:40.872157Z",
     "start_time": "2023-09-20T09:46:38.726253Z"
    }
   },
   "outputs": [
    {
     "data": {
      "image/png": "[encoded data removed]",
      "text/plain": [
       "<Figure size 600x400 with 1 Axes>"
      ]
     },
     "metadata": {},
     "output_type": "display_data"
    },
    {
     "name": "stdout",
     "output_type": "stream",
     "text": [
      "{'0.25': 1.6, '0.50': 2.4, '0.75': 3.7, '0.90': 5.2, '0.95': 6.4, '0.99': 8.6}\n"
     ]
    }
   ],
   "source": [
    "# RAW SCORE - ALL HITS\n",
    "tmp_quantiles = plot_density(\n",
    "    all_hits['score'],\n",
    "    subsample=0.1,\n",
    "    title=\"Thresholds at quantiles of the raw scores distribution (all hits).\",\n",
    ")\n",
    "\n",
    "print(tmp_quantiles)\n",
    "\n",
    "allhits_score_threshold_quantiles = tmp_quantiles"
   ]
  },
  {
   "cell_type": "code",
   "execution_count": 24,
   "metadata": {
    "ExecuteTime": {
     "end_time": "2023-09-20T09:46:45.051307Z",
     "start_time": "2023-09-20T09:46:42.951322Z"
    }
   },
   "outputs": [
    {
     "data": {
      "image/png": "[encoded data removed]",
      "text/plain": [
       "<Figure size 600x400 with 1 Axes>"
      ]
     },
     "metadata": {},
     "output_type": "display_data"
    },
    {
     "name": "stdout",
     "output_type": "stream",
     "text": [
      "{'0.25': 1.6, '0.50': 2.4, '0.75': 3.7, '0.90': 4.8, '0.95': 5.3, '0.99': 6.6}\n"
     ]
    }
   ],
   "source": [
    "# CLIPPED SCORE - ALL HITS\n",
    "tmp_quantiles = plot_density(\n",
    "    all_hits['score_clipped'],\n",
    "    subsample=0.1,\n",
    "    title=\"Thresholds at quantiles of the clipped scores distribution (all hits).\",\n",
    ")\n",
    "\n",
    "print(tmp_quantiles)\n",
    "\n",
    "allhits_score_clipped_threshold_quantiles = tmp_quantiles"
   ]
  },
  {
   "cell_type": "code",
   "execution_count": 25,
   "metadata": {
    "ExecuteTime": {
     "end_time": "2023-09-20T09:46:47.365036Z",
     "start_time": "2023-09-20T09:46:45.053126Z"
    }
   },
   "outputs": [
    {
     "data": {
      "image/png": "[encoded data removed]",
      "text/plain": [
       "<Figure size 600x400 with 1 Axes>"
      ]
     },
     "metadata": {},
     "output_type": "display_data"
    },
    {
     "name": "stdout",
     "output_type": "stream",
     "text": [
      "{'0.25': 0.14, '0.50': 0.33, '0.75': 0.64, '0.90': 1.0, '0.95': 1.0, '0.99': 1.0}\n"
     ]
    }
   ],
   "source": [
    "# NORMALIZED SCORE - measured-promoters HITS\n",
    "tmp_quantiles = plot_density(\n",
    "    measured_mirnas_proms_hits['score_norm'],\n",
    "    subsample=1.0,\n",
    ")\n",
    "\n",
    "print(tmp_quantiles)\n",
    "\n",
    "measuredpromhits_norm_score_thresholds_quantiles = tmp_quantiles"
   ]
  },
  {
   "cell_type": "code",
   "execution_count": 27,
   "metadata": {
    "ExecuteTime": {
     "end_time": "2023-09-20T09:46:50.410595Z",
     "start_time": "2023-09-20T09:46:47.366486Z"
    }
   },
   "outputs": [
    {
     "data": {
      "image/png": "[encoded data removed]",
      "text/plain": [
       "<Figure size 600x400 with 1 Axes>"
      ]
     },
     "metadata": {},
     "output_type": "display_data"
    },
    {
     "name": "stdout",
     "output_type": "stream",
     "text": [
      "{'0.25': 1.6, '0.50': 2.4, '0.75': 3.7, '0.90': 5.2, '0.95': 6.4, '0.99': 8.5}\n"
     ]
    }
   ],
   "source": [
    "# RAW SCORE - measured-promoters HITS\n",
    "tmp_quantiles = plot_density(measured_mirnas_proms_hits['score'], subsample=1.0)\n",
    "\n",
    "print(tmp_quantiles)\n",
    "\n",
    "# verify those values on the plot.\n",
    "measuredpromhits_score_threshold_quantiles = tmp_quantiles"
   ]
  },
  {
   "cell_type": "code",
   "execution_count": 28,
   "metadata": {
    "ExecuteTime": {
     "end_time": "2023-09-20T09:46:53.489332Z",
     "start_time": "2023-09-20T09:46:50.412177Z"
    }
   },
   "outputs": [
    {
     "data": {
      "image/png": "[encoded data removed]",
      "text/plain": [
       "<Figure size 600x400 with 1 Axes>"
      ]
     },
     "metadata": {},
     "output_type": "display_data"
    },
    {
     "name": "stdout",
     "output_type": "stream",
     "text": [
      "{'0.25': 1.6, '0.50': 2.4, '0.75': 3.7, '0.90': 4.8, '0.95': 5.3, '0.99': 6.6}\n"
     ]
    }
   ],
   "source": [
    "# CLIPPED SCORE - measured-promoters HITS\n",
    "tmp_quantiles = plot_density(measured_mirnas_proms_hits['score_clipped'], subsample=1.0)\n",
    "\n",
    "print(tmp_quantiles)\n",
    "\n",
    "# verify those values on the plot.\n",
    "measuredpromhits_score_clipped_threshold_quantiles = tmp_quantiles"
   ]
  },
  {
   "cell_type": "markdown",
   "metadata": {},
   "source": [
    "### Per TFs"
   ]
  },
  {
   "cell_type": "code",
   "execution_count": 29,
   "metadata": {
    "ExecuteTime": {
     "end_time": "2023-09-20T09:46:57.240267Z",
     "start_time": "2023-09-20T09:46:53.491142Z"
    }
   },
   "outputs": [],
   "source": [
    "allhits_per_tf_quantiles = {}\n",
    "\n",
    "for score_name in ['score', 'score_clipped']:\n",
    "    allhits_per_tf_quantiles[score_name] = {}\n",
    "\n",
    "    for motif_id, data_hits in all_hits.groupby('motif_id'):\n",
    "\n",
    "        quantiles = data_hits[score_name].quantile(QUANTILES_VALUES)\n",
    "        allhits_per_tf_quantiles[score_name][motif_id] = dict(zip(QUANTILES_VALUES_STR, np.round(quantiles, 2)))\n",
    "\n",
    "measuredpromhits_per_tf_quantiles = {}\n",
    "\n",
    "for score_name in ['score', 'score_clipped']:\n",
    "    measuredpromhits_per_tf_quantiles[score_name] = {}\n",
    "\n",
    "    for motif_id, data_hits in measured_mirnas_proms_hits.groupby('motif_id'):\n",
    "\n",
    "        quantiles = data_hits[score_name].quantile(QUANTILES_VALUES)\n",
    "        measuredpromhits_per_tf_quantiles[score_name][motif_id] = dict(zip(QUANTILES_VALUES_STR, np.round(quantiles, 2)))"
   ]
  },
  {
   "cell_type": "markdown",
   "metadata": {},
   "source": [
    "### Chose and apply the thresholding approach"
   ]
  },
  {
   "cell_type": "code",
   "execution_count": 30,
   "metadata": {
    "ExecuteTime": {
     "end_time": "2023-09-20T09:46:57.245443Z",
     "start_time": "2023-09-20T09:46:57.241660Z"
    }
   },
   "outputs": [],
   "source": [
    "\n",
    "different_score_thresholds_quantiles = {\n",
    "    'all_hits': {\n",
    "        'across_tf':{\n",
    "            'score': allhits_score_threshold_quantiles,\n",
    "            'score_norm': allhits_norm_score_thresholds_quantiles,\n",
    "            'score_clipped': allhits_score_clipped_threshold_quantiles,\n",
    "        },\n",
    "        'per_tf': {\n",
    "            'score_clipped': allhits_per_tf_quantiles['score_clipped'],\n",
    "            'score': allhits_per_tf_quantiles['score'],\n",
    "        },\n",
    "    },\n",
    "    'measured_mirnas_proms_hits': {\n",
    "        'across_tf':{\n",
    "            'score': measuredpromhits_score_threshold_quantiles,\n",
    "            'score_norm': measuredpromhits_norm_score_thresholds_quantiles,\n",
    "            'score_clipped': measuredpromhits_score_clipped_threshold_quantiles,\n",
    "        },\n",
    "        'per_tf':{\n",
    "            'score_clipped': measuredpromhits_per_tf_quantiles['score_clipped'],\n",
    "            'score': measuredpromhits_per_tf_quantiles['score'],\n",
    "        },\n",
    "    }\n",
    "}\n"
   ]
  },
  {
   "cell_type": "code",
   "execution_count": 31,
   "metadata": {
    "ExecuteTime": {
     "end_time": "2023-09-20T09:46:57.257990Z",
     "start_time": "2023-09-20T09:46:57.247111Z"
    }
   },
   "outputs": [],
   "source": [
    "working_params = {\n",
    "    1: {\n",
    "        \"chosen_set_hits\": \"measured_mirnas_proms_hits\",\n",
    "        \"chosen_threshold_mode\": \"across_tf\",\n",
    "        \"chosen_score\": \"score\",\n",
    "        \"chosen_quantile\" : \"0.75\"\n",
    "    },\n",
    "    2: {\n",
    "        \"chosen_set_hits\": \"measured_mirnas_proms_hits\",\n",
    "        \"chosen_threshold_mode\": \"per_tf\",\n",
    "        \"chosen_score\": \"score_clipped\",\n",
    "        \"chosen_quantile\": \"0.50\"\n",
    "    },\n",
    "    3: {\n",
    "        \"chosen_set_hits\": \"measured_mirnas_proms_hits\",\n",
    "        \"chosen_threshold_mode\": \"per_tf\",\n",
    "        \"chosen_score\": \"score\",\n",
    "        \"chosen_quantile\": \"0.50\"\n",
    "    },\n",
    "}\n",
    "\n",
    "# FINAL CHOSEN: the number 3: simpler to explain (no clipping ; per TF, hits with score above the median score)"
   ]
  },
  {
   "cell_type": "code",
   "execution_count": 32,
   "metadata": {
    "ExecuteTime": {
     "end_time": "2023-09-20T09:46:59.788235Z",
     "start_time": "2023-09-20T09:46:59.479589Z"
    }
   },
   "outputs": [
    {
     "name": "stdout",
     "output_type": "stream",
     "text": [
      "Thresholding per_tf on score 'score' (quantile=0.50)\n",
      "Number of transcription factors retained after threshold: 840 / 841\n",
      "Number of motif hits retained after threshold: 453,101 / 5,389,949\n"
     ]
    }
   ],
   "source": [
    "#chosen_set_hits = \"all_hits\"\n",
    "chosen_set_hits = \"measured_mirnas_proms_hits\"\n",
    "chosen_threshold_mode = \"per_tf\"\n",
    "chosen_score = 'score'\n",
    "chosen_quantile = \"0.50\"\n",
    "\n",
    "hits_source = {\n",
    "    'all_hits':all_hits,\n",
    "    'measured_mirnas_proms_hits':measured_mirnas_proms_hits,\n",
    "}\n",
    "\n",
    "\n",
    "if chosen_threshold_mode == 'per_tf':\n",
    "    #raise NotImplementedError\n",
    "\n",
    "    score_threshold = {\n",
    "        motif_id: motif_id_quantiles_thresholds[chosen_quantile]\n",
    "        for motif_id, motif_id_quantiles_thresholds in different_score_thresholds_quantiles[chosen_set_hits][chosen_threshold_mode][chosen_score].items()\n",
    "    }\n",
    "\n",
    "    filtered_hits = hits_source[chosen_set_hits].loc[\n",
    "        lambda df: (df[chosen_score] >= df['motif_id'].apply(lambda v: score_threshold[v])),\n",
    "    :]\n",
    "    print(f\"Thresholding {chosen_threshold_mode} on score '{chosen_score}' (quantile={chosen_quantile})\")\n",
    "\n",
    "else:\n",
    "    # This is either a single numeric value, or a dict mapping motif_ids to a single numeric value.\n",
    "    # Here : this is a numeric value.\n",
    "    score_threshold = different_score_thresholds_quantiles[chosen_set_hits][chosen_threshold_mode][chosen_score][chosen_quantile]\n",
    "\n",
    "    filtered_hits = hits_source[chosen_set_hits].loc[lambda df: df[chosen_score] >= score_threshold, :]\n",
    "\n",
    "    print(f\"Thresholding {chosen_threshold_mode} on score '{chosen_score}' (quantile={chosen_quantile}): {score_threshold:.2f}\")\n",
    "\n",
    "print(f\"Number of transcription factors retained after threshold: {filtered_hits['motif_id'].unique().shape[0]:,} / {all_hits['motif_id'].unique().shape[0]:,}\")\n",
    "print(f\"Number of motif hits retained after threshold: {filtered_hits.shape[0]:,} / {all_hits.shape[0]:,}\")"
   ]
  },
  {
   "cell_type": "code",
   "execution_count": 33,
   "metadata": {
    "ExecuteTime": {
     "end_time": "2023-09-20T09:47:02.954348Z",
     "start_time": "2023-09-20T09:47:02.743954Z"
    }
   },
   "outputs": [
    {
     "data": {
      "text/html": [
       "<div>\n",
       "<style scoped>\n",
       "    .dataframe tbody tr th:only-of-type {\n",
       "        vertical-align: middle;\n",
       "    }\n",
       "\n",
       "    .dataframe tbody tr th {\n",
       "        vertical-align: top;\n",
       "    }\n",
       "\n",
       "    .dataframe thead th {\n",
       "        text-align: right;\n",
       "    }\n",
       "</style>\n",
       "<table border=\"1\" class=\"dataframe\">\n",
       "  <thead>\n",
       "    <tr style=\"text-align: right;\">\n",
       "      <th></th>\n",
       "      <th>chrom</th>\n",
       "      <th>start</th>\n",
       "      <th>end</th>\n",
       "      <th>name</th>\n",
       "      <th>score</th>\n",
       "      <th>strand</th>\n",
       "      <th>metadata</th>\n",
       "      <th>score_clipped</th>\n",
       "      <th>motif_id</th>\n",
       "      <th>max_score</th>\n",
       "      <th>max_score_robust</th>\n",
       "      <th>score_norm</th>\n",
       "      <th>motif_name</th>\n",
       "      <th>mirnas</th>\n",
       "      <th>has_measured_mirnas</th>\n",
       "      <th>score_rank</th>\n",
       "      <th>score_norm_rank</th>\n",
       "    </tr>\n",
       "  </thead>\n",
       "  <tbody>\n",
       "    <tr>\n",
       "      <th>4474567</th>\n",
       "      <td>chr10</td>\n",
       "      <td>94035602</td>\n",
       "      <td>94035619</td>\n",
       "      <td>10:94035248-94037249(-)</td>\n",
       "      <td>22.0</td>\n",
       "      <td>-</td>\n",
       "      <td>{'sequence': 'GGAAGGAAGGAAGGAAGG', 'Pval': 1.6...</td>\n",
       "      <td>22.0</td>\n",
       "      <td>MA0149.1</td>\n",
       "      <td>22.0</td>\n",
       "      <td>22.0</td>\n",
       "      <td>1.0</td>\n",
       "      <td>EWSR1-FLI1</td>\n",
       "      <td>mmu-miR-331-3p,mmu-miR-331-5p</td>\n",
       "      <td>True</td>\n",
       "      <td>7.0</td>\n",
       "      <td>91903.0</td>\n",
       "    </tr>\n",
       "    <tr>\n",
       "      <th>4474574</th>\n",
       "      <td>chr10</td>\n",
       "      <td>94035630</td>\n",
       "      <td>94035647</td>\n",
       "      <td>10:94035248-94037249(-)</td>\n",
       "      <td>22.0</td>\n",
       "      <td>-</td>\n",
       "      <td>{'sequence': 'GGAAGGAAGGAAGGAAGG', 'Pval': 1.6...</td>\n",
       "      <td>22.0</td>\n",
       "      <td>MA0149.1</td>\n",
       "      <td>22.0</td>\n",
       "      <td>22.0</td>\n",
       "      <td>1.0</td>\n",
       "      <td>EWSR1-FLI1</td>\n",
       "      <td>mmu-miR-331-3p,mmu-miR-331-5p</td>\n",
       "      <td>True</td>\n",
       "      <td>7.0</td>\n",
       "      <td>91903.0</td>\n",
       "    </tr>\n",
       "    <tr>\n",
       "      <th>4474568</th>\n",
       "      <td>chr10</td>\n",
       "      <td>94035606</td>\n",
       "      <td>94035623</td>\n",
       "      <td>10:94035248-94037249(-)</td>\n",
       "      <td>22.0</td>\n",
       "      <td>-</td>\n",
       "      <td>{'sequence': 'GGAAGGAAGGAAGGAAGG', 'Pval': 1.6...</td>\n",
       "      <td>22.0</td>\n",
       "      <td>MA0149.1</td>\n",
       "      <td>22.0</td>\n",
       "      <td>22.0</td>\n",
       "      <td>1.0</td>\n",
       "      <td>EWSR1-FLI1</td>\n",
       "      <td>mmu-miR-331-3p,mmu-miR-331-5p</td>\n",
       "      <td>True</td>\n",
       "      <td>7.0</td>\n",
       "      <td>91903.0</td>\n",
       "    </tr>\n",
       "  </tbody>\n",
       "</table>\n",
       "</div>"
      ],
      "text/plain": [
       "         chrom     start       end                     name  score strand  \\\n",
       "4474567  chr10  94035602  94035619  10:94035248-94037249(-)   22.0      -   \n",
       "4474574  chr10  94035630  94035647  10:94035248-94037249(-)   22.0      -   \n",
       "4474568  chr10  94035606  94035623  10:94035248-94037249(-)   22.0      -   \n",
       "\n",
       "                                                  metadata  score_clipped  \\\n",
       "4474567  {'sequence': 'GGAAGGAAGGAAGGAAGG', 'Pval': 1.6...           22.0   \n",
       "4474574  {'sequence': 'GGAAGGAAGGAAGGAAGG', 'Pval': 1.6...           22.0   \n",
       "4474568  {'sequence': 'GGAAGGAAGGAAGGAAGG', 'Pval': 1.6...           22.0   \n",
       "\n",
       "         motif_id  max_score  max_score_robust  score_norm  motif_name  \\\n",
       "4474567  MA0149.1       22.0              22.0         1.0  EWSR1-FLI1   \n",
       "4474574  MA0149.1       22.0              22.0         1.0  EWSR1-FLI1   \n",
       "4474568  MA0149.1       22.0              22.0         1.0  EWSR1-FLI1   \n",
       "\n",
       "                                mirnas  has_measured_mirnas  score_rank  \\\n",
       "4474567  mmu-miR-331-3p,mmu-miR-331-5p                 True         7.0   \n",
       "4474574  mmu-miR-331-3p,mmu-miR-331-5p                 True         7.0   \n",
       "4474568  mmu-miR-331-3p,mmu-miR-331-5p                 True         7.0   \n",
       "\n",
       "         score_norm_rank  \n",
       "4474567          91903.0  \n",
       "4474574          91903.0  \n",
       "4474568          91903.0  "
      ]
     },
     "execution_count": 33,
     "metadata": {},
     "output_type": "execute_result"
    }
   ],
   "source": [
    "filtered_hits.sort_values(\n",
    "    by='score',\n",
    "    ascending=False,\n",
    ").head(3)"
   ]
  },
  {
   "cell_type": "markdown",
   "metadata": {},
   "source": [
    "# Split filtered hits per miRNA set and test"
   ]
  },
  {
   "cell_type": "code",
   "execution_count": 34,
   "metadata": {
    "ExecuteTime": {
     "end_time": "2023-09-20T09:47:04.579846Z",
     "start_time": "2023-09-20T09:47:04.574998Z"
    }
   },
   "outputs": [
    {
     "name": "stdout",
     "output_type": "stream",
     "text": [
      "['mmu-miR-1839-5p' 'mmu-miR-205-5p' 'mmu-miR-26b-5p' 'mmu-miR-23a-3p'\n",
      " 'mmu-miR-27b-3p' 'mmu-miR-676-3p' 'mmu-miR-200b-5p' 'mmu-miR-200b-3p'\n",
      " 'mmu-miR-200c-3p' 'mmu-miR-30b-5p' 'mmu-miR-200a-3p' 'mmu-miR-141-3p'\n",
      " 'mmu-miR-148a-3p' 'mmu-miR-30d-5p' 'mmu-miR-429-3p' 'mmu-let-7d-5p'\n",
      " 'mmu-miR-98-5p' 'mmu-miR-503-3p' 'mmu-miR-434-3p' 'mmu-miR-532-3p'\n",
      " 'mmu-miR-322-5p' 'mmu-let-7g-5p' 'mmu-miR-224-5p' 'mmu-miR-574-5p']\n"
     ]
    }
   ],
   "source": [
    "print(DATA.input.mirnas.candidate_mirnas)"
   ]
  },
  {
   "cell_type": "code",
   "execution_count": 35,
   "metadata": {
    "ExecuteTime": {
     "end_time": "2023-09-20T09:47:05.717807Z",
     "start_time": "2023-09-20T09:47:05.615733Z"
    }
   },
   "outputs": [
    {
     "name": "stdout",
     "output_type": "stream",
     "text": [
      "627\n",
      "91\n"
     ]
    }
   ],
   "source": [
    "candidate_mirnas_promoters = list(\n",
    "    itt.chain(\n",
    "        *[\n",
    "            DATA.input.promoters.mirna_to_seqid[mirna]\n",
    "            for mirna in DATA.input.mirnas.candidate_mirnas\n",
    "            if mirna in DATA.input.promoters.mirna_to_seqid\n",
    "        ]\n",
    "    )\n",
    ")\n",
    "\n",
    "candidate_mirnas_without_promoters = [\n",
    "    mirna for mirna in DATA.input.mirnas.candidate_mirnas\n",
    "    if mirna not in DATA.input.promoters.mirna_to_seqid\n",
    "]\n",
    "\n",
    "other_promoters = list(set(DATA.input.promoters.bed['seqid']) - set(candidate_mirnas_promoters))\n",
    "print(len(other_promoters))\n",
    "\n",
    "# \"other_promoters\" need to be subset so as to keep only the promoters with measured miRNAs,\n",
    "# if the set of hits is \"measured_mirnas_proms_hits\"\n",
    "if chosen_set_hits == \"measured_mirnas_proms_hits\":\n",
    "    other_promoters = list(set(other_promoters) & set(measured_mirnas_proms_hits['name'].unique()))\n",
    "    print(len(other_promoters))"
   ]
  },
  {
   "cell_type": "code",
   "execution_count": 36,
   "metadata": {
    "ExecuteTime": {
     "end_time": "2023-09-20T09:47:08.495632Z",
     "start_time": "2023-09-20T09:47:08.492132Z"
    }
   },
   "outputs": [
    {
     "name": "stdout",
     "output_type": "stream",
     "text": [
      "18\n",
      "91\n"
     ]
    }
   ],
   "source": [
    "print(len(candidate_mirnas_promoters))\n",
    "print(len(other_promoters))"
   ]
  },
  {
   "cell_type": "code",
   "execution_count": 37,
   "metadata": {
    "ExecuteTime": {
     "end_time": "2023-09-20T09:48:21.425376Z",
     "start_time": "2023-09-20T09:48:21.295918Z"
    }
   },
   "outputs": [],
   "source": [
    "is_hit_int_candidate_prom = filtered_hits['name'].isin(candidate_mirnas_promoters)\n",
    "filtered_hits_CANDIDATES = filtered_hits.loc[is_hit_int_candidate_prom,:]\n",
    "filtered_hits_OTHERS = filtered_hits.loc[~is_hit_int_candidate_prom,:]\n",
    "\n",
    "grouped_filtered_hits_CANDIDATES = filtered_hits_CANDIDATES.groupby('motif_id')\n",
    "grouped_filtered_hits_OTHERS = filtered_hits_OTHERS.groupby('motif_id')"
   ]
  },
  {
   "cell_type": "markdown",
   "metadata": {},
   "source": [
    "## Explore"
   ]
  },
  {
   "cell_type": "code",
   "execution_count": 38,
   "metadata": {
    "ExecuteTime": {
     "end_time": "2023-09-20T09:48:23.194403Z",
     "start_time": "2023-09-20T09:48:23.183725Z"
    }
   },
   "outputs": [
    {
     "data": {
      "text/html": [
       "<div>\n",
       "<style scoped>\n",
       "    .dataframe tbody tr th:only-of-type {\n",
       "        vertical-align: middle;\n",
       "    }\n",
       "\n",
       "    .dataframe tbody tr th {\n",
       "        vertical-align: top;\n",
       "    }\n",
       "\n",
       "    .dataframe thead th {\n",
       "        text-align: right;\n",
       "    }\n",
       "</style>\n",
       "<table border=\"1\" class=\"dataframe\">\n",
       "  <thead>\n",
       "    <tr style=\"text-align: right;\">\n",
       "      <th></th>\n",
       "      <th>AC</th>\n",
       "      <th>ID</th>\n",
       "    </tr>\n",
       "  </thead>\n",
       "  <tbody>\n",
       "    <tr>\n",
       "      <th>147</th>\n",
       "      <td>MA0692.1</td>\n",
       "      <td>TFEB</td>\n",
       "    </tr>\n",
       "    <tr>\n",
       "      <th>258</th>\n",
       "      <td>MA0058.3</td>\n",
       "      <td>MAX</td>\n",
       "    </tr>\n",
       "    <tr>\n",
       "      <th>806</th>\n",
       "      <td>MA0831.3</td>\n",
       "      <td>TFE3</td>\n",
       "    </tr>\n",
       "  </tbody>\n",
       "</table>\n",
       "</div>"
      ],
      "text/plain": [
       "           AC    ID\n",
       "147  MA0692.1  TFEB\n",
       "258  MA0058.3   MAX\n",
       "806  MA0831.3  TFE3"
      ]
     },
     "execution_count": 38,
     "metadata": {},
     "output_type": "execute_result"
    }
   ],
   "source": [
    "DATA.input.motifs.table_id.loc[lambda df: df['ID'].isin(['TFEB','TFE3','MAX'])]"
   ]
  },
  {
   "cell_type": "markdown",
   "metadata": {},
   "source": [
    "## Explore: number of motif hits (accept more than one hit per promoter)"
   ]
  },
  {
   "cell_type": "code",
   "execution_count": 39,
   "metadata": {
    "ExecuteTime": {
     "end_time": "2023-09-20T09:48:28.108679Z",
     "start_time": "2023-09-20T09:48:27.671803Z"
    }
   },
   "outputs": [],
   "source": [
    "table_counts_motif_hits = []\n",
    "\n",
    "for idx_row, motif_id_ac in DATA.input.motifs.table_id.iterrows():\n",
    "    if motif_id_ac['AC'] not in grouped_filtered_hits_CANDIDATES.groups:\n",
    "        count_candidates = 0\n",
    "    else:\n",
    "        count_candidates = grouped_filtered_hits_CANDIDATES.get_group(motif_id_ac['AC']).shape[0]\n",
    "    if motif_id_ac['AC'] not in grouped_filtered_hits_OTHERS.groups:\n",
    "        count_others = 0\n",
    "    else:\n",
    "        count_others = grouped_filtered_hits_OTHERS.get_group(motif_id_ac['AC']).shape[0]\n",
    "\n",
    "    table_counts_motif_hits.append(\n",
    "        pd.Series(\n",
    "            {\n",
    "                **motif_id_ac.to_dict(),\n",
    "                'count_candidates': count_candidates,\n",
    "                'count_others': count_others,\n",
    "            }\n",
    "        )\n",
    "    )\n",
    "\n",
    "table_counts_motif_hits = pd.DataFrame(table_counts_motif_hits).sort_values(by=['count_candidates'], ascending=False).reset_index(drop=True)\n",
    "table_counts_motif_hits['ratio'] = (table_counts_motif_hits['count_candidates']+1) / (table_counts_motif_hits['count_others']+1)"
   ]
  },
  {
   "cell_type": "code",
   "execution_count": 40,
   "metadata": {
    "ExecuteTime": {
     "end_time": "2023-09-20T09:48:30.190243Z",
     "start_time": "2023-09-20T09:48:30.176304Z"
    }
   },
   "outputs": [
    {
     "data": {
      "text/html": [
       "<div>\n",
       "<style scoped>\n",
       "    .dataframe tbody tr th:only-of-type {\n",
       "        vertical-align: middle;\n",
       "    }\n",
       "\n",
       "    .dataframe tbody tr th {\n",
       "        vertical-align: top;\n",
       "    }\n",
       "\n",
       "    .dataframe thead th {\n",
       "        text-align: right;\n",
       "    }\n",
       "</style>\n",
       "<table border=\"1\" class=\"dataframe\">\n",
       "  <thead>\n",
       "    <tr style=\"text-align: right;\">\n",
       "      <th></th>\n",
       "      <th>AC</th>\n",
       "      <th>ID</th>\n",
       "      <th>count_candidates</th>\n",
       "      <th>count_others</th>\n",
       "      <th>ratio</th>\n",
       "    </tr>\n",
       "  </thead>\n",
       "  <tbody>\n",
       "    <tr>\n",
       "      <th>339</th>\n",
       "      <td>MA0692.1</td>\n",
       "      <td>TFEB</td>\n",
       "      <td>74</td>\n",
       "      <td>414</td>\n",
       "      <td>0.180723</td>\n",
       "    </tr>\n",
       "    <tr>\n",
       "      <th>421</th>\n",
       "      <td>MA0058.3</td>\n",
       "      <td>MAX</td>\n",
       "      <td>54</td>\n",
       "      <td>313</td>\n",
       "      <td>0.175159</td>\n",
       "    </tr>\n",
       "    <tr>\n",
       "      <th>707</th>\n",
       "      <td>MA0831.3</td>\n",
       "      <td>TFE3</td>\n",
       "      <td>10</td>\n",
       "      <td>51</td>\n",
       "      <td>0.211538</td>\n",
       "    </tr>\n",
       "  </tbody>\n",
       "</table>\n",
       "</div>"
      ],
      "text/plain": [
       "           AC    ID  count_candidates  count_others     ratio\n",
       "339  MA0692.1  TFEB                74           414  0.180723\n",
       "421  MA0058.3   MAX                54           313  0.175159\n",
       "707  MA0831.3  TFE3                10            51  0.211538"
      ]
     },
     "execution_count": 40,
     "metadata": {},
     "output_type": "execute_result"
    }
   ],
   "source": [
    "table_counts_motif_hits.loc[lambda df: df['ID'].isin(['TFEB', 'TFE3', 'MAX'])]"
   ]
  },
  {
   "cell_type": "markdown",
   "metadata": {},
   "source": [
    "## Test: number of promoters (0 or 1 hit per promoter)"
   ]
  },
  {
   "cell_type": "code",
   "execution_count": 41,
   "metadata": {
    "ExecuteTime": {
     "end_time": "2023-09-20T09:48:33.912635Z",
     "start_time": "2023-09-20T09:48:33.280049Z"
    }
   },
   "outputs": [],
   "source": [
    "# For each transcription factor, gather the number of promoters in each set.\n",
    "# Do not forget to count the promoters that are absent because of lack of motifs.\n",
    "\n",
    "table_counts_promoters_hits = []\n",
    "\n",
    "for idx_row, motif_id_ac in DATA.input.motifs.table_id.iterrows():\n",
    "    if motif_id_ac['AC'] not in grouped_filtered_hits_CANDIDATES.groups:\n",
    "        count_candidates_w_hit = 0\n",
    "        count_candidates_wo_hit = len(candidate_mirnas_promoters)\n",
    "    else:\n",
    "        mirnas_promoters_w_hit = grouped_filtered_hits_CANDIDATES.get_group(motif_id_ac['AC'])['name'].unique()\n",
    "\n",
    "        count_candidates_w_hit = len(mirnas_promoters_w_hit)\n",
    "        count_candidates_wo_hit = len(set(list(candidate_mirnas_promoters)) - set(list(mirnas_promoters_w_hit)))\n",
    "\n",
    "    if motif_id_ac['AC'] not in grouped_filtered_hits_OTHERS.groups:\n",
    "        count_others_w_hit = 0\n",
    "        count_others_wo_hit = len(candidate_mirnas_promoters)\n",
    "    else:\n",
    "        mirnas_promoters_w_hit = grouped_filtered_hits_OTHERS.get_group(motif_id_ac['AC'])['name'].unique()\n",
    "\n",
    "        count_others_w_hit = len(mirnas_promoters_w_hit)\n",
    "        count_others_wo_hit = len(set(other_promoters) - set(mirnas_promoters_w_hit))\n",
    "\n",
    "    table_counts_promoters_hits.append(\n",
    "        pd.Series(\n",
    "            {\n",
    "                **motif_id_ac.to_dict(),\n",
    "                'count_candidates_w_hit': count_candidates_w_hit,\n",
    "                'count_candidates_wo_hit': count_candidates_wo_hit,\n",
    "                'count_others_w_hit': count_others_w_hit,\n",
    "                'count_others_wo_hit': count_others_wo_hit,\n",
    "            }\n",
    "        )\n",
    "    )\n",
    "\n",
    "table_counts_promoters_hits = pd.DataFrame(table_counts_promoters_hits)"
   ]
  },
  {
   "cell_type": "code",
   "execution_count": 42,
   "metadata": {
    "ExecuteTime": {
     "end_time": "2023-09-20T09:48:40.636330Z",
     "start_time": "2023-09-20T09:48:40.343253Z"
    }
   },
   "outputs": [],
   "source": [
    "# Apply fisher test to each transcription factor.\n",
    "\n",
    "table_counts_promoters_hits['odds_ratio'] = np.nan\n",
    "table_counts_promoters_hits['pval'] = np.nan\n",
    "\n",
    "for i, row in table_counts_promoters_hits.iterrows():\n",
    "\n",
    "    table_cts = np.array([\n",
    "        [row['count_candidates_w_hit'], row['count_candidates_wo_hit']],\n",
    "        [row['count_others_w_hit'], row['count_others_wo_hit']],\n",
    "    ])\n",
    "    odds_ratio, pval = scipy.stats.fisher_exact(\n",
    "        table_cts,\n",
    "        alternative='greater',\n",
    "    )\n",
    "    # Manually calculate the odds ratio with added pseudo counts.\n",
    "    pseudo_count = 1\n",
    "    odds_ratio_alt = (\n",
    "        ( (table_cts[0,0]+pseudo_count) / (table_cts[0,1]+pseudo_count) ) / \\\n",
    "        ( (table_cts[1,0]+pseudo_count) / (table_cts[1,1]+pseudo_count) )\n",
    "    )\n",
    "    table_counts_promoters_hits.loc[i, 'odds_ratio'] = odds_ratio_alt\n",
    "    table_counts_promoters_hits.loc[i, 'pval'] = pval\n",
    "\n",
    "# Not sure if it makes sense to correct for multiple testing here?\n",
    "# We have scanned with the full set of transcription factors, while we should have\n",
    "# pre-selected (e.g. for development-related transcription factors).\n",
    "# But on the other hand : without correction we would consider significant\n",
    "# many spurious tests.\n",
    "\n",
    "reject_bool, pvals_corrected, _, _ = statsmodels.stats.multitest.multipletests(\n",
    "    table_counts_promoters_hits['pval'].values,\n",
    "    alpha=0.01,\n",
    "    method='bonferroni',\n",
    ")\n",
    "\n",
    "table_counts_promoters_hits['pval_corrected'] = pvals_corrected\n"
   ]
  },
  {
   "cell_type": "code",
   "execution_count": 43,
   "metadata": {
    "ExecuteTime": {
     "end_time": "2023-09-20T09:49:21.291186Z",
     "start_time": "2023-09-20T09:49:21.278096Z"
    }
   },
   "outputs": [
    {
     "data": {
      "text/html": [
       "<div>\n",
       "<style scoped>\n",
       "    .dataframe tbody tr th:only-of-type {\n",
       "        vertical-align: middle;\n",
       "    }\n",
       "\n",
       "    .dataframe tbody tr th {\n",
       "        vertical-align: top;\n",
       "    }\n",
       "\n",
       "    .dataframe thead th {\n",
       "        text-align: right;\n",
       "    }\n",
       "</style>\n",
       "<table border=\"1\" class=\"dataframe\">\n",
       "  <thead>\n",
       "    <tr style=\"text-align: right;\">\n",
       "      <th></th>\n",
       "      <th>AC</th>\n",
       "      <th>ID</th>\n",
       "      <th>count_candidates_w_hit</th>\n",
       "      <th>count_candidates_wo_hit</th>\n",
       "      <th>count_others_w_hit</th>\n",
       "      <th>count_others_wo_hit</th>\n",
       "      <th>odds_ratio</th>\n",
       "      <th>pval</th>\n",
       "      <th>pval_corrected</th>\n",
       "    </tr>\n",
       "  </thead>\n",
       "  <tbody>\n",
       "    <tr>\n",
       "      <th>147</th>\n",
       "      <td>MA0692.1</td>\n",
       "      <td>TFEB</td>\n",
       "      <td>14</td>\n",
       "      <td>0</td>\n",
       "      <td>88</td>\n",
       "      <td>3</td>\n",
       "      <td>0.674157</td>\n",
       "      <td>0.648058</td>\n",
       "      <td>1.0</td>\n",
       "    </tr>\n",
       "    <tr>\n",
       "      <th>258</th>\n",
       "      <td>MA0058.3</td>\n",
       "      <td>MAX</td>\n",
       "      <td>13</td>\n",
       "      <td>1</td>\n",
       "      <td>85</td>\n",
       "      <td>6</td>\n",
       "      <td>0.569767</td>\n",
       "      <td>0.765612</td>\n",
       "      <td>1.0</td>\n",
       "    </tr>\n",
       "    <tr>\n",
       "      <th>806</th>\n",
       "      <td>MA0831.3</td>\n",
       "      <td>TFE3</td>\n",
       "      <td>9</td>\n",
       "      <td>5</td>\n",
       "      <td>34</td>\n",
       "      <td>57</td>\n",
       "      <td>2.761905</td>\n",
       "      <td>0.054144</td>\n",
       "      <td>1.0</td>\n",
       "    </tr>\n",
       "  </tbody>\n",
       "</table>\n",
       "</div>"
      ],
      "text/plain": [
       "           AC    ID  count_candidates_w_hit  count_candidates_wo_hit  \\\n",
       "147  MA0692.1  TFEB                      14                        0   \n",
       "258  MA0058.3   MAX                      13                        1   \n",
       "806  MA0831.3  TFE3                       9                        5   \n",
       "\n",
       "     count_others_w_hit  count_others_wo_hit  odds_ratio      pval  \\\n",
       "147                  88                    3    0.674157  0.648058   \n",
       "258                  85                    6    0.569767  0.765612   \n",
       "806                  34                   57    2.761905  0.054144   \n",
       "\n",
       "     pval_corrected  \n",
       "147             1.0  \n",
       "258             1.0  \n",
       "806             1.0  "
      ]
     },
     "execution_count": 43,
     "metadata": {},
     "output_type": "execute_result"
    }
   ],
   "source": [
    "table_counts_promoters_hits.loc[lambda df: df['ID'].isin(['TFEB', 'TFE3', 'MAX'])]"
   ]
  },
  {
   "cell_type": "code",
   "execution_count": 44,
   "metadata": {
    "ExecuteTime": {
     "end_time": "2023-09-20T09:49:23.196641Z",
     "start_time": "2023-09-20T09:49:23.112629Z"
    }
   },
   "outputs": [
    {
     "data": {
      "text/html": [
       "<div>\n",
       "<style scoped>\n",
       "    .dataframe tbody tr th:only-of-type {\n",
       "        vertical-align: middle;\n",
       "    }\n",
       "\n",
       "    .dataframe tbody tr th {\n",
       "        vertical-align: top;\n",
       "    }\n",
       "\n",
       "    .dataframe thead th {\n",
       "        text-align: right;\n",
       "    }\n",
       "</style>\n",
       "<table border=\"1\" class=\"dataframe\">\n",
       "  <thead>\n",
       "    <tr style=\"text-align: right;\">\n",
       "      <th></th>\n",
       "      <th>chrom</th>\n",
       "      <th>start</th>\n",
       "      <th>end</th>\n",
       "      <th>name</th>\n",
       "      <th>score</th>\n",
       "      <th>strand</th>\n",
       "      <th>metadata</th>\n",
       "      <th>score_clipped</th>\n",
       "      <th>motif_id</th>\n",
       "      <th>max_score</th>\n",
       "      <th>max_score_robust</th>\n",
       "      <th>score_norm</th>\n",
       "      <th>motif_name</th>\n",
       "      <th>mirnas</th>\n",
       "      <th>has_measured_mirnas</th>\n",
       "      <th>score_rank</th>\n",
       "      <th>score_norm_rank</th>\n",
       "    </tr>\n",
       "  </thead>\n",
       "  <tbody>\n",
       "    <tr>\n",
       "      <th>2896986</th>\n",
       "      <td>chr4</td>\n",
       "      <td>156059483</td>\n",
       "      <td>156059492</td>\n",
       "      <td>4:156059316-156061317(-)</td>\n",
       "      <td>5.2</td>\n",
       "      <td>-</td>\n",
       "      <td>{'sequence': 'TTCATGTGAC', 'Pval': 0.0001, 'ln...</td>\n",
       "      <td>5.2</td>\n",
       "      <td>MA0831.3</td>\n",
       "      <td>13.7</td>\n",
       "      <td>7.5</td>\n",
       "      <td>0.646154</td>\n",
       "      <td>TFE3</td>\n",
       "      <td>mmu-miR-200a-3p,mmu-miR-200a-5p,mmu-miR-200b-3...</td>\n",
       "      <td>True</td>\n",
       "      <td>90994.5</td>\n",
       "      <td>219480.5</td>\n",
       "    </tr>\n",
       "  </tbody>\n",
       "</table>\n",
       "</div>"
      ],
      "text/plain": [
       "        chrom      start        end                      name  score strand  \\\n",
       "2896986  chr4  156059483  156059492  4:156059316-156061317(-)    5.2      -   \n",
       "\n",
       "                                                  metadata  score_clipped  \\\n",
       "2896986  {'sequence': 'TTCATGTGAC', 'Pval': 0.0001, 'ln...            5.2   \n",
       "\n",
       "         motif_id  max_score  max_score_robust  score_norm motif_name  \\\n",
       "2896986  MA0831.3       13.7               7.5    0.646154       TFE3   \n",
       "\n",
       "                                                    mirnas  \\\n",
       "2896986  mmu-miR-200a-3p,mmu-miR-200a-5p,mmu-miR-200b-3...   \n",
       "\n",
       "         has_measured_mirnas  score_rank  score_norm_rank  \n",
       "2896986                 True     90994.5         219480.5  "
      ]
     },
     "execution_count": 44,
     "metadata": {},
     "output_type": "execute_result"
    }
   ],
   "source": [
    "# THIS IS A MANDATORY HIT TO HAVE : we display it as an example for the experimental validation.\n",
    "filtered_hits_CANDIDATES.loc[\n",
    "    lambda df: (df['mirnas'].str.contains('200b')) & (df['motif_name'] == 'TFE3'),:]"
   ]
  },
  {
   "cell_type": "code",
   "execution_count": 43,
   "metadata": {
    "ExecuteTime": {
     "end_time": "2023-09-20T09:49:25.010428Z",
     "start_time": "2023-09-20T09:49:24.991204Z"
    }
   },
   "outputs": [
    {
     "data": {
      "text/html": [
       "<div>\n",
       "<style scoped>\n",
       "    .dataframe tbody tr th:only-of-type {\n",
       "        vertical-align: middle;\n",
       "    }\n",
       "\n",
       "    .dataframe tbody tr th {\n",
       "        vertical-align: top;\n",
       "    }\n",
       "\n",
       "    .dataframe thead th {\n",
       "        text-align: right;\n",
       "    }\n",
       "</style>\n",
       "<table border=\"1\" class=\"dataframe\">\n",
       "  <thead>\n",
       "    <tr style=\"text-align: right;\">\n",
       "      <th></th>\n",
       "      <th>AC</th>\n",
       "      <th>ID</th>\n",
       "      <th>count_candidates_w_hit</th>\n",
       "      <th>count_candidates_wo_hit</th>\n",
       "      <th>count_others_w_hit</th>\n",
       "      <th>count_others_wo_hit</th>\n",
       "      <th>odds_ratio</th>\n",
       "      <th>pval</th>\n",
       "      <th>pval_corrected</th>\n",
       "    </tr>\n",
       "  </thead>\n",
       "  <tbody>\n",
       "    <tr>\n",
       "      <th>785</th>\n",
       "      <td>MA0831.3</td>\n",
       "      <td>TFE3</td>\n",
       "      <td>9</td>\n",
       "      <td>5</td>\n",
       "      <td>34</td>\n",
       "      <td>57</td>\n",
       "      <td>2.761905</td>\n",
       "      <td>0.054144</td>\n",
       "      <td>1.0</td>\n",
       "    </tr>\n",
       "    <tr>\n",
       "      <th>144</th>\n",
       "      <td>MA0692.1</td>\n",
       "      <td>TFEB</td>\n",
       "      <td>14</td>\n",
       "      <td>0</td>\n",
       "      <td>88</td>\n",
       "      <td>3</td>\n",
       "      <td>0.674157</td>\n",
       "      <td>0.648058</td>\n",
       "      <td>1.0</td>\n",
       "    </tr>\n",
       "    <tr>\n",
       "      <th>246</th>\n",
       "      <td>MA0058.3</td>\n",
       "      <td>MAX</td>\n",
       "      <td>13</td>\n",
       "      <td>1</td>\n",
       "      <td>85</td>\n",
       "      <td>6</td>\n",
       "      <td>0.569767</td>\n",
       "      <td>0.765612</td>\n",
       "      <td>1.0</td>\n",
       "    </tr>\n",
       "  </tbody>\n",
       "</table>\n",
       "</div>"
      ],
      "text/plain": [
       "           AC    ID  count_candidates_w_hit  count_candidates_wo_hit  \\\n",
       "785  MA0831.3  TFE3                       9                        5   \n",
       "144  MA0692.1  TFEB                      14                        0   \n",
       "246  MA0058.3   MAX                      13                        1   \n",
       "\n",
       "     count_others_w_hit  count_others_wo_hit  odds_ratio      pval  \\\n",
       "785                  34                   57    2.761905  0.054144   \n",
       "144                  88                    3    0.674157  0.648058   \n",
       "246                  85                    6    0.569767  0.765612   \n",
       "\n",
       "     pval_corrected  \n",
       "785             1.0  \n",
       "144             1.0  \n",
       "246             1.0  "
      ]
     },
     "execution_count": 43,
     "metadata": {},
     "output_type": "execute_result"
    }
   ],
   "source": [
    "# HERE : SHOWING THE RESULTS FOR THE 3 CANDIDATE TFs\n",
    "\n",
    "table_counts_promoters_hits.loc[\n",
    "    lambda df: df['count_candidates_w_hit']>0,\n",
    "    :\n",
    "].reset_index(\n",
    "    drop=True\n",
    ").sort_values(\n",
    "    by='odds_ratio', ascending=False\n",
    ").loc[lambda df: df['ID'].isin(['TFEB', 'TFE3', 'MAX'])]"
   ]
  },
  {
   "cell_type": "code",
   "execution_count": 44,
   "metadata": {
    "ExecuteTime": {
     "end_time": "2023-09-20T09:49:26.835986Z",
     "start_time": "2023-09-20T09:49:26.809058Z"
    }
   },
   "outputs": [
    {
     "data": {
      "text/html": [
       "<div>\n",
       "<style scoped>\n",
       "    .dataframe tbody tr th:only-of-type {\n",
       "        vertical-align: middle;\n",
       "    }\n",
       "\n",
       "    .dataframe tbody tr th {\n",
       "        vertical-align: top;\n",
       "    }\n",
       "\n",
       "    .dataframe thead th {\n",
       "        text-align: right;\n",
       "    }\n",
       "</style>\n",
       "<table border=\"1\" class=\"dataframe\">\n",
       "  <thead>\n",
       "    <tr style=\"text-align: right;\">\n",
       "      <th></th>\n",
       "      <th>AC</th>\n",
       "      <th>ID</th>\n",
       "      <th>count_candidates_w_hit</th>\n",
       "      <th>count_candidates_wo_hit</th>\n",
       "      <th>count_others_w_hit</th>\n",
       "      <th>count_others_wo_hit</th>\n",
       "      <th>odds_ratio</th>\n",
       "      <th>pval</th>\n",
       "      <th>pval_corrected</th>\n",
       "    </tr>\n",
       "  </thead>\n",
       "  <tbody>\n",
       "    <tr>\n",
       "      <th>0</th>\n",
       "      <td>MA1546.1</td>\n",
       "      <td>PAX3</td>\n",
       "      <td>14</td>\n",
       "      <td>0</td>\n",
       "      <td>68</td>\n",
       "      <td>23</td>\n",
       "      <td>5.217391</td>\n",
       "      <td>0.023964</td>\n",
       "      <td>1.0</td>\n",
       "    </tr>\n",
       "    <tr>\n",
       "      <th>1</th>\n",
       "      <td>MA0798.3</td>\n",
       "      <td>RFX3</td>\n",
       "      <td>3</td>\n",
       "      <td>11</td>\n",
       "      <td>5</td>\n",
       "      <td>86</td>\n",
       "      <td>4.833333</td>\n",
       "      <td>0.071225</td>\n",
       "      <td>1.0</td>\n",
       "    </tr>\n",
       "    <tr>\n",
       "      <th>2</th>\n",
       "      <td>MA1940.1</td>\n",
       "      <td>ETV2::DRGX</td>\n",
       "      <td>14</td>\n",
       "      <td>0</td>\n",
       "      <td>71</td>\n",
       "      <td>20</td>\n",
       "      <td>4.375000</td>\n",
       "      <td>0.041413</td>\n",
       "      <td>1.0</td>\n",
       "    </tr>\n",
       "    <tr>\n",
       "      <th>3</th>\n",
       "      <td>MA1550.1</td>\n",
       "      <td>PPARD</td>\n",
       "      <td>8</td>\n",
       "      <td>6</td>\n",
       "      <td>22</td>\n",
       "      <td>69</td>\n",
       "      <td>3.913043</td>\n",
       "      <td>0.015978</td>\n",
       "      <td>1.0</td>\n",
       "    </tr>\n",
       "    <tr>\n",
       "      <th>4</th>\n",
       "      <td>MA0507.2</td>\n",
       "      <td>POU2F2</td>\n",
       "      <td>7</td>\n",
       "      <td>7</td>\n",
       "      <td>18</td>\n",
       "      <td>73</td>\n",
       "      <td>3.894737</td>\n",
       "      <td>0.020782</td>\n",
       "      <td>1.0</td>\n",
       "    </tr>\n",
       "    <tr>\n",
       "      <th>5</th>\n",
       "      <td>MA1155.1</td>\n",
       "      <td>ZSCAN4</td>\n",
       "      <td>5</td>\n",
       "      <td>9</td>\n",
       "      <td>12</td>\n",
       "      <td>79</td>\n",
       "      <td>3.692308</td>\n",
       "      <td>0.048705</td>\n",
       "      <td>1.0</td>\n",
       "    </tr>\n",
       "    <tr>\n",
       "      <th>6</th>\n",
       "      <td>MA1463.1</td>\n",
       "      <td>ARGFX</td>\n",
       "      <td>14</td>\n",
       "      <td>0</td>\n",
       "      <td>74</td>\n",
       "      <td>17</td>\n",
       "      <td>3.600000</td>\n",
       "      <td>0.070104</td>\n",
       "      <td>1.0</td>\n",
       "    </tr>\n",
       "    <tr>\n",
       "      <th>7</th>\n",
       "      <td>MA0780.1</td>\n",
       "      <td>PAX3</td>\n",
       "      <td>12</td>\n",
       "      <td>2</td>\n",
       "      <td>51</td>\n",
       "      <td>40</td>\n",
       "      <td>3.416667</td>\n",
       "      <td>0.030241</td>\n",
       "      <td>1.0</td>\n",
       "    </tr>\n",
       "    <tr>\n",
       "      <th>8</th>\n",
       "      <td>MA1537.1</td>\n",
       "      <td>NR2F1</td>\n",
       "      <td>9</td>\n",
       "      <td>5</td>\n",
       "      <td>30</td>\n",
       "      <td>61</td>\n",
       "      <td>3.333333</td>\n",
       "      <td>0.026569</td>\n",
       "      <td>1.0</td>\n",
       "    </tr>\n",
       "    <tr>\n",
       "      <th>9</th>\n",
       "      <td>MA0074.1</td>\n",
       "      <td>RXRA::VDR</td>\n",
       "      <td>14</td>\n",
       "      <td>0</td>\n",
       "      <td>76</td>\n",
       "      <td>15</td>\n",
       "      <td>3.116883</td>\n",
       "      <td>0.098515</td>\n",
       "      <td>1.0</td>\n",
       "    </tr>\n",
       "    <tr>\n",
       "      <th>10</th>\n",
       "      <td>MA1506.1</td>\n",
       "      <td>HOXD10</td>\n",
       "      <td>9</td>\n",
       "      <td>5</td>\n",
       "      <td>32</td>\n",
       "      <td>59</td>\n",
       "      <td>3.030303</td>\n",
       "      <td>0.038499</td>\n",
       "      <td>1.0</td>\n",
       "    </tr>\n",
       "    <tr>\n",
       "      <th>11</th>\n",
       "      <td>MA0702.2</td>\n",
       "      <td>LMX1A</td>\n",
       "      <td>12</td>\n",
       "      <td>2</td>\n",
       "      <td>54</td>\n",
       "      <td>37</td>\n",
       "      <td>2.993939</td>\n",
       "      <td>0.049295</td>\n",
       "      <td>1.0</td>\n",
       "    </tr>\n",
       "    <tr>\n",
       "      <th>12</th>\n",
       "      <td>MA1494.1</td>\n",
       "      <td>HNF4A</td>\n",
       "      <td>5</td>\n",
       "      <td>9</td>\n",
       "      <td>15</td>\n",
       "      <td>76</td>\n",
       "      <td>2.887500</td>\n",
       "      <td>0.094742</td>\n",
       "      <td>1.0</td>\n",
       "    </tr>\n",
       "    <tr>\n",
       "      <th>13</th>\n",
       "      <td>MA0831.3</td>\n",
       "      <td>TFE3</td>\n",
       "      <td>9</td>\n",
       "      <td>5</td>\n",
       "      <td>34</td>\n",
       "      <td>57</td>\n",
       "      <td>2.761905</td>\n",
       "      <td>0.054144</td>\n",
       "      <td>1.0</td>\n",
       "    </tr>\n",
       "    <tr>\n",
       "      <th>14</th>\n",
       "      <td>MA0075.3</td>\n",
       "      <td>PRRX2</td>\n",
       "      <td>13</td>\n",
       "      <td>1</td>\n",
       "      <td>66</td>\n",
       "      <td>25</td>\n",
       "      <td>2.716418</td>\n",
       "      <td>0.088354</td>\n",
       "      <td>1.0</td>\n",
       "    </tr>\n",
       "    <tr>\n",
       "      <th>15</th>\n",
       "      <td>MA0647.1</td>\n",
       "      <td>GRHL1</td>\n",
       "      <td>13</td>\n",
       "      <td>1</td>\n",
       "      <td>66</td>\n",
       "      <td>25</td>\n",
       "      <td>2.716418</td>\n",
       "      <td>0.088354</td>\n",
       "      <td>1.0</td>\n",
       "    </tr>\n",
       "  </tbody>\n",
       "</table>\n",
       "</div>"
      ],
      "text/plain": [
       "          AC          ID  count_candidates_w_hit  count_candidates_wo_hit  \\\n",
       "0   MA1546.1        PAX3                      14                        0   \n",
       "1   MA0798.3        RFX3                       3                       11   \n",
       "2   MA1940.1  ETV2::DRGX                      14                        0   \n",
       "3   MA1550.1       PPARD                       8                        6   \n",
       "4   MA0507.2      POU2F2                       7                        7   \n",
       "5   MA1155.1      ZSCAN4                       5                        9   \n",
       "6   MA1463.1       ARGFX                      14                        0   \n",
       "7   MA0780.1        PAX3                      12                        2   \n",
       "8   MA1537.1       NR2F1                       9                        5   \n",
       "9   MA0074.1   RXRA::VDR                      14                        0   \n",
       "10  MA1506.1      HOXD10                       9                        5   \n",
       "11  MA0702.2       LMX1A                      12                        2   \n",
       "12  MA1494.1       HNF4A                       5                        9   \n",
       "13  MA0831.3        TFE3                       9                        5   \n",
       "14  MA0075.3       PRRX2                      13                        1   \n",
       "15  MA0647.1       GRHL1                      13                        1   \n",
       "\n",
       "    count_others_w_hit  count_others_wo_hit  odds_ratio      pval  \\\n",
       "0                   68                   23    5.217391  0.023964   \n",
       "1                    5                   86    4.833333  0.071225   \n",
       "2                   71                   20    4.375000  0.041413   \n",
       "3                   22                   69    3.913043  0.015978   \n",
       "4                   18                   73    3.894737  0.020782   \n",
       "5                   12                   79    3.692308  0.048705   \n",
       "6                   74                   17    3.600000  0.070104   \n",
       "7                   51                   40    3.416667  0.030241   \n",
       "8                   30                   61    3.333333  0.026569   \n",
       "9                   76                   15    3.116883  0.098515   \n",
       "10                  32                   59    3.030303  0.038499   \n",
       "11                  54                   37    2.993939  0.049295   \n",
       "12                  15                   76    2.887500  0.094742   \n",
       "13                  34                   57    2.761905  0.054144   \n",
       "14                  66                   25    2.716418  0.088354   \n",
       "15                  66                   25    2.716418  0.088354   \n",
       "\n",
       "    pval_corrected  \n",
       "0              1.0  \n",
       "1              1.0  \n",
       "2              1.0  \n",
       "3              1.0  \n",
       "4              1.0  \n",
       "5              1.0  \n",
       "6              1.0  \n",
       "7              1.0  \n",
       "8              1.0  \n",
       "9              1.0  \n",
       "10             1.0  \n",
       "11             1.0  \n",
       "12             1.0  \n",
       "13             1.0  \n",
       "14             1.0  \n",
       "15             1.0  "
      ]
     },
     "execution_count": 44,
     "metadata": {},
     "output_type": "execute_result"
    }
   ],
   "source": [
    "table_counts_promoters_hits.loc[\n",
    "    lambda df: (\n",
    "        (df['count_candidates_w_hit']>0) & \\\n",
    "        (df['odds_ratio']>1)\n",
    "    ),:\n",
    "    ].sort_values(by='odds_ratio', ascending=False\n",
    "    ).loc[lambda df: df['pval']<0.1].reset_index(drop=True)"
   ]
  },
  {
   "cell_type": "code",
   "execution_count": 45,
   "metadata": {},
   "outputs": [],
   "source": [
    "# At least one hit in candidate promoters, odds ratio > 1\n",
    "tmp1 = table_counts_promoters_hits.loc[\n",
    "    lambda df: (\n",
    "        (df['count_candidates_w_hit']>0) & \\\n",
    "        (df['odds_ratio']>1)\n",
    "    ),:\n",
    "    ].sort_values(by='pval', ascending=True,\n",
    "    ).reset_index(drop=True)\n",
    "\n",
    "# At least one hit in candidate promoters, odds ratio > 2\n",
    "tmp2 = table_counts_promoters_hits.loc[\n",
    "    lambda df: (\n",
    "        (df['count_candidates_w_hit']>0) & \\\n",
    "        (df['odds_ratio']>2)\n",
    "    ),:\n",
    "    ].sort_values(by='pval', ascending=True,\n",
    "    ).reset_index(drop=True)\n",
    "\n",
    "# At least one hit in candidate promoters, odds ratio > 2, pass significance threshold\n",
    "tmp3 = table_counts_promoters_hits.loc[\n",
    "    lambda df: (\n",
    "        (df['count_candidates_w_hit']>0) & \\\n",
    "        (df['odds_ratio']>2) & \\\n",
    "        (df['pval']<0.1)\n",
    "    ),:\n",
    "    ].sort_values(by='pval', ascending=True,\n",
    "    ).reset_index(drop=True)\n",
    "\n"
   ]
  },
  {
   "cell_type": "code",
   "execution_count": 52,
   "metadata": {
    "ExecuteTime": {
     "end_time": "2023-09-20T09:50:45.748439Z",
     "start_time": "2023-09-20T09:50:45.728308Z"
    }
   },
   "outputs": [
    {
     "data": {
      "text/html": [
       "<div>\n",
       "<style scoped>\n",
       "    .dataframe tbody tr th:only-of-type {\n",
       "        vertical-align: middle;\n",
       "    }\n",
       "\n",
       "    .dataframe tbody tr th {\n",
       "        vertical-align: top;\n",
       "    }\n",
       "\n",
       "    .dataframe thead th {\n",
       "        text-align: right;\n",
       "    }\n",
       "</style>\n",
       "<table border=\"1\" class=\"dataframe\">\n",
       "  <thead>\n",
       "    <tr style=\"text-align: right;\">\n",
       "      <th></th>\n",
       "      <th>AC</th>\n",
       "      <th>ID</th>\n",
       "      <th>count_candidates_w_hit</th>\n",
       "      <th>count_candidates_wo_hit</th>\n",
       "      <th>count_others_w_hit</th>\n",
       "      <th>count_others_wo_hit</th>\n",
       "      <th>odds_ratio</th>\n",
       "      <th>pval</th>\n",
       "      <th>pval_corrected</th>\n",
       "    </tr>\n",
       "  </thead>\n",
       "  <tbody>\n",
       "    <tr>\n",
       "      <th>446</th>\n",
       "      <td>MA1550.1</td>\n",
       "      <td>PPARD</td>\n",
       "      <td>8</td>\n",
       "      <td>6</td>\n",
       "      <td>22</td>\n",
       "      <td>69</td>\n",
       "      <td>3.913043</td>\n",
       "      <td>0.015978</td>\n",
       "      <td>1.0</td>\n",
       "    </tr>\n",
       "    <tr>\n",
       "      <th>763</th>\n",
       "      <td>MA0507.2</td>\n",
       "      <td>POU2F2</td>\n",
       "      <td>7</td>\n",
       "      <td>7</td>\n",
       "      <td>18</td>\n",
       "      <td>73</td>\n",
       "      <td>3.894737</td>\n",
       "      <td>0.020782</td>\n",
       "      <td>1.0</td>\n",
       "    </tr>\n",
       "    <tr>\n",
       "      <th>443</th>\n",
       "      <td>MA1546.1</td>\n",
       "      <td>PAX3</td>\n",
       "      <td>14</td>\n",
       "      <td>0</td>\n",
       "      <td>68</td>\n",
       "      <td>23</td>\n",
       "      <td>5.217391</td>\n",
       "      <td>0.023964</td>\n",
       "      <td>1.0</td>\n",
       "    </tr>\n",
       "    <tr>\n",
       "      <th>436</th>\n",
       "      <td>MA1537.1</td>\n",
       "      <td>NR2F1</td>\n",
       "      <td>9</td>\n",
       "      <td>5</td>\n",
       "      <td>30</td>\n",
       "      <td>61</td>\n",
       "      <td>3.333333</td>\n",
       "      <td>0.026569</td>\n",
       "      <td>1.0</td>\n",
       "    </tr>\n",
       "    <tr>\n",
       "      <th>217</th>\n",
       "      <td>MA0780.1</td>\n",
       "      <td>PAX3</td>\n",
       "      <td>12</td>\n",
       "      <td>2</td>\n",
       "      <td>51</td>\n",
       "      <td>40</td>\n",
       "      <td>3.416667</td>\n",
       "      <td>0.030241</td>\n",
       "      <td>1.0</td>\n",
       "    </tr>\n",
       "    <tr>\n",
       "      <th>412</th>\n",
       "      <td>MA1506.1</td>\n",
       "      <td>HOXD10</td>\n",
       "      <td>9</td>\n",
       "      <td>5</td>\n",
       "      <td>32</td>\n",
       "      <td>59</td>\n",
       "      <td>3.030303</td>\n",
       "      <td>0.038499</td>\n",
       "      <td>1.0</td>\n",
       "    </tr>\n",
       "    <tr>\n",
       "      <th>678</th>\n",
       "      <td>MA1940.1</td>\n",
       "      <td>ETV2::DRGX</td>\n",
       "      <td>14</td>\n",
       "      <td>0</td>\n",
       "      <td>71</td>\n",
       "      <td>20</td>\n",
       "      <td>4.375000</td>\n",
       "      <td>0.041413</td>\n",
       "      <td>1.0</td>\n",
       "    </tr>\n",
       "    <tr>\n",
       "      <th>350</th>\n",
       "      <td>MA1155.1</td>\n",
       "      <td>ZSCAN4</td>\n",
       "      <td>5</td>\n",
       "      <td>9</td>\n",
       "      <td>12</td>\n",
       "      <td>79</td>\n",
       "      <td>3.692308</td>\n",
       "      <td>0.048705</td>\n",
       "      <td>1.0</td>\n",
       "    </tr>\n",
       "    <tr>\n",
       "      <th>528</th>\n",
       "      <td>MA0702.2</td>\n",
       "      <td>LMX1A</td>\n",
       "      <td>12</td>\n",
       "      <td>2</td>\n",
       "      <td>54</td>\n",
       "      <td>37</td>\n",
       "      <td>2.993939</td>\n",
       "      <td>0.049295</td>\n",
       "      <td>1.0</td>\n",
       "    </tr>\n",
       "    <tr>\n",
       "      <th>806</th>\n",
       "      <td>MA0831.3</td>\n",
       "      <td>TFE3</td>\n",
       "      <td>9</td>\n",
       "      <td>5</td>\n",
       "      <td>34</td>\n",
       "      <td>57</td>\n",
       "      <td>2.761905</td>\n",
       "      <td>0.054144</td>\n",
       "      <td>1.0</td>\n",
       "    </tr>\n",
       "    <tr>\n",
       "      <th>383</th>\n",
       "      <td>MA1463.1</td>\n",
       "      <td>ARGFX</td>\n",
       "      <td>14</td>\n",
       "      <td>0</td>\n",
       "      <td>74</td>\n",
       "      <td>17</td>\n",
       "      <td>3.600000</td>\n",
       "      <td>0.070104</td>\n",
       "      <td>1.0</td>\n",
       "    </tr>\n",
       "    <tr>\n",
       "      <th>800</th>\n",
       "      <td>MA0798.3</td>\n",
       "      <td>RFX3</td>\n",
       "      <td>3</td>\n",
       "      <td>11</td>\n",
       "      <td>5</td>\n",
       "      <td>86</td>\n",
       "      <td>4.833333</td>\n",
       "      <td>0.071225</td>\n",
       "      <td>1.0</td>\n",
       "    </tr>\n",
       "    <tr>\n",
       "      <th>105</th>\n",
       "      <td>MA0647.1</td>\n",
       "      <td>GRHL1</td>\n",
       "      <td>13</td>\n",
       "      <td>1</td>\n",
       "      <td>66</td>\n",
       "      <td>25</td>\n",
       "      <td>2.716418</td>\n",
       "      <td>0.088354</td>\n",
       "      <td>1.0</td>\n",
       "    </tr>\n",
       "    <tr>\n",
       "      <th>533</th>\n",
       "      <td>MA0075.3</td>\n",
       "      <td>PRRX2</td>\n",
       "      <td>13</td>\n",
       "      <td>1</td>\n",
       "      <td>66</td>\n",
       "      <td>25</td>\n",
       "      <td>2.716418</td>\n",
       "      <td>0.088354</td>\n",
       "      <td>1.0</td>\n",
       "    </tr>\n",
       "    <tr>\n",
       "      <th>401</th>\n",
       "      <td>MA1494.1</td>\n",
       "      <td>HNF4A</td>\n",
       "      <td>5</td>\n",
       "      <td>9</td>\n",
       "      <td>15</td>\n",
       "      <td>76</td>\n",
       "      <td>2.887500</td>\n",
       "      <td>0.094742</td>\n",
       "      <td>1.0</td>\n",
       "    </tr>\n",
       "  </tbody>\n",
       "</table>\n",
       "</div>"
      ],
      "text/plain": [
       "           AC          ID  count_candidates_w_hit  count_candidates_wo_hit  \\\n",
       "446  MA1550.1       PPARD                       8                        6   \n",
       "763  MA0507.2      POU2F2                       7                        7   \n",
       "443  MA1546.1        PAX3                      14                        0   \n",
       "436  MA1537.1       NR2F1                       9                        5   \n",
       "217  MA0780.1        PAX3                      12                        2   \n",
       "412  MA1506.1      HOXD10                       9                        5   \n",
       "678  MA1940.1  ETV2::DRGX                      14                        0   \n",
       "350  MA1155.1      ZSCAN4                       5                        9   \n",
       "528  MA0702.2       LMX1A                      12                        2   \n",
       "806  MA0831.3        TFE3                       9                        5   \n",
       "383  MA1463.1       ARGFX                      14                        0   \n",
       "800  MA0798.3        RFX3                       3                       11   \n",
       "105  MA0647.1       GRHL1                      13                        1   \n",
       "533  MA0075.3       PRRX2                      13                        1   \n",
       "401  MA1494.1       HNF4A                       5                        9   \n",
       "\n",
       "     count_others_w_hit  count_others_wo_hit  odds_ratio      pval  \\\n",
       "446                  22                   69    3.913043  0.015978   \n",
       "763                  18                   73    3.894737  0.020782   \n",
       "443                  68                   23    5.217391  0.023964   \n",
       "436                  30                   61    3.333333  0.026569   \n",
       "217                  51                   40    3.416667  0.030241   \n",
       "412                  32                   59    3.030303  0.038499   \n",
       "678                  71                   20    4.375000  0.041413   \n",
       "350                  12                   79    3.692308  0.048705   \n",
       "528                  54                   37    2.993939  0.049295   \n",
       "806                  34                   57    2.761905  0.054144   \n",
       "383                  74                   17    3.600000  0.070104   \n",
       "800                   5                   86    4.833333  0.071225   \n",
       "105                  66                   25    2.716418  0.088354   \n",
       "533                  66                   25    2.716418  0.088354   \n",
       "401                  15                   76    2.887500  0.094742   \n",
       "\n",
       "     pval_corrected  \n",
       "446             1.0  \n",
       "763             1.0  \n",
       "443             1.0  \n",
       "436             1.0  \n",
       "217             1.0  \n",
       "412             1.0  \n",
       "678             1.0  \n",
       "350             1.0  \n",
       "528             1.0  \n",
       "806             1.0  \n",
       "383             1.0  \n",
       "800             1.0  \n",
       "105             1.0  \n",
       "533             1.0  \n",
       "401             1.0  "
      ]
     },
     "execution_count": 52,
     "metadata": {},
     "output_type": "execute_result"
    }
   ],
   "source": [
    "table_counts_promoters_hits.sort_values(by='pval', ascending=True).head(15)"
   ]
  },
  {
   "cell_type": "code",
   "execution_count": 53,
   "metadata": {},
   "outputs": [],
   "source": [
    "# Full set of results, sorted by raw P-value\n",
    "tmp_n = table_counts_promoters_hits.sort_values(\n",
    "    by='pval', ascending=True\n",
    ").drop(\n",
    "    columns=['pval_corrected']\n",
    ")"
   ]
  },
  {
   "cell_type": "code",
   "execution_count": 50,
   "metadata": {
    "ExecuteTime": {
     "end_time": "2023-09-20T09:51:23.156271Z",
     "start_time": "2023-09-20T09:51:22.903737Z"
    }
   },
   "outputs": [],
   "source": [
    "EXPORT = False\n",
    "\n",
    "\n",
    "if EXPORT:\n",
    "    tmp_n.to_csv(\"./motifs_hits_count_measured_promoters.ALL.tsv\", header=True, index=False, sep=\"\\t\")\n",
    "    tmp1.to_csv(\"./motifs_hits_count_measured_promoters.subset_OR1.tsv\", sep=\"\\t\", header=True, index=False)\n",
    "    tmp3.to_csv(\"./motifs_hits_count_measured_promoters.subset_OR2.tsv\", sep=\"\\t\", header=True, index=False)\n",
    "    tmp3.to_csv(\"./motifs_hits_count_measured_promoters.subset_OR2_pval0_1.tsv\", sep=\"\\t\", header=True, index=False)"
   ]
  },
  {
   "cell_type": "markdown",
   "metadata": {},
   "source": [
    "# Plot"
   ]
  },
  {
   "cell_type": "markdown",
   "metadata": {},
   "source": [
    "Here we want to represent visually the top TF motifs showing enrichment in candidate promoters."
   ]
  },
  {
   "cell_type": "code",
   "execution_count": 62,
   "metadata": {},
   "outputs": [
    {
     "data": {
      "text/html": [
       "<div>\n",
       "<style scoped>\n",
       "    .dataframe tbody tr th:only-of-type {\n",
       "        vertical-align: middle;\n",
       "    }\n",
       "\n",
       "    .dataframe tbody tr th {\n",
       "        vertical-align: top;\n",
       "    }\n",
       "\n",
       "    .dataframe thead th {\n",
       "        text-align: right;\n",
       "    }\n",
       "</style>\n",
       "<table border=\"1\" class=\"dataframe\">\n",
       "  <thead>\n",
       "    <tr style=\"text-align: right;\">\n",
       "      <th></th>\n",
       "      <th>AC</th>\n",
       "      <th>ID</th>\n",
       "      <th>count_candidates_w_hit</th>\n",
       "      <th>count_candidates_wo_hit</th>\n",
       "      <th>count_others_w_hit</th>\n",
       "      <th>count_others_wo_hit</th>\n",
       "      <th>odds_ratio</th>\n",
       "      <th>pval</th>\n",
       "    </tr>\n",
       "  </thead>\n",
       "  <tbody>\n",
       "    <tr>\n",
       "      <th>446</th>\n",
       "      <td>MA1550.1</td>\n",
       "      <td>PPARD</td>\n",
       "      <td>8</td>\n",
       "      <td>6</td>\n",
       "      <td>22</td>\n",
       "      <td>69</td>\n",
       "      <td>3.913043</td>\n",
       "      <td>0.015978</td>\n",
       "    </tr>\n",
       "    <tr>\n",
       "      <th>763</th>\n",
       "      <td>MA0507.2</td>\n",
       "      <td>POU2F2</td>\n",
       "      <td>7</td>\n",
       "      <td>7</td>\n",
       "      <td>18</td>\n",
       "      <td>73</td>\n",
       "      <td>3.894737</td>\n",
       "      <td>0.020782</td>\n",
       "    </tr>\n",
       "    <tr>\n",
       "      <th>443</th>\n",
       "      <td>MA1546.1</td>\n",
       "      <td>PAX3</td>\n",
       "      <td>14</td>\n",
       "      <td>0</td>\n",
       "      <td>68</td>\n",
       "      <td>23</td>\n",
       "      <td>5.217391</td>\n",
       "      <td>0.023964</td>\n",
       "    </tr>\n",
       "    <tr>\n",
       "      <th>436</th>\n",
       "      <td>MA1537.1</td>\n",
       "      <td>NR2F1</td>\n",
       "      <td>9</td>\n",
       "      <td>5</td>\n",
       "      <td>30</td>\n",
       "      <td>61</td>\n",
       "      <td>3.333333</td>\n",
       "      <td>0.026569</td>\n",
       "    </tr>\n",
       "    <tr>\n",
       "      <th>217</th>\n",
       "      <td>MA0780.1</td>\n",
       "      <td>PAX3</td>\n",
       "      <td>12</td>\n",
       "      <td>2</td>\n",
       "      <td>51</td>\n",
       "      <td>40</td>\n",
       "      <td>3.416667</td>\n",
       "      <td>0.030241</td>\n",
       "    </tr>\n",
       "    <tr>\n",
       "      <th>412</th>\n",
       "      <td>MA1506.1</td>\n",
       "      <td>HOXD10</td>\n",
       "      <td>9</td>\n",
       "      <td>5</td>\n",
       "      <td>32</td>\n",
       "      <td>59</td>\n",
       "      <td>3.030303</td>\n",
       "      <td>0.038499</td>\n",
       "    </tr>\n",
       "    <tr>\n",
       "      <th>678</th>\n",
       "      <td>MA1940.1</td>\n",
       "      <td>ETV2::DRGX</td>\n",
       "      <td>14</td>\n",
       "      <td>0</td>\n",
       "      <td>71</td>\n",
       "      <td>20</td>\n",
       "      <td>4.375000</td>\n",
       "      <td>0.041413</td>\n",
       "    </tr>\n",
       "    <tr>\n",
       "      <th>350</th>\n",
       "      <td>MA1155.1</td>\n",
       "      <td>ZSCAN4</td>\n",
       "      <td>5</td>\n",
       "      <td>9</td>\n",
       "      <td>12</td>\n",
       "      <td>79</td>\n",
       "      <td>3.692308</td>\n",
       "      <td>0.048705</td>\n",
       "    </tr>\n",
       "    <tr>\n",
       "      <th>528</th>\n",
       "      <td>MA0702.2</td>\n",
       "      <td>LMX1A</td>\n",
       "      <td>12</td>\n",
       "      <td>2</td>\n",
       "      <td>54</td>\n",
       "      <td>37</td>\n",
       "      <td>2.993939</td>\n",
       "      <td>0.049295</td>\n",
       "    </tr>\n",
       "    <tr>\n",
       "      <th>806</th>\n",
       "      <td>MA0831.3</td>\n",
       "      <td>TFE3</td>\n",
       "      <td>9</td>\n",
       "      <td>5</td>\n",
       "      <td>34</td>\n",
       "      <td>57</td>\n",
       "      <td>2.761905</td>\n",
       "      <td>0.054144</td>\n",
       "    </tr>\n",
       "    <tr>\n",
       "      <th>383</th>\n",
       "      <td>MA1463.1</td>\n",
       "      <td>ARGFX</td>\n",
       "      <td>14</td>\n",
       "      <td>0</td>\n",
       "      <td>74</td>\n",
       "      <td>17</td>\n",
       "      <td>3.600000</td>\n",
       "      <td>0.070104</td>\n",
       "    </tr>\n",
       "    <tr>\n",
       "      <th>800</th>\n",
       "      <td>MA0798.3</td>\n",
       "      <td>RFX3</td>\n",
       "      <td>3</td>\n",
       "      <td>11</td>\n",
       "      <td>5</td>\n",
       "      <td>86</td>\n",
       "      <td>4.833333</td>\n",
       "      <td>0.071225</td>\n",
       "    </tr>\n",
       "    <tr>\n",
       "      <th>105</th>\n",
       "      <td>MA0647.1</td>\n",
       "      <td>GRHL1</td>\n",
       "      <td>13</td>\n",
       "      <td>1</td>\n",
       "      <td>66</td>\n",
       "      <td>25</td>\n",
       "      <td>2.716418</td>\n",
       "      <td>0.088354</td>\n",
       "    </tr>\n",
       "    <tr>\n",
       "      <th>533</th>\n",
       "      <td>MA0075.3</td>\n",
       "      <td>PRRX2</td>\n",
       "      <td>13</td>\n",
       "      <td>1</td>\n",
       "      <td>66</td>\n",
       "      <td>25</td>\n",
       "      <td>2.716418</td>\n",
       "      <td>0.088354</td>\n",
       "    </tr>\n",
       "    <tr>\n",
       "      <th>401</th>\n",
       "      <td>MA1494.1</td>\n",
       "      <td>HNF4A</td>\n",
       "      <td>5</td>\n",
       "      <td>9</td>\n",
       "      <td>15</td>\n",
       "      <td>76</td>\n",
       "      <td>2.887500</td>\n",
       "      <td>0.094742</td>\n",
       "    </tr>\n",
       "    <tr>\n",
       "      <th>15</th>\n",
       "      <td>MA0074.1</td>\n",
       "      <td>RXRA::VDR</td>\n",
       "      <td>14</td>\n",
       "      <td>0</td>\n",
       "      <td>76</td>\n",
       "      <td>15</td>\n",
       "      <td>3.116883</td>\n",
       "      <td>0.098515</td>\n",
       "    </tr>\n",
       "  </tbody>\n",
       "</table>\n",
       "</div>"
      ],
      "text/plain": [
       "           AC          ID  count_candidates_w_hit  count_candidates_wo_hit  \\\n",
       "446  MA1550.1       PPARD                       8                        6   \n",
       "763  MA0507.2      POU2F2                       7                        7   \n",
       "443  MA1546.1        PAX3                      14                        0   \n",
       "436  MA1537.1       NR2F1                       9                        5   \n",
       "217  MA0780.1        PAX3                      12                        2   \n",
       "412  MA1506.1      HOXD10                       9                        5   \n",
       "678  MA1940.1  ETV2::DRGX                      14                        0   \n",
       "350  MA1155.1      ZSCAN4                       5                        9   \n",
       "528  MA0702.2       LMX1A                      12                        2   \n",
       "806  MA0831.3        TFE3                       9                        5   \n",
       "383  MA1463.1       ARGFX                      14                        0   \n",
       "800  MA0798.3        RFX3                       3                       11   \n",
       "105  MA0647.1       GRHL1                      13                        1   \n",
       "533  MA0075.3       PRRX2                      13                        1   \n",
       "401  MA1494.1       HNF4A                       5                        9   \n",
       "15   MA0074.1   RXRA::VDR                      14                        0   \n",
       "\n",
       "     count_others_w_hit  count_others_wo_hit  odds_ratio      pval  \n",
       "446                  22                   69    3.913043  0.015978  \n",
       "763                  18                   73    3.894737  0.020782  \n",
       "443                  68                   23    5.217391  0.023964  \n",
       "436                  30                   61    3.333333  0.026569  \n",
       "217                  51                   40    3.416667  0.030241  \n",
       "412                  32                   59    3.030303  0.038499  \n",
       "678                  71                   20    4.375000  0.041413  \n",
       "350                  12                   79    3.692308  0.048705  \n",
       "528                  54                   37    2.993939  0.049295  \n",
       "806                  34                   57    2.761905  0.054144  \n",
       "383                  74                   17    3.600000  0.070104  \n",
       "800                   5                   86    4.833333  0.071225  \n",
       "105                  66                   25    2.716418  0.088354  \n",
       "533                  66                   25    2.716418  0.088354  \n",
       "401                  15                   76    2.887500  0.094742  \n",
       "15                   76                   15    3.116883  0.098515  "
      ]
     },
     "execution_count": 62,
     "metadata": {},
     "output_type": "execute_result"
    }
   ],
   "source": [
    "tmp_n.loc[lambda df: df['pval']<0.1]"
   ]
  },
  {
   "cell_type": "code",
   "execution_count": 99,
   "metadata": {},
   "outputs": [],
   "source": [
    "tmp_plot=tmp_n.loc[lambda df: df['pval']<0.1,:].assign(min_log10_pval=lambda df: -df['pval'].map(np.log10))"
   ]
  },
  {
   "cell_type": "code",
   "execution_count": 100,
   "metadata": {},
   "outputs": [
    {
     "data": {
      "text/html": [
       "<div>\n",
       "<style scoped>\n",
       "    .dataframe tbody tr th:only-of-type {\n",
       "        vertical-align: middle;\n",
       "    }\n",
       "\n",
       "    .dataframe tbody tr th {\n",
       "        vertical-align: top;\n",
       "    }\n",
       "\n",
       "    .dataframe thead th {\n",
       "        text-align: right;\n",
       "    }\n",
       "</style>\n",
       "<table border=\"1\" class=\"dataframe\">\n",
       "  <thead>\n",
       "    <tr style=\"text-align: right;\">\n",
       "      <th></th>\n",
       "      <th>AC</th>\n",
       "      <th>ID</th>\n",
       "      <th>count_candidates_w_hit</th>\n",
       "      <th>count_candidates_wo_hit</th>\n",
       "      <th>count_others_w_hit</th>\n",
       "      <th>count_others_wo_hit</th>\n",
       "      <th>odds_ratio</th>\n",
       "      <th>pval</th>\n",
       "      <th>min_log10_pval</th>\n",
       "    </tr>\n",
       "  </thead>\n",
       "  <tbody>\n",
       "    <tr>\n",
       "      <th>446</th>\n",
       "      <td>MA1550.1</td>\n",
       "      <td>PPARD</td>\n",
       "      <td>8</td>\n",
       "      <td>6</td>\n",
       "      <td>22</td>\n",
       "      <td>69</td>\n",
       "      <td>3.913043</td>\n",
       "      <td>0.015978</td>\n",
       "      <td>1.796486</td>\n",
       "    </tr>\n",
       "    <tr>\n",
       "      <th>763</th>\n",
       "      <td>MA0507.2</td>\n",
       "      <td>POU2F2</td>\n",
       "      <td>7</td>\n",
       "      <td>7</td>\n",
       "      <td>18</td>\n",
       "      <td>73</td>\n",
       "      <td>3.894737</td>\n",
       "      <td>0.020782</td>\n",
       "      <td>1.682311</td>\n",
       "    </tr>\n",
       "    <tr>\n",
       "      <th>443</th>\n",
       "      <td>MA1546.1</td>\n",
       "      <td>PAX3</td>\n",
       "      <td>14</td>\n",
       "      <td>0</td>\n",
       "      <td>68</td>\n",
       "      <td>23</td>\n",
       "      <td>5.217391</td>\n",
       "      <td>0.023964</td>\n",
       "      <td>1.620439</td>\n",
       "    </tr>\n",
       "    <tr>\n",
       "      <th>436</th>\n",
       "      <td>MA1537.1</td>\n",
       "      <td>NR2F1</td>\n",
       "      <td>9</td>\n",
       "      <td>5</td>\n",
       "      <td>30</td>\n",
       "      <td>61</td>\n",
       "      <td>3.333333</td>\n",
       "      <td>0.026569</td>\n",
       "      <td>1.575619</td>\n",
       "    </tr>\n",
       "    <tr>\n",
       "      <th>217</th>\n",
       "      <td>MA0780.1</td>\n",
       "      <td>PAX3</td>\n",
       "      <td>12</td>\n",
       "      <td>2</td>\n",
       "      <td>51</td>\n",
       "      <td>40</td>\n",
       "      <td>3.416667</td>\n",
       "      <td>0.030241</td>\n",
       "      <td>1.519403</td>\n",
       "    </tr>\n",
       "    <tr>\n",
       "      <th>412</th>\n",
       "      <td>MA1506.1</td>\n",
       "      <td>HOXD10</td>\n",
       "      <td>9</td>\n",
       "      <td>5</td>\n",
       "      <td>32</td>\n",
       "      <td>59</td>\n",
       "      <td>3.030303</td>\n",
       "      <td>0.038499</td>\n",
       "      <td>1.414549</td>\n",
       "    </tr>\n",
       "    <tr>\n",
       "      <th>678</th>\n",
       "      <td>MA1940.1</td>\n",
       "      <td>ETV2::DRGX</td>\n",
       "      <td>14</td>\n",
       "      <td>0</td>\n",
       "      <td>71</td>\n",
       "      <td>20</td>\n",
       "      <td>4.375000</td>\n",
       "      <td>0.041413</td>\n",
       "      <td>1.382868</td>\n",
       "    </tr>\n",
       "    <tr>\n",
       "      <th>350</th>\n",
       "      <td>MA1155.1</td>\n",
       "      <td>ZSCAN4</td>\n",
       "      <td>5</td>\n",
       "      <td>9</td>\n",
       "      <td>12</td>\n",
       "      <td>79</td>\n",
       "      <td>3.692308</td>\n",
       "      <td>0.048705</td>\n",
       "      <td>1.312424</td>\n",
       "    </tr>\n",
       "    <tr>\n",
       "      <th>528</th>\n",
       "      <td>MA0702.2</td>\n",
       "      <td>LMX1A</td>\n",
       "      <td>12</td>\n",
       "      <td>2</td>\n",
       "      <td>54</td>\n",
       "      <td>37</td>\n",
       "      <td>2.993939</td>\n",
       "      <td>0.049295</td>\n",
       "      <td>1.307195</td>\n",
       "    </tr>\n",
       "    <tr>\n",
       "      <th>806</th>\n",
       "      <td>MA0831.3</td>\n",
       "      <td>TFE3</td>\n",
       "      <td>9</td>\n",
       "      <td>5</td>\n",
       "      <td>34</td>\n",
       "      <td>57</td>\n",
       "      <td>2.761905</td>\n",
       "      <td>0.054144</td>\n",
       "      <td>1.266452</td>\n",
       "    </tr>\n",
       "    <tr>\n",
       "      <th>383</th>\n",
       "      <td>MA1463.1</td>\n",
       "      <td>ARGFX</td>\n",
       "      <td>14</td>\n",
       "      <td>0</td>\n",
       "      <td>74</td>\n",
       "      <td>17</td>\n",
       "      <td>3.600000</td>\n",
       "      <td>0.070104</td>\n",
       "      <td>1.154255</td>\n",
       "    </tr>\n",
       "    <tr>\n",
       "      <th>800</th>\n",
       "      <td>MA0798.3</td>\n",
       "      <td>RFX3</td>\n",
       "      <td>3</td>\n",
       "      <td>11</td>\n",
       "      <td>5</td>\n",
       "      <td>86</td>\n",
       "      <td>4.833333</td>\n",
       "      <td>0.071225</td>\n",
       "      <td>1.147369</td>\n",
       "    </tr>\n",
       "    <tr>\n",
       "      <th>105</th>\n",
       "      <td>MA0647.1</td>\n",
       "      <td>GRHL1</td>\n",
       "      <td>13</td>\n",
       "      <td>1</td>\n",
       "      <td>66</td>\n",
       "      <td>25</td>\n",
       "      <td>2.716418</td>\n",
       "      <td>0.088354</td>\n",
       "      <td>1.053776</td>\n",
       "    </tr>\n",
       "    <tr>\n",
       "      <th>533</th>\n",
       "      <td>MA0075.3</td>\n",
       "      <td>PRRX2</td>\n",
       "      <td>13</td>\n",
       "      <td>1</td>\n",
       "      <td>66</td>\n",
       "      <td>25</td>\n",
       "      <td>2.716418</td>\n",
       "      <td>0.088354</td>\n",
       "      <td>1.053776</td>\n",
       "    </tr>\n",
       "    <tr>\n",
       "      <th>401</th>\n",
       "      <td>MA1494.1</td>\n",
       "      <td>HNF4A</td>\n",
       "      <td>5</td>\n",
       "      <td>9</td>\n",
       "      <td>15</td>\n",
       "      <td>76</td>\n",
       "      <td>2.887500</td>\n",
       "      <td>0.094742</td>\n",
       "      <td>1.023459</td>\n",
       "    </tr>\n",
       "    <tr>\n",
       "      <th>15</th>\n",
       "      <td>MA0074.1</td>\n",
       "      <td>RXRA::VDR</td>\n",
       "      <td>14</td>\n",
       "      <td>0</td>\n",
       "      <td>76</td>\n",
       "      <td>15</td>\n",
       "      <td>3.116883</td>\n",
       "      <td>0.098515</td>\n",
       "      <td>1.006497</td>\n",
       "    </tr>\n",
       "  </tbody>\n",
       "</table>\n",
       "</div>"
      ],
      "text/plain": [
       "           AC          ID  count_candidates_w_hit  count_candidates_wo_hit  \\\n",
       "446  MA1550.1       PPARD                       8                        6   \n",
       "763  MA0507.2      POU2F2                       7                        7   \n",
       "443  MA1546.1        PAX3                      14                        0   \n",
       "436  MA1537.1       NR2F1                       9                        5   \n",
       "217  MA0780.1        PAX3                      12                        2   \n",
       "412  MA1506.1      HOXD10                       9                        5   \n",
       "678  MA1940.1  ETV2::DRGX                      14                        0   \n",
       "350  MA1155.1      ZSCAN4                       5                        9   \n",
       "528  MA0702.2       LMX1A                      12                        2   \n",
       "806  MA0831.3        TFE3                       9                        5   \n",
       "383  MA1463.1       ARGFX                      14                        0   \n",
       "800  MA0798.3        RFX3                       3                       11   \n",
       "105  MA0647.1       GRHL1                      13                        1   \n",
       "533  MA0075.3       PRRX2                      13                        1   \n",
       "401  MA1494.1       HNF4A                       5                        9   \n",
       "15   MA0074.1   RXRA::VDR                      14                        0   \n",
       "\n",
       "     count_others_w_hit  count_others_wo_hit  odds_ratio      pval  \\\n",
       "446                  22                   69    3.913043  0.015978   \n",
       "763                  18                   73    3.894737  0.020782   \n",
       "443                  68                   23    5.217391  0.023964   \n",
       "436                  30                   61    3.333333  0.026569   \n",
       "217                  51                   40    3.416667  0.030241   \n",
       "412                  32                   59    3.030303  0.038499   \n",
       "678                  71                   20    4.375000  0.041413   \n",
       "350                  12                   79    3.692308  0.048705   \n",
       "528                  54                   37    2.993939  0.049295   \n",
       "806                  34                   57    2.761905  0.054144   \n",
       "383                  74                   17    3.600000  0.070104   \n",
       "800                   5                   86    4.833333  0.071225   \n",
       "105                  66                   25    2.716418  0.088354   \n",
       "533                  66                   25    2.716418  0.088354   \n",
       "401                  15                   76    2.887500  0.094742   \n",
       "15                   76                   15    3.116883  0.098515   \n",
       "\n",
       "     min_log10_pval  \n",
       "446        1.796486  \n",
       "763        1.682311  \n",
       "443        1.620439  \n",
       "436        1.575619  \n",
       "217        1.519403  \n",
       "412        1.414549  \n",
       "678        1.382868  \n",
       "350        1.312424  \n",
       "528        1.307195  \n",
       "806        1.266452  \n",
       "383        1.154255  \n",
       "800        1.147369  \n",
       "105        1.053776  \n",
       "533        1.053776  \n",
       "401        1.023459  \n",
       "15         1.006497  "
      ]
     },
     "execution_count": 100,
     "metadata": {},
     "output_type": "execute_result"
    }
   ],
   "source": [
    "tmp_plot"
   ]
  },
  {
   "cell_type": "code",
   "execution_count": 98,
   "metadata": {},
   "outputs": [
    {
     "data": {
      "image/png": "[encoded data removed]",
      "text/plain": [
       "<Figure size 688.222x500 with 1 Axes>"
      ]
     },
     "metadata": {},
     "output_type": "display_data"
    }
   ],
   "source": [
    "# fig = plt.figure(figsize=(10,8))\n",
    "\n",
    "\n",
    "g = sns.relplot(\n",
    "    data=tmp_plot,\n",
    "    y=\"min_log10_pval\",\n",
    "    x=\"odds_ratio\",\n",
    "    hue=\"min_log10_pval\",\n",
    "    size=\"count_candidates_w_hit\",\n",
    "    sizes=(50, 100),\n",
    "    linewidth=1,\n",
    "    edgecolor=\"#444444\",\n",
    ")\n",
    "\n",
    "\n",
    "# g.axes[0].grid(True)\n",
    "g.ax.grid(False)\n",
    "\n",
    "for i, row in tmp_plot.iterrows():\n",
    "    g.ax.annotate(\n",
    "        xy=(row[\"odds_ratio\"], row[\"min_log10_pval\"]),\n",
    "        xytext=(row[\"odds_ratio\"] + 0.1, row[\"min_log10_pval\"]),\n",
    "        text=f\"{row['ID']}\\n({row['AC']})\",\n",
    "    )\n",
    "\n",
    "# plt.tight_layout()\n",
    "if EXPORT:\n",
    "    plt.savefig(\"plot_significant_enriched_hits.svg\")\n",
    "\n",
    "plt.show()"
   ]
  }
 ],
 "metadata": {
  "kernelspec": {
   "display_name": "Python 3 (ipykernel)",
   "language": "python",
   "name": "python3"
  },
  "language_info": {
   "codemirror_mode": {
    "name": "ipython",
    "version": 3
   },
   "file_extension": ".py",
   "mimetype": "text/x-python",
   "name": "python",
   "nbconvert_exporter": "python",
   "pygments_lexer": "ipython3",
   "version": "3.9.15"
  },
  "toc": {
   "base_numbering": 1,
   "nav_menu": {},
   "number_sections": true,
   "sideBar": true,
   "skip_h1_title": false,
   "title_cell": "Table of Contents",
   "title_sidebar": "Contents",
   "toc_cell": false,
   "toc_position": {},
   "toc_section_display": true,
   "toc_window_display": false
  }
 },
 "nbformat": 4,
 "nbformat_minor": 2
}
