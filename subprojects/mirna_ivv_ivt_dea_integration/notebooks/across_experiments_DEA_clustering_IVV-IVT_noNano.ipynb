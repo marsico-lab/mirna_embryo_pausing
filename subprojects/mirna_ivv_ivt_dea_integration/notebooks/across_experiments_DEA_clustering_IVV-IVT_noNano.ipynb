{
 "cells": [
  {
   "cell_type": "code",
   "execution_count": 1,
   "metadata": {
    "ExecuteTime": {
     "end_time": "2021-07-01T13:39:30.790635Z",
     "start_time": "2021-07-01T13:39:30.767123Z"
    }
   },
   "outputs": [],
   "source": []
  },
  {
   "cell_type": "markdown",
   "metadata": {},
   "source": [
    "# Imports and def"
   ]
  },
  {
   "cell_type": "markdown",
   "metadata": {},
   "source": [
    "## Imports"
   ]
  },
  {
   "cell_type": "code",
   "execution_count": 71,
   "metadata": {
    "ExecuteTime": {
     "end_time": "2021-07-01T14:39:14.465751Z",
     "start_time": "2021-07-01T14:39:14.453603Z"
    }
   },
   "outputs": [],
   "source": [
    "import collections\n",
    "import importlib\n",
    "import inspect\n",
    "import glob\n",
    "import gzip\n",
    "import os\n",
    "import pathlib\n",
    "import re\n",
    "import sys\n",
    "\n",
    "\n",
    "import itertools as itt\n",
    "import pandas as pd\n",
    "import numpy as np\n",
    "\n",
    "import scipy.stats\n",
    "import sklearn\n",
    "\n",
    "from IPython.display import display"
   ]
  },
  {
   "cell_type": "code",
   "execution_count": 2,
   "metadata": {
    "ExecuteTime": {
     "end_time": "2021-07-01T14:08:21.036617Z",
     "start_time": "2021-07-01T14:08:20.000798Z"
    }
   },
   "outputs": [],
   "source": [
    "# for comparing cluster results from different clustering methods / runs\n",
    "import clusim\n",
    "import clusim.sim\n",
    "from clusim.clustering import Clustering, print_clustering"
   ]
  },
  {
   "cell_type": "code",
   "execution_count": 3,
   "metadata": {
    "ExecuteTime": {
     "end_time": "2021-07-01T14:08:26.528704Z",
     "start_time": "2021-07-01T14:08:26.486522Z"
    }
   },
   "outputs": [],
   "source": [
    "import sklearn\n",
    "import sklearn.preprocessing\n",
    "import sklearn.metrics"
   ]
  },
  {
   "cell_type": "code",
   "execution_count": 4,
   "metadata": {
    "ExecuteTime": {
     "end_time": "2021-07-01T14:08:28.933456Z",
     "start_time": "2021-07-01T14:08:28.547155Z"
    }
   },
   "outputs": [],
   "source": [
    "import matplotlib as mpl\n",
    "import matplotlib.pyplot as plt\n",
    "import seaborn as sns"
   ]
  },
  {
   "cell_type": "code",
   "execution_count": 3,
   "metadata": {
    "ExecuteTime": {
     "end_time": "2021-07-01T14:08:29.302042Z",
     "start_time": "2021-07-01T14:08:29.279921Z"
    }
   },
   "outputs": [
    {
     "ename": "NameError",
     "evalue": "name 'importlib' is not defined",
     "output_type": "error",
     "traceback": [
      "\u001b[0;31m---------------------------------------------------------------------------\u001b[0m",
      "\u001b[0;31mNameError\u001b[0m                                 Traceback (most recent call last)",
      "Cell \u001b[0;32mIn[3], line 6\u001b[0m\n\u001b[1;32m      3\u001b[0m     sys\u001b[38;5;241m.\u001b[39mpath\u001b[38;5;241m.\u001b[39minsert(\u001b[38;5;241m0\u001b[39m, path)\n\u001b[1;32m      5\u001b[0m \u001b[38;5;28;01mimport\u001b[39;00m \u001b[38;5;21;01mpyDEA\u001b[39;00m\n\u001b[0;32m----> 6\u001b[0m \u001b[43mimportlib\u001b[49m\u001b[38;5;241m.\u001b[39mreload(pyDEA)\n",
      "\u001b[0;31mNameError\u001b[0m: name 'importlib' is not defined"
     ]
    }
   ],
   "source": [
    "path = \"../../../code/pydea\"\n",
    "if not path in sys.path:\n",
    "    sys.path.insert(0, path)\n",
    "\n",
    "import pyDEA\n",
    "importlib.reload(pyDEA)"
   ]
  },
  {
   "cell_type": "code",
   "execution_count": 20,
   "metadata": {
    "ExecuteTime": {
     "end_time": "2021-07-01T14:10:05.886893Z",
     "start_time": "2021-07-01T14:10:05.788430Z"
    }
   },
   "outputs": [
    {
     "data": {
      "text/plain": [
       "<module 'pyutils.ML_visualization' from '/home/icb/lambert.moyon/projects/pyutils/pyutils/ML_visualization.py'>"
      ]
     },
     "execution_count": 20,
     "metadata": {},
     "output_type": "execute_result"
    }
   ],
   "source": [
    "path = \"/home/icb/lambert.moyon/projects/pyutils/\"\n",
    "if not path in sys.path:\n",
    "    sys.path.insert(0, path)\n",
    "\n",
    "import pyutils.misc\n",
    "importlib.reload(pyutils.misc)\n",
    "\n",
    "import pyutils.plotting\n",
    "importlib.reload(pyutils.plotting)\n",
    "\n",
    "import pyutils.clustering\n",
    "importlib.reload(pyutils.clustering)\n",
    "\n",
    "import pyutils.ML_visualization\n",
    "importlib.reload(pyutils.ML_visualization)"
   ]
  },
  {
   "cell_type": "code",
   "execution_count": 21,
   "metadata": {
    "ExecuteTime": {
     "end_time": "2021-07-01T14:10:07.926466Z",
     "start_time": "2021-07-01T14:10:07.910410Z"
    }
   },
   "outputs": [
    {
     "data": {
      "text/plain": [
       "<module 'lib_misc' from '../../../code/lib_misc.py'>"
      ]
     },
     "execution_count": 21,
     "metadata": {},
     "output_type": "execute_result"
    }
   ],
   "source": [
    "path = \"../../../code/\"\n",
    "if not path in sys.path:\n",
    "    sys.path.insert(0, path)\n",
    "\n",
    "import lib_misc\n",
    "importlib.reload(lib_misc)"
   ]
  },
  {
   "cell_type": "markdown",
   "metadata": {},
   "source": [
    "## Definitions"
   ]
  },
  {
   "cell_type": "code",
   "execution_count": 151,
   "metadata": {
    "ExecuteTime": {
     "end_time": "2021-07-01T15:17:56.019478Z",
     "start_time": "2021-07-01T15:17:56.001522Z"
    }
   },
   "outputs": [
    {
     "name": "stdout",
     "output_type": "stream",
     "text": [
      "0 (62, 4)\n",
      "1 (23, 4)\n",
      "2 (14, 4)\n",
      "3 (67, 4)\n",
      "4 (107, 4)\n",
      "5 (26, 4)\n",
      "6 (13, 4)\n",
      "7 (3, 4)\n",
      "8 (12, 4)\n"
     ]
    }
   ],
   "source": [
    "for cluster, cluster_df in E14_ICM_clusters.tbl_annotated.groupby('cluster'):\n",
    "    print(cluster, cluster_df.shape)"
   ]
  },
  {
   "cell_type": "code",
   "execution_count": 8,
   "metadata": {
    "ExecuteTime": {
     "end_time": "2021-07-01T14:09:29.032312Z",
     "start_time": "2021-07-01T14:09:29.018096Z"
    },
    "code_folding": [
     0,
     3,
     20
    ]
   },
   "outputs": [],
   "source": [
    "class CmapBuilder:\n",
    "    full_range_vmin_vmax = list(range(-12,12+1, 2))\n",
    "\n",
    "    colors = [\n",
    "        '#3b0084', # Purple (cold) -12\n",
    "        '#2502b4', # Darker blue -10\n",
    "        '#1b3cf7', # Dark Blue -8\n",
    "        '#1d74f7', # blue -6\n",
    "        '#1bbdf7', # light blue -4\n",
    "        '#1cf7f7', # light cyan -2\n",
    "        '#F8FBEC', # \"cream\", center 0\n",
    "        '#ffc742', # light yellow 2\n",
    "        '#eb7a41', # orange 4\n",
    "        '#ea5b0e', # Brighter orange 6\n",
    "        '#d33209', # Red 8\n",
    "        '#9e0000', # Dark Red 10\n",
    "        '#5b0029', # Dark purple 12\n",
    "    ]\n",
    "\n",
    "\n",
    "    def get_cmap_minmax(self, vmin, vmax):\n",
    "        \"\"\"Return a cmap with controled, discrete levels colored.\n",
    "\n",
    "        vmin and vmax determine the number of levels to get.\n",
    "        To make sure the colormap is symetric, you should provide values such that abs(vmin) = (vmax)\n",
    "        \"\"\"\n",
    "        array_colors = pd.Series(self.colors, index=self.full_range_vmin_vmax)\n",
    "        sub_colors = array_colors.loc[vmin:vmax]\n",
    "        print(f\"Cmap returned range: [{sub_colors.index.min()} ; {sub_colors.index.max()}]\")\n",
    "        my_cmap = mpl.colors.LinearSegmentedColormap.from_list(\"\", sns.color_palette(sub_colors))\n",
    "        return my_cmap"
   ]
  },
  {
   "cell_type": "code",
   "execution_count": 152,
   "metadata": {
    "ExecuteTime": {
     "end_time": "2021-07-01T15:18:46.865366Z",
     "start_time": "2021-07-01T15:18:46.802940Z"
    },
    "code_folding": [
     38,
     77
    ]
   },
   "outputs": [],
   "source": [
    "class ClusteredTable:\n",
    "\n",
    "    \"\"\"\n",
    "    \"\"\"\n",
    "\n",
    "    def __init__(self, tbl, clusters, colors_clusters, DE_genes=None):\n",
    "        \"\"\"\n",
    "        \"\"\"\n",
    "        self.tbl = tbl\n",
    "        self.clusters = clusters\n",
    "        self.colors_clusters = colors_clusters\n",
    "\n",
    "        # Do the merging of clusters and tbl directly.\n",
    "        self.tbl_annotated = pd.merge(self.tbl,\n",
    "                                       self.clusters.rename('cluster').to_frame(),\n",
    "                                       left_index=True, right_index=True\n",
    "                                       )\n",
    "\n",
    "        self.DE_genes = DE_genes\n",
    "\n",
    "\n",
    "\n",
    "    def print_min_max(self):\n",
    "        \"\"\"Print min and max values over the entire table.\n",
    "        \"\"\"\n",
    "        print(f\"Min value over the table: {self.tbl.min().min()}\")\n",
    "        print(f\"Max value over the table: {self.tbl.max().max()}\")\n",
    "\n",
    "\n",
    "    def _summarize_cluster_row(self, row):\n",
    "        if all(row>0):\n",
    "            return \"positive\"\n",
    "        elif all(row<=0):\n",
    "            return \"negative\"\n",
    "        else:\n",
    "            return \"discordant\"\n",
    "\n",
    "\n",
    "    def summarize_clusters(self, DE_genes=None):\n",
    "        \"\"\"\n",
    "\n",
    "        Args:\n",
    "            DE_genes (list) : if provided, the content of each cluster is compared against this list,\n",
    "                and a column <N_DE_anyComparison> will report the overlap for each cluster.\n",
    "\n",
    "        Returns:\n",
    "            pd.DataFrame\n",
    "\n",
    "        \"\"\"\n",
    "\n",
    "        if DE_genes is None:\n",
    "            DE_genes = self.DE_genes\n",
    "\n",
    "        cluster_summarized = []\n",
    "\n",
    "        # mean value evaluation\n",
    "        mean = self.tbl_annotated.groupby('cluster').mean().add_prefix('mean.')\n",
    "        mean['mean_profile'] = mean.apply(lambda row: self._summarize_cluster_row(row), axis=1)\n",
    "\n",
    "        cluster_summarized.append(mean)\n",
    "\n",
    "        # Size\n",
    "        N_tot = self.tbl_annotated.groupby('cluster').size().rename(\"N_tot\")\n",
    "        cluster_summarized.append(N_tot)\n",
    "\n",
    "        # N DE miRNA (any comparison)\n",
    "        if DE_genes is not None:\n",
    "            N_DE_any = self.tbl_annotated.assign(DE_any=self.tbl_annotated.index.isin(DE_genes)\n",
    "                                                 ).groupby('cluster')['DE_any'].sum(\n",
    "                                                 ).rename('N_DE_anyComparison').astype(int)\n",
    "            cluster_summarized.append(N_DE_any)\n",
    "\n",
    "\n",
    "        cluster_summarized = pd.concat(cluster_summarized, axis=1)\n",
    "        return cluster_summarized\n",
    "\n",
    "\n",
    "    def plot_heatmap(self,\n",
    "                     col_linkage=None,\n",
    "                     row_clusters=True,\n",
    "                     my_cmap=None,\n",
    "                     savefigfile=None,\n",
    "                     kwargs_heatmap=None\n",
    "                    ):\n",
    "        \"\"\"Display a heatmap with clusters.\n",
    "        \"\"\"\n",
    "        if my_cmap is None:\n",
    "            my_cmap = \"vlag\"\n",
    "\n",
    "        if kwargs_heatmap is None:\n",
    "            kwargs_heatmap = {}\n",
    "\n",
    "        col_cluster = False if col_linkage is None else True\n",
    "\n",
    "        g = sns.clustermap(self.tbl.T,\n",
    "                           col_cluster=col_cluster,\n",
    "                           col_linkage=col_linkage,\n",
    "                           row_cluster=row_clusters,\n",
    "                           xticklabels=False,\n",
    "                           figsize=(16, 6),\n",
    "                           cmap=my_cmap,\n",
    "                           center=0,\n",
    "                           col_colors=self.clusters.map(self.colors_clusters).values,\n",
    "                           **kwargs_heatmap\n",
    "                          )\n",
    "\n",
    "        # show border of the heatmap\n",
    "        for _, spine in g.ax_heatmap.spines.items():\n",
    "            spine.set_visible(True)\n",
    "\n",
    "\n",
    "        # This block allows for adding a legend of the cluster colors.\n",
    "        for label, color in self.colors_clusters.items():\n",
    "            g.ax_col_dendrogram.bar(0, 0,\n",
    "                                    color=color,\n",
    "                                    label=label,\n",
    "                                    linewidth=0)\n",
    "\n",
    "        g.ax_col_dendrogram.legend(loc=\"center\", ncol=6)\n",
    "\n",
    "        # If you want to keep the yticklabels, here is the command to reduce fontsize.\n",
    "        _ = g.ax_heatmap.set_xticklabels(g.ax_heatmap.get_xmajorticklabels(), fontsize = 8)\n",
    "\n",
    "        if savefigfile is not None:\n",
    "            plt.savefig(savefigfile)\n",
    "\n",
    "        plt.show()\n",
    "\n",
    "\n",
    "\n",
    "    def export_data(self, parent_directory: pathlib.Path, suffix=None):\n",
    "        if not parent_directory.exists():\n",
    "            parent_directory.mkdir()\n",
    "\n",
    "        if suffix is not None:\n",
    "            suffix = f\".{suffix}\"\n",
    "        else:\n",
    "            suffix = \"\"\n",
    "\n",
    "        # Export the table of values used for the heatmap display\n",
    "        path_tbl_clusters = parent_directory / f\"table_w_annotated_clusters{suffix}.tsv\"\n",
    "        print(path_tbl_clusters)\n",
    "        self.tbl_annotated.to_csv(path_tbl_clusters,\n",
    "                                  header=True,\n",
    "                                  index=True,\n",
    "                                  sep=\"\\t\",\n",
    "                                 )\n",
    "\n",
    "        # export for each cluster the sub-table\n",
    "        per_cluster_dir = parent_directory / f\"per_cluster_table{suffix}\"\n",
    "        if not per_cluster_dir.exists():\n",
    "            per_cluster_dir.mkdir()\n",
    "\n",
    "        for cluster, sub_tbl in self.tbl_annotated.groupby('cluster'):\n",
    "            path_tbl_clust = per_cluster_dir / f\"cluster_{cluster}.table{suffix}.tsv\"\n",
    "            print(path_tbl_clust)\n",
    "            sub_tbl.to_csv(path_tbl_clust,\n",
    "                          header=True,\n",
    "                          index=True,\n",
    "                          sep=\"\\t\",\n",
    "                         )\n",
    "\n",
    "        # Export the summary table\n",
    "        summary_table = self.summarize_clusters()\n",
    "        path_summary_tbl = parent_directory / f\"summary_table{suffix}.tsv\"\n",
    "        print(path_summary_tbl)\n",
    "        summary_table.to_csv(path_summary_tbl,\n",
    "                          header=True,\n",
    "                          index=True,\n",
    "                          sep=\"\\t\",\n",
    "                         )\n",
    "\n",
    "\n"
   ]
  },
  {
   "cell_type": "code",
   "execution_count": null,
   "metadata": {},
   "outputs": [],
   "source": []
  },
  {
   "cell_type": "code",
   "execution_count": 10,
   "metadata": {
    "ExecuteTime": {
     "end_time": "2021-07-01T14:09:33.881259Z",
     "start_time": "2021-07-01T14:09:33.838748Z"
    },
    "code_folding": []
   },
   "outputs": [],
   "source": [
    "class ClusteringExperiment:\n",
    "\n",
    "    n_clusters = range(2,30)\n",
    "\n",
    "    def __init__(self, table, metric='euclidean', method='ward'):\n",
    "        self.table = table\n",
    "        self.metric = metric\n",
    "        self.method = method\n",
    "\n",
    "        if not self.table.shape[0] > self.table.shape[1]:\n",
    "            raise ValueError(\"Table is expected to be in long format ; clustering will be done on rows.\")\n",
    "\n",
    "        # Linkage of rows\n",
    "        self.distanceMatrix = scipy.spatial.distance.pdist(self.table, metric=self.metric)\n",
    "        self.linkage = scipy.cluster.hierarchy.linkage(self.distanceMatrix, method=self.method)\n",
    "\n",
    "        # Explore multiple cuts on the three\n",
    "        self.results = pyutils.clustering.hierarchical_clustering_cut_tree(self.table,\n",
    "                                                                           self.linkage,\n",
    "                                                                           self.n_clusters)\n",
    "        # Extract the silhouette scores\n",
    "        self.silhouettes = self.results['silhouettes'].rename('silhouette').to_frame()\n",
    "\n",
    "        # Unset N clusters\n",
    "        self.selected_N_clusters = None\n",
    "\n",
    "    @property\n",
    "    def selected_cluster_labels(self):\n",
    "        if not self.selected_N_clusters:\n",
    "            raise ValueError(\"<self.selected_N_clusters> is not set!\")\n",
    "\n",
    "        tmp = self.results['cluster_labels'][self.selected_N_clusters]\n",
    "        tmp.index = self.table.index.values\n",
    "        return tmp\n",
    "\n",
    "    @property\n",
    "    def colors_clusters(self):\n",
    "        # To try and track cluster correspondance between different experiments, clusters are sorted by size\n",
    "        # and assigned a color.\n",
    "        # It is likely that the largest clusters will match from one experiment to another.\n",
    "        if not self.selected_N_clusters:\n",
    "            raise ValueError(\"<self.selected_N_clusters> is not set!\")\n",
    "\n",
    "        colors_clusters = dict(zip(sorted(self.selected_cluster_labels.unique(),\n",
    "                                          key=lambda v: list(self.selected_cluster_labels.value_counts().index).index(v)),\n",
    "                                   [mpl.colors.rgb2hex(c) for c in sns.color_palette(palette=\"tab20\",\n",
    "                                                                                     n_colors=self.selected_N_clusters)\n",
    "                                    ]))\n",
    "\n",
    "        colors_clusters = {k:colors_clusters[k] for k in sorted(colors_clusters.keys())}\n",
    "        return colors_clusters\n",
    "\n",
    "\n",
    "    def plot_silhouettes(self, title=None, savefig_file=None):\n",
    "        if title is None:\n",
    "            title = f\"HC ; {self.metric} ; {self.method}\"\n",
    "\n",
    "        ax1 = pyutils.clustering.plot_silhouettes(self.silhouettes,\n",
    "                                                  title=title,\n",
    "                                                  ax=None,\n",
    "                                                  show_plot=False)\n",
    "\n",
    "        if self.selected_N_clusters:\n",
    "            ax1.axvline(self.selected_N_clusters-2,linestyle='--',color='#BBBBBB')\n",
    "\n",
    "        if savefig_file:\n",
    "            plt.savefig(savefig_file)\n",
    "\n",
    "        plt.show()"
   ]
  },
  {
   "cell_type": "code",
   "execution_count": 11,
   "metadata": {
    "ExecuteTime": {
     "end_time": "2021-07-01T14:09:34.822147Z",
     "start_time": "2021-07-01T14:09:34.802387Z"
    },
    "code_folding": [
     0
    ]
   },
   "outputs": [],
   "source": [
    "def cluster_heatmap(X,\n",
    "                    linkage,\n",
    "                    clusters,\n",
    "                    colors_clusters, my_cmap=None, savefigfile=None):\n",
    "    \"\"\"Display a heatmap with clusters.\n",
    "\n",
    "    Args:\n",
    "        X (pandas.DataFrame) :\n",
    "    \"\"\"\n",
    "    if my_cmap is None:\n",
    "        my_cmap = \"vlag\"\n",
    "\n",
    "    g = sns.clustermap(X.T,\n",
    "                       col_linkage=linkage,\n",
    "                       row_cluster=True,\n",
    "                       xticklabels=False,\n",
    "                       figsize=(16, 6),\n",
    "                       cmap=my_cmap,\n",
    "                       center=0,\n",
    "                       col_colors=clusters.map(colors_clusters).values\n",
    "                      )\n",
    "\n",
    "    # show border of the heatmap\n",
    "    for _, spine in g.ax_heatmap.spines.items():\n",
    "        spine.set_visible(True)\n",
    "\n",
    "\n",
    "    # This block allows for adding a legend of the cluster colors.\n",
    "    for label in colors_clusters.keys():\n",
    "        g.ax_col_dendrogram.bar(0, 0, color=colors_clusters[label],\n",
    "                                label=label, linewidth=0)\n",
    "\n",
    "    g.ax_col_dendrogram.legend(loc=\"center\", ncol=6)\n",
    "\n",
    "    # If you want to keep the yticklabels, here is the command to reduce fontsize.\n",
    "    _ = g.ax_heatmap.set_xticklabels(g.ax_heatmap.get_xmajorticklabels(), fontsize = 8)\n",
    "\n",
    "    if savefigfile is not None:\n",
    "        plt.savefig(savefigfile)\n",
    "\n",
    "    plt.show()"
   ]
  },
  {
   "cell_type": "markdown",
   "metadata": {},
   "source": [
    "# Load"
   ]
  },
  {
   "cell_type": "code",
   "execution_count": 12,
   "metadata": {
    "ExecuteTime": {
     "end_time": "2021-07-01T14:09:36.576016Z",
     "start_time": "2021-07-01T14:09:36.569149Z"
    }
   },
   "outputs": [],
   "source": [
    "DATASETS = pyutils.misc.recursive_defaultdict()"
   ]
  },
  {
   "cell_type": "markdown",
   "metadata": {},
   "source": [
    "## Misc"
   ]
  },
  {
   "cell_type": "code",
   "execution_count": 13,
   "metadata": {
    "ExecuteTime": {
     "end_time": "2021-07-01T14:09:39.478013Z",
     "start_time": "2021-07-01T14:09:39.468245Z"
    }
   },
   "outputs": [],
   "source": [
    "thresholds = {\n",
    "    'nanostring':{\n",
    "        'LFC':0.5849,\n",
    "        'pval':0.1\n",
    "    },\n",
    "    'ivv':{\n",
    "        'LFC':0.5849,\n",
    "        'pval':0.05\n",
    "    },\n",
    "    'ivt':{\n",
    "        'LFC':0.5849,\n",
    "        'pval':0.05\n",
    "    },\n",
    "}"
   ]
  },
  {
   "cell_type": "markdown",
   "metadata": {},
   "source": [
    "## ivv / ivt datasets"
   ]
  },
  {
   "cell_type": "markdown",
   "metadata": {},
   "source": [
    "Here we load :\n",
    "\n",
    "- raw quantification from miRBase + miRDeep2\n",
    "- DESeq2 based normalization\n",
    "- DESeq2 DEA"
   ]
  },
  {
   "cell_type": "markdown",
   "metadata": {},
   "source": [
    "### IVT results"
   ]
  },
  {
   "cell_type": "markdown",
   "metadata": {},
   "source": [
    "#### Raw counts dataset and metadata"
   ]
  },
  {
   "cell_type": "markdown",
   "metadata": {},
   "source": [
    "Quantification was performed with samples from IVT and IVV experiments taken altogether, as it does not impact the miRDeep2 quantification (samples are quantified independently), while it speeds up the process."
   ]
  },
  {
   "cell_type": "code",
   "execution_count": 14,
   "metadata": {
    "ExecuteTime": {
     "end_time": "2021-07-01T14:09:42.756343Z",
     "start_time": "2021-07-01T14:09:42.696660Z"
    },
    "code_folding": [],
    "scrolled": true
   },
   "outputs": [
    {
     "data": {
      "text/html": [
       "<div>\n",
       "<style scoped>\n",
       "    .dataframe tbody tr th:only-of-type {\n",
       "        vertical-align: middle;\n",
       "    }\n",
       "\n",
       "    .dataframe tbody tr th {\n",
       "        vertical-align: top;\n",
       "    }\n",
       "\n",
       "    .dataframe thead th {\n",
       "        text-align: right;\n",
       "    }\n",
       "</style>\n",
       "<table border=\"1\" class=\"dataframe\">\n",
       "  <thead>\n",
       "    <tr style=\"text-align: right;\">\n",
       "      <th></th>\n",
       "      <th>id</th>\n",
       "      <th>sample</th>\n",
       "      <th>celltype</th>\n",
       "      <th>condition</th>\n",
       "      <th>replicate</th>\n",
       "      <th>experiment</th>\n",
       "      <th>cond_ct</th>\n",
       "    </tr>\n",
       "    <tr>\n",
       "      <th>index</th>\n",
       "      <th></th>\n",
       "      <th></th>\n",
       "      <th></th>\n",
       "      <th></th>\n",
       "      <th></th>\n",
       "      <th></th>\n",
       "      <th></th>\n",
       "    </tr>\n",
       "  </thead>\n",
       "  <tbody>\n",
       "    <tr>\n",
       "      <th>0</th>\n",
       "      <td>tw1</td>\n",
       "      <td>wtTS1</td>\n",
       "      <td>TS</td>\n",
       "      <td>wt</td>\n",
       "      <td>R1</td>\n",
       "      <td>ivt</td>\n",
       "      <td>wt_TS</td>\n",
       "    </tr>\n",
       "    <tr>\n",
       "      <th>1</th>\n",
       "      <td>tp1</td>\n",
       "      <td>pausedTS1</td>\n",
       "      <td>TS</td>\n",
       "      <td>paused</td>\n",
       "      <td>R1</td>\n",
       "      <td>ivt</td>\n",
       "      <td>paused_TS</td>\n",
       "    </tr>\n",
       "    <tr>\n",
       "      <th>2</th>\n",
       "      <td>tw2</td>\n",
       "      <td>wtTS2</td>\n",
       "      <td>TS</td>\n",
       "      <td>wt</td>\n",
       "      <td>R2</td>\n",
       "      <td>ivt</td>\n",
       "      <td>wt_TS</td>\n",
       "    </tr>\n",
       "    <tr>\n",
       "      <th>3</th>\n",
       "      <td>tp2</td>\n",
       "      <td>pausedTS2</td>\n",
       "      <td>TS</td>\n",
       "      <td>paused</td>\n",
       "      <td>R2</td>\n",
       "      <td>ivt</td>\n",
       "      <td>paused_TS</td>\n",
       "    </tr>\n",
       "    <tr>\n",
       "      <th>4</th>\n",
       "      <td>tw3</td>\n",
       "      <td>wtTS3</td>\n",
       "      <td>TS</td>\n",
       "      <td>wt</td>\n",
       "      <td>R3</td>\n",
       "      <td>ivt</td>\n",
       "      <td>wt_TS</td>\n",
       "    </tr>\n",
       "    <tr>\n",
       "      <th>5</th>\n",
       "      <td>tp3</td>\n",
       "      <td>pausedTS3</td>\n",
       "      <td>TS</td>\n",
       "      <td>paused</td>\n",
       "      <td>R3</td>\n",
       "      <td>ivt</td>\n",
       "      <td>paused_TS</td>\n",
       "    </tr>\n",
       "    <tr>\n",
       "      <th>6</th>\n",
       "      <td>ew1</td>\n",
       "      <td>wtE141</td>\n",
       "      <td>E14</td>\n",
       "      <td>wt</td>\n",
       "      <td>R1</td>\n",
       "      <td>ivt</td>\n",
       "      <td>wt_E14</td>\n",
       "    </tr>\n",
       "    <tr>\n",
       "      <th>7</th>\n",
       "      <td>ep1</td>\n",
       "      <td>pausedE141</td>\n",
       "      <td>E14</td>\n",
       "      <td>paused</td>\n",
       "      <td>R1</td>\n",
       "      <td>ivt</td>\n",
       "      <td>paused_E14</td>\n",
       "    </tr>\n",
       "    <tr>\n",
       "      <th>8</th>\n",
       "      <td>ew2</td>\n",
       "      <td>wtE142</td>\n",
       "      <td>E14</td>\n",
       "      <td>wt</td>\n",
       "      <td>R2</td>\n",
       "      <td>ivt</td>\n",
       "      <td>wt_E14</td>\n",
       "    </tr>\n",
       "    <tr>\n",
       "      <th>9</th>\n",
       "      <td>ep2</td>\n",
       "      <td>pausedE142</td>\n",
       "      <td>E14</td>\n",
       "      <td>paused</td>\n",
       "      <td>R2</td>\n",
       "      <td>ivt</td>\n",
       "      <td>paused_E14</td>\n",
       "    </tr>\n",
       "    <tr>\n",
       "      <th>10</th>\n",
       "      <td>ew3</td>\n",
       "      <td>wtE143</td>\n",
       "      <td>E14</td>\n",
       "      <td>wt</td>\n",
       "      <td>R3</td>\n",
       "      <td>ivt</td>\n",
       "      <td>wt_E14</td>\n",
       "    </tr>\n",
       "    <tr>\n",
       "      <th>11</th>\n",
       "      <td>ep3</td>\n",
       "      <td>pausedE143</td>\n",
       "      <td>E14</td>\n",
       "      <td>paused</td>\n",
       "      <td>R3</td>\n",
       "      <td>ivt</td>\n",
       "      <td>paused_E14</td>\n",
       "    </tr>\n",
       "    <tr>\n",
       "      <th>12</th>\n",
       "      <td>di1</td>\n",
       "      <td>dICM1</td>\n",
       "      <td>ICM</td>\n",
       "      <td>diapaused</td>\n",
       "      <td>R1</td>\n",
       "      <td>ivv_full</td>\n",
       "      <td>diapaused_ICM</td>\n",
       "    </tr>\n",
       "    <tr>\n",
       "      <th>13</th>\n",
       "      <td>di2</td>\n",
       "      <td>dICM2</td>\n",
       "      <td>ICM</td>\n",
       "      <td>diapaused</td>\n",
       "      <td>R2</td>\n",
       "      <td>ivv_full</td>\n",
       "      <td>diapaused_ICM</td>\n",
       "    </tr>\n",
       "    <tr>\n",
       "      <th>14</th>\n",
       "      <td>di3</td>\n",
       "      <td>dICM3</td>\n",
       "      <td>ICM</td>\n",
       "      <td>diapaused</td>\n",
       "      <td>R3</td>\n",
       "      <td>ivv_full</td>\n",
       "      <td>diapaused_ICM</td>\n",
       "    </tr>\n",
       "    <tr>\n",
       "      <th>15</th>\n",
       "      <td>dt1</td>\n",
       "      <td>dTE1</td>\n",
       "      <td>TE</td>\n",
       "      <td>diapaused</td>\n",
       "      <td>R1</td>\n",
       "      <td>ivv_full</td>\n",
       "      <td>diapaused_TE</td>\n",
       "    </tr>\n",
       "    <tr>\n",
       "      <th>16</th>\n",
       "      <td>dt2</td>\n",
       "      <td>dTE2</td>\n",
       "      <td>TE</td>\n",
       "      <td>diapaused</td>\n",
       "      <td>R2</td>\n",
       "      <td>ivv_full</td>\n",
       "      <td>diapaused_TE</td>\n",
       "    </tr>\n",
       "    <tr>\n",
       "      <th>17</th>\n",
       "      <td>dt3</td>\n",
       "      <td>dTE3</td>\n",
       "      <td>TE</td>\n",
       "      <td>diapaused</td>\n",
       "      <td>R3</td>\n",
       "      <td>ivv_full</td>\n",
       "      <td>diapaused_TE</td>\n",
       "    </tr>\n",
       "    <tr>\n",
       "      <th>18</th>\n",
       "      <td>mi1</td>\n",
       "      <td>mICM1</td>\n",
       "      <td>ICM</td>\n",
       "      <td>mTor</td>\n",
       "      <td>R1</td>\n",
       "      <td>ivv_full</td>\n",
       "      <td>mTor_ICM</td>\n",
       "    </tr>\n",
       "    <tr>\n",
       "      <th>19</th>\n",
       "      <td>mi2</td>\n",
       "      <td>mICM2</td>\n",
       "      <td>ICM</td>\n",
       "      <td>mTor</td>\n",
       "      <td>R2</td>\n",
       "      <td>ivv_full</td>\n",
       "      <td>mTor_ICM</td>\n",
       "    </tr>\n",
       "    <tr>\n",
       "      <th>20</th>\n",
       "      <td>mi3</td>\n",
       "      <td>mICM3</td>\n",
       "      <td>ICM</td>\n",
       "      <td>mTor</td>\n",
       "      <td>R3</td>\n",
       "      <td>ivv_full</td>\n",
       "      <td>mTor_ICM</td>\n",
       "    </tr>\n",
       "    <tr>\n",
       "      <th>21</th>\n",
       "      <td>mt1</td>\n",
       "      <td>mTE1</td>\n",
       "      <td>TE</td>\n",
       "      <td>mTor</td>\n",
       "      <td>R1</td>\n",
       "      <td>ivv_full</td>\n",
       "      <td>mTor_TE</td>\n",
       "    </tr>\n",
       "    <tr>\n",
       "      <th>22</th>\n",
       "      <td>mt2</td>\n",
       "      <td>mTE2</td>\n",
       "      <td>TE</td>\n",
       "      <td>mTor</td>\n",
       "      <td>R2</td>\n",
       "      <td>ivv_full</td>\n",
       "      <td>mTor_TE</td>\n",
       "    </tr>\n",
       "    <tr>\n",
       "      <th>23</th>\n",
       "      <td>mt3</td>\n",
       "      <td>mTE3</td>\n",
       "      <td>TE</td>\n",
       "      <td>mTor</td>\n",
       "      <td>R3</td>\n",
       "      <td>ivv_full</td>\n",
       "      <td>mTor_TE</td>\n",
       "    </tr>\n",
       "    <tr>\n",
       "      <th>24</th>\n",
       "      <td>wi1</td>\n",
       "      <td>wtICM1</td>\n",
       "      <td>ICM</td>\n",
       "      <td>wt</td>\n",
       "      <td>R1</td>\n",
       "      <td>ivv_full</td>\n",
       "      <td>wt_ICM</td>\n",
       "    </tr>\n",
       "    <tr>\n",
       "      <th>25</th>\n",
       "      <td>wi2</td>\n",
       "      <td>wtICM2</td>\n",
       "      <td>ICM</td>\n",
       "      <td>wt</td>\n",
       "      <td>R2</td>\n",
       "      <td>ivv_full</td>\n",
       "      <td>wt_ICM</td>\n",
       "    </tr>\n",
       "    <tr>\n",
       "      <th>26</th>\n",
       "      <td>wt1</td>\n",
       "      <td>wtTE1</td>\n",
       "      <td>TE</td>\n",
       "      <td>wt</td>\n",
       "      <td>R1</td>\n",
       "      <td>ivv_full</td>\n",
       "      <td>wt_TE</td>\n",
       "    </tr>\n",
       "    <tr>\n",
       "      <th>27</th>\n",
       "      <td>wt2</td>\n",
       "      <td>wtTE2</td>\n",
       "      <td>TE</td>\n",
       "      <td>wt</td>\n",
       "      <td>R2</td>\n",
       "      <td>ivv_full</td>\n",
       "      <td>wt_TE</td>\n",
       "    </tr>\n",
       "    <tr>\n",
       "      <th>28</th>\n",
       "      <td>ic1</td>\n",
       "      <td>wtICM3</td>\n",
       "      <td>ICM</td>\n",
       "      <td>wt</td>\n",
       "      <td>R3</td>\n",
       "      <td>ivv_test</td>\n",
       "      <td>wt_ICM</td>\n",
       "    </tr>\n",
       "    <tr>\n",
       "      <th>29</th>\n",
       "      <td>tc1</td>\n",
       "      <td>wtTE3</td>\n",
       "      <td>TE</td>\n",
       "      <td>wt</td>\n",
       "      <td>R3</td>\n",
       "      <td>ivv_test</td>\n",
       "      <td>wt_TE</td>\n",
       "    </tr>\n",
       "  </tbody>\n",
       "</table>\n",
       "</div>"
      ],
      "text/plain": [
       "        id      sample celltype  condition replicate experiment        cond_ct\n",
       "index                                                                         \n",
       "0      tw1       wtTS1       TS         wt        R1        ivt          wt_TS\n",
       "1      tp1   pausedTS1       TS     paused        R1        ivt      paused_TS\n",
       "2      tw2       wtTS2       TS         wt        R2        ivt          wt_TS\n",
       "3      tp2   pausedTS2       TS     paused        R2        ivt      paused_TS\n",
       "4      tw3       wtTS3       TS         wt        R3        ivt          wt_TS\n",
       "5      tp3   pausedTS3       TS     paused        R3        ivt      paused_TS\n",
       "6      ew1      wtE141      E14         wt        R1        ivt         wt_E14\n",
       "7      ep1  pausedE141      E14     paused        R1        ivt     paused_E14\n",
       "8      ew2      wtE142      E14         wt        R2        ivt         wt_E14\n",
       "9      ep2  pausedE142      E14     paused        R2        ivt     paused_E14\n",
       "10     ew3      wtE143      E14         wt        R3        ivt         wt_E14\n",
       "11     ep3  pausedE143      E14     paused        R3        ivt     paused_E14\n",
       "12     di1       dICM1      ICM  diapaused        R1   ivv_full  diapaused_ICM\n",
       "13     di2       dICM2      ICM  diapaused        R2   ivv_full  diapaused_ICM\n",
       "14     di3       dICM3      ICM  diapaused        R3   ivv_full  diapaused_ICM\n",
       "15     dt1        dTE1       TE  diapaused        R1   ivv_full   diapaused_TE\n",
       "16     dt2        dTE2       TE  diapaused        R2   ivv_full   diapaused_TE\n",
       "17     dt3        dTE3       TE  diapaused        R3   ivv_full   diapaused_TE\n",
       "18     mi1       mICM1      ICM       mTor        R1   ivv_full       mTor_ICM\n",
       "19     mi2       mICM2      ICM       mTor        R2   ivv_full       mTor_ICM\n",
       "20     mi3       mICM3      ICM       mTor        R3   ivv_full       mTor_ICM\n",
       "21     mt1        mTE1       TE       mTor        R1   ivv_full        mTor_TE\n",
       "22     mt2        mTE2       TE       mTor        R2   ivv_full        mTor_TE\n",
       "23     mt3        mTE3       TE       mTor        R3   ivv_full        mTor_TE\n",
       "24     wi1      wtICM1      ICM         wt        R1   ivv_full         wt_ICM\n",
       "25     wi2      wtICM2      ICM         wt        R2   ivv_full         wt_ICM\n",
       "26     wt1       wtTE1       TE         wt        R1   ivv_full          wt_TE\n",
       "27     wt2       wtTE2       TE         wt        R2   ivv_full          wt_TE\n",
       "28     ic1      wtICM3      ICM         wt        R3   ivv_test         wt_ICM\n",
       "29     tc1       wtTE3       TE         wt        R3   ivv_test          wt_TE"
      ]
     },
     "metadata": {},
     "output_type": "display_data"
    }
   ],
   "source": [
    "# Metadata table to map column IDs to samples\n",
    "path = \"../../miRNA_ivv_ivt_DEA/datasets/metadata.tsv\"\n",
    "DATASETS['miRDeep2']['metadata'] = pd.read_csv(path,\n",
    "                                                sep='\\t',\n",
    "                                                header=0,\n",
    "                                               index_col=0\n",
    "\n",
    "                                               )\n",
    "display(DATASETS['miRDeep2']['metadata'])"
   ]
  },
  {
   "cell_type": "code",
   "execution_count": 22,
   "metadata": {
    "ExecuteTime": {
     "end_time": "2021-07-01T14:10:15.749469Z",
     "start_time": "2021-07-01T14:10:15.688966Z"
    },
    "code_folding": []
   },
   "outputs": [
    {
     "data": {
      "text/html": [
       "<div>\n",
       "<style scoped>\n",
       "    .dataframe tbody tr th:only-of-type {\n",
       "        vertical-align: middle;\n",
       "    }\n",
       "\n",
       "    .dataframe tbody tr th {\n",
       "        vertical-align: top;\n",
       "    }\n",
       "\n",
       "    .dataframe thead th {\n",
       "        text-align: right;\n",
       "    }\n",
       "</style>\n",
       "<table border=\"1\" class=\"dataframe\">\n",
       "  <thead>\n",
       "    <tr style=\"text-align: right;\">\n",
       "      <th></th>\n",
       "      <th>miRNA</th>\n",
       "      <th>di1</th>\n",
       "      <th>di2</th>\n",
       "      <th>di3</th>\n",
       "      <th>dt1</th>\n",
       "      <th>dt2</th>\n",
       "      <th>dt3</th>\n",
       "      <th>mi1</th>\n",
       "      <th>mi2</th>\n",
       "      <th>mi3</th>\n",
       "      <th>...</th>\n",
       "      <th>tw2</th>\n",
       "      <th>tp2</th>\n",
       "      <th>tw3</th>\n",
       "      <th>tp3</th>\n",
       "      <th>ew1</th>\n",
       "      <th>ep1</th>\n",
       "      <th>ew2</th>\n",
       "      <th>ep2</th>\n",
       "      <th>ew3</th>\n",
       "      <th>ep3</th>\n",
       "    </tr>\n",
       "  </thead>\n",
       "  <tbody>\n",
       "    <tr>\n",
       "      <th>0</th>\n",
       "      <td>mmu-let-7a-1-3p</td>\n",
       "      <td>0</td>\n",
       "      <td>0</td>\n",
       "      <td>0</td>\n",
       "      <td>0</td>\n",
       "      <td>0</td>\n",
       "      <td>0</td>\n",
       "      <td>0</td>\n",
       "      <td>0</td>\n",
       "      <td>0</td>\n",
       "      <td>...</td>\n",
       "      <td>0</td>\n",
       "      <td>0</td>\n",
       "      <td>0</td>\n",
       "      <td>0</td>\n",
       "      <td>0</td>\n",
       "      <td>0</td>\n",
       "      <td>0</td>\n",
       "      <td>0</td>\n",
       "      <td>0</td>\n",
       "      <td>0</td>\n",
       "    </tr>\n",
       "    <tr>\n",
       "      <th>1</th>\n",
       "      <td>mmu-let-7a-2-3p</td>\n",
       "      <td>0</td>\n",
       "      <td>0</td>\n",
       "      <td>0</td>\n",
       "      <td>0</td>\n",
       "      <td>0</td>\n",
       "      <td>0</td>\n",
       "      <td>0</td>\n",
       "      <td>0</td>\n",
       "      <td>0</td>\n",
       "      <td>...</td>\n",
       "      <td>0</td>\n",
       "      <td>0</td>\n",
       "      <td>0</td>\n",
       "      <td>0</td>\n",
       "      <td>0</td>\n",
       "      <td>0</td>\n",
       "      <td>0</td>\n",
       "      <td>0</td>\n",
       "      <td>0</td>\n",
       "      <td>0</td>\n",
       "    </tr>\n",
       "    <tr>\n",
       "      <th>2</th>\n",
       "      <td>mmu-let-7b-5p</td>\n",
       "      <td>71</td>\n",
       "      <td>32</td>\n",
       "      <td>55</td>\n",
       "      <td>35</td>\n",
       "      <td>171</td>\n",
       "      <td>49</td>\n",
       "      <td>18</td>\n",
       "      <td>14</td>\n",
       "      <td>97</td>\n",
       "      <td>...</td>\n",
       "      <td>1</td>\n",
       "      <td>0</td>\n",
       "      <td>0</td>\n",
       "      <td>1</td>\n",
       "      <td>0</td>\n",
       "      <td>0</td>\n",
       "      <td>2</td>\n",
       "      <td>0</td>\n",
       "      <td>0</td>\n",
       "      <td>0</td>\n",
       "    </tr>\n",
       "  </tbody>\n",
       "</table>\n",
       "<p>3 rows × 31 columns</p>\n",
       "</div>"
      ],
      "text/plain": [
       "             miRNA  di1  di2  di3  dt1  dt2  dt3  mi1  mi2  mi3  ...  tw2  \\\n",
       "0  mmu-let-7a-1-3p    0    0    0    0    0    0    0    0    0  ...    0   \n",
       "1  mmu-let-7a-2-3p    0    0    0    0    0    0    0    0    0  ...    0   \n",
       "2    mmu-let-7b-5p   71   32   55   35  171   49   18   14   97  ...    1   \n",
       "\n",
       "   tp2  tw3  tp3  ew1  ep1  ew2  ep2  ew3  ep3  \n",
       "0    0    0    0    0    0    0    0    0    0  \n",
       "1    0    0    0    0    0    0    0    0    0  \n",
       "2    0    0    1    0    0    2    0    0    0  \n",
       "\n",
       "[3 rows x 31 columns]"
      ]
     },
     "metadata": {},
     "output_type": "display_data"
    },
    {
     "name": "stdout",
     "output_type": "stream",
     "text": [
      "N lines : 1,978 ; N uniqe miRNAs: 1,978\n"
     ]
    }
   ],
   "source": [
    "# raw counts\n",
    "path = \"../../miRNA_ivv_ivt_DEA/datasets/raw_counts_noDup_FULL.tsv\"\n",
    "tbl = pd.read_csv(path,\n",
    "                    sep='\\t',\n",
    "                    header=0,\n",
    "                   )\n",
    "tbl.columns = [tbl.columns[0].strip('#')] + list(tbl.columns[1:])\n",
    "display(tbl.head(3))\n",
    "\n",
    "print(f\"N lines : {tbl.shape[0]:,} ; N uniqe miRNAs: {tbl['miRNA'].unique().shape[0]:,}\")\n",
    "\n",
    "DATASETS['miRDeep2']['raw_cts'] = tbl.set_index('miRNA')"
   ]
  },
  {
   "cell_type": "markdown",
   "metadata": {},
   "source": [
    "#### Combined cell-types"
   ]
  },
  {
   "cell_type": "code",
   "execution_count": 23,
   "metadata": {
    "ExecuteTime": {
     "end_time": "2021-07-01T14:10:18.370087Z",
     "start_time": "2021-07-01T14:10:18.364014Z"
    }
   },
   "outputs": [],
   "source": [
    "sample_dirname = \"ivt_samples\""
   ]
  },
  {
   "cell_type": "markdown",
   "metadata": {},
   "source": [
    "##### raw counts"
   ]
  },
  {
   "cell_type": "code",
   "execution_count": 24,
   "metadata": {
    "ExecuteTime": {
     "end_time": "2021-07-01T14:10:19.290678Z",
     "start_time": "2021-07-01T14:10:19.245923Z"
    }
   },
   "outputs": [
    {
     "data": {
      "text/html": [
       "<div>\n",
       "<style scoped>\n",
       "    .dataframe tbody tr th:only-of-type {\n",
       "        vertical-align: middle;\n",
       "    }\n",
       "\n",
       "    .dataframe tbody tr th {\n",
       "        vertical-align: top;\n",
       "    }\n",
       "\n",
       "    .dataframe thead th {\n",
       "        text-align: right;\n",
       "    }\n",
       "</style>\n",
       "<table border=\"1\" class=\"dataframe\">\n",
       "  <thead>\n",
       "    <tr style=\"text-align: right;\">\n",
       "      <th></th>\n",
       "      <th>tw1</th>\n",
       "      <th>tp1</th>\n",
       "      <th>tw2</th>\n",
       "      <th>tp2</th>\n",
       "      <th>tw3</th>\n",
       "      <th>tp3</th>\n",
       "      <th>ew1</th>\n",
       "      <th>ep1</th>\n",
       "      <th>ew2</th>\n",
       "      <th>ep2</th>\n",
       "      <th>ew3</th>\n",
       "      <th>ep3</th>\n",
       "    </tr>\n",
       "  </thead>\n",
       "  <tbody>\n",
       "    <tr>\n",
       "      <th>mmu-let-7b-5p</th>\n",
       "      <td>29</td>\n",
       "      <td>0</td>\n",
       "      <td>1</td>\n",
       "      <td>0</td>\n",
       "      <td>0</td>\n",
       "      <td>1</td>\n",
       "      <td>0</td>\n",
       "      <td>0</td>\n",
       "      <td>2</td>\n",
       "      <td>0</td>\n",
       "      <td>0</td>\n",
       "      <td>0</td>\n",
       "    </tr>\n",
       "    <tr>\n",
       "      <th>mmu-let-7d-5p</th>\n",
       "      <td>77</td>\n",
       "      <td>9</td>\n",
       "      <td>15</td>\n",
       "      <td>11</td>\n",
       "      <td>21</td>\n",
       "      <td>26</td>\n",
       "      <td>1</td>\n",
       "      <td>3</td>\n",
       "      <td>0</td>\n",
       "      <td>5</td>\n",
       "      <td>1</td>\n",
       "      <td>3</td>\n",
       "    </tr>\n",
       "    <tr>\n",
       "      <th>mmu-let-7d-3p</th>\n",
       "      <td>22</td>\n",
       "      <td>0</td>\n",
       "      <td>3</td>\n",
       "      <td>0</td>\n",
       "      <td>3</td>\n",
       "      <td>3</td>\n",
       "      <td>0</td>\n",
       "      <td>0</td>\n",
       "      <td>1</td>\n",
       "      <td>0</td>\n",
       "      <td>0</td>\n",
       "      <td>1</td>\n",
       "    </tr>\n",
       "  </tbody>\n",
       "</table>\n",
       "</div>"
      ],
      "text/plain": [
       "               tw1  tp1  tw2  tp2  tw3  tp3  ew1  ep1  ew2  ep2  ew3  ep3\n",
       "mmu-let-7b-5p   29    0    1    0    0    1    0    0    2    0    0    0\n",
       "mmu-let-7d-5p   77    9   15   11   21   26    1    3    0    5    1    3\n",
       "mmu-let-7d-3p   22    0    3    0    3    3    0    0    1    0    0    1"
      ]
     },
     "metadata": {},
     "output_type": "display_data"
    },
    {
     "name": "stdout",
     "output_type": "stream",
     "text": [
      "N lines : 564 ; N uniqe miRNAs: 564\n"
     ]
    }
   ],
   "source": [
    "# raw counts\n",
    "path = f\"../../miRNA_ivv_ivt_DEA/results/{sample_dirname}/noThreshold/results/all_counts_merged_raw.tsv\"\n",
    "tbl = pd.read_csv(path,\n",
    "                  sep='\\t',\n",
    "                  header=0,\n",
    "                 )\n",
    "tbl.columns = [tbl.columns[0].strip('#')] + list(tbl.columns[1:])\n",
    "display(tbl.head(3))\n",
    "\n",
    "print(f\"N lines : {tbl.shape[0]:,} ; N uniqe miRNAs: {tbl.index.unique().shape[0]:,}\")\n",
    "\n",
    "DATASETS['miRDeep2'][sample_dirname]['combined']['raw_cts'] = tbl"
   ]
  },
  {
   "cell_type": "markdown",
   "metadata": {},
   "source": [
    "##### normalized counts"
   ]
  },
  {
   "cell_type": "code",
   "execution_count": 25,
   "metadata": {
    "ExecuteTime": {
     "end_time": "2021-07-01T14:10:20.827903Z",
     "start_time": "2021-07-01T14:10:20.782472Z"
    }
   },
   "outputs": [
    {
     "data": {
      "text/html": [
       "<div>\n",
       "<style scoped>\n",
       "    .dataframe tbody tr th:only-of-type {\n",
       "        vertical-align: middle;\n",
       "    }\n",
       "\n",
       "    .dataframe tbody tr th {\n",
       "        vertical-align: top;\n",
       "    }\n",
       "\n",
       "    .dataframe thead th {\n",
       "        text-align: right;\n",
       "    }\n",
       "</style>\n",
       "<table border=\"1\" class=\"dataframe\">\n",
       "  <thead>\n",
       "    <tr style=\"text-align: right;\">\n",
       "      <th></th>\n",
       "      <th>tw1</th>\n",
       "      <th>tp1</th>\n",
       "      <th>tw2</th>\n",
       "      <th>tp2</th>\n",
       "      <th>tw3</th>\n",
       "      <th>tp3</th>\n",
       "      <th>ew1</th>\n",
       "      <th>ep1</th>\n",
       "      <th>ew2</th>\n",
       "      <th>ep2</th>\n",
       "      <th>ew3</th>\n",
       "      <th>ep3</th>\n",
       "    </tr>\n",
       "  </thead>\n",
       "  <tbody>\n",
       "    <tr>\n",
       "      <th>mmu-let-7b-5p</th>\n",
       "      <td>1.781843</td>\n",
       "      <td>-1.509606</td>\n",
       "      <td>-0.217063</td>\n",
       "      <td>-1.661816</td>\n",
       "      <td>-1.309258</td>\n",
       "      <td>-1.095884</td>\n",
       "      <td>-1.314208</td>\n",
       "      <td>-1.998948</td>\n",
       "      <td>0.929056</td>\n",
       "      <td>-1.924713</td>\n",
       "      <td>-1.161230</td>\n",
       "      <td>-1.503950</td>\n",
       "    </tr>\n",
       "    <tr>\n",
       "      <th>mmu-let-7d-5p</th>\n",
       "      <td>4.268367</td>\n",
       "      <td>3.207493</td>\n",
       "      <td>4.154972</td>\n",
       "      <td>3.152159</td>\n",
       "      <td>4.740681</td>\n",
       "      <td>3.318464</td>\n",
       "      <td>1.126599</td>\n",
       "      <td>0.902455</td>\n",
       "      <td>0.344550</td>\n",
       "      <td>1.635814</td>\n",
       "      <td>1.389329</td>\n",
       "      <td>1.869258</td>\n",
       "    </tr>\n",
       "    <tr>\n",
       "      <th>mmu-let-7d-3p</th>\n",
       "      <td>1.802312</td>\n",
       "      <td>-1.171820</td>\n",
       "      <td>1.247837</td>\n",
       "      <td>-1.336535</td>\n",
       "      <td>1.352995</td>\n",
       "      <td>0.108223</td>\n",
       "      <td>-0.960367</td>\n",
       "      <td>-1.612989</td>\n",
       "      <td>0.566819</td>\n",
       "      <td>-1.555611</td>\n",
       "      <td>-0.794820</td>\n",
       "      <td>-0.009485</td>\n",
       "    </tr>\n",
       "  </tbody>\n",
       "</table>\n",
       "</div>"
      ],
      "text/plain": [
       "                    tw1       tp1       tw2       tp2       tw3       tp3  \\\n",
       "mmu-let-7b-5p  1.781843 -1.509606 -0.217063 -1.661816 -1.309258 -1.095884   \n",
       "mmu-let-7d-5p  4.268367  3.207493  4.154972  3.152159  4.740681  3.318464   \n",
       "mmu-let-7d-3p  1.802312 -1.171820  1.247837 -1.336535  1.352995  0.108223   \n",
       "\n",
       "                    ew1       ep1       ew2       ep2       ew3       ep3  \n",
       "mmu-let-7b-5p -1.314208 -1.998948  0.929056 -1.924713 -1.161230 -1.503950  \n",
       "mmu-let-7d-5p  1.126599  0.902455  0.344550  1.635814  1.389329  1.869258  \n",
       "mmu-let-7d-3p -0.960367 -1.612989  0.566819 -1.555611 -0.794820 -0.009485  "
      ]
     },
     "metadata": {},
     "output_type": "display_data"
    },
    {
     "name": "stdout",
     "output_type": "stream",
     "text": [
      "N lines : 564 ; N uniqe miRNAs: 564\n"
     ]
    }
   ],
   "source": [
    "# norm counts\n",
    "path = f\"../../miRNA_ivv_ivt_DEA/results/{sample_dirname}/noThreshold/results/all_counts_merged_rlog.tsv\"\n",
    "tbl = pd.read_csv(path,\n",
    "                  sep='\\t',\n",
    "                  header=0,\n",
    "                 )\n",
    "tbl.columns = [tbl.columns[0].strip('#')] + list(tbl.columns[1:])\n",
    "display(tbl.head(3))\n",
    "\n",
    "print(f\"N lines : {tbl.shape[0]:,} ; N uniqe miRNAs: {tbl.index.unique().shape[0]:,}\")\n",
    "\n",
    "DATASETS['miRDeep2'][sample_dirname]['combined']['norm_cts'] = tbl"
   ]
  },
  {
   "cell_type": "markdown",
   "metadata": {},
   "source": [
    "##### DEA"
   ]
  },
  {
   "cell_type": "code",
   "execution_count": 26,
   "metadata": {
    "ExecuteTime": {
     "end_time": "2021-07-01T14:10:22.684418Z",
     "start_time": "2021-07-01T14:10:22.579950Z"
    }
   },
   "outputs": [
    {
     "name": "stdout",
     "output_type": "stream",
     "text": [
      "Warning: <process_significant> was set to check while column was not found ; generating values.\n"
     ]
    }
   ],
   "source": [
    "# E14\n",
    "p1_all = ['paused_E14']\n",
    "p2_all = [\"wt_E14\"]\n",
    "\n",
    "for p1, p2 in itt.product(p1_all, p2_all):\n",
    "    path = f\"../../miRNA_ivv_ivt_DEA/results/{sample_dirname}/noThreshold/results/differential-expression-tables/{p1}_VS_{p2}_FC_shrink.tsv\"\n",
    "    dea_res = lib_misc.load_DEA_result(path, p1, p2, thresholds['ivt']['LFC'], thresholds['ivt']['pval'])\n",
    "\n",
    "    DATASETS['miRDeep2'][sample_dirname]['combined']['DEA'][f\"{p1}_VS_{p2}\"] = dea_res"
   ]
  },
  {
   "cell_type": "code",
   "execution_count": 27,
   "metadata": {
    "ExecuteTime": {
     "end_time": "2021-07-01T14:10:24.517243Z",
     "start_time": "2021-07-01T14:10:24.426203Z"
    }
   },
   "outputs": [
    {
     "name": "stdout",
     "output_type": "stream",
     "text": [
      "Warning: <process_significant> was set to check while column was not found ; generating values.\n"
     ]
    }
   ],
   "source": [
    "# TS\n",
    "p1_all = ['paused_TS']\n",
    "p2_all = [\"wt_TS\"]\n",
    "\n",
    "for p1, p2 in itt.product(p1_all, p2_all):\n",
    "    path = f\"../../miRNA_ivv_ivt_DEA/results/{sample_dirname}/noThreshold/results/differential-expression-tables/{p1}_VS_{p2}_FC_shrink.tsv\"\n",
    "    dea_res = lib_misc.load_DEA_result(path, p1, p2, thresholds['ivt']['LFC'], thresholds['ivt']['pval'])\n",
    "\n",
    "    DATASETS['miRDeep2'][sample_dirname]['combined']['DEA'][f\"{p1}_VS_{p2}\"] = dea_res"
   ]
  },
  {
   "cell_type": "markdown",
   "metadata": {},
   "source": [
    "### IVV RESULTS"
   ]
  },
  {
   "cell_type": "code",
   "execution_count": 28,
   "metadata": {
    "ExecuteTime": {
     "end_time": "2021-07-01T14:10:26.136004Z",
     "start_time": "2021-07-01T14:10:26.129818Z"
    }
   },
   "outputs": [],
   "source": [
    "sample_dirname = \"ivv_samples\""
   ]
  },
  {
   "cell_type": "markdown",
   "metadata": {},
   "source": [
    "##### raw counts"
   ]
  },
  {
   "cell_type": "code",
   "execution_count": 29,
   "metadata": {
    "ExecuteTime": {
     "end_time": "2021-07-01T14:10:27.412206Z",
     "start_time": "2021-07-01T14:10:27.364278Z"
    }
   },
   "outputs": [
    {
     "data": {
      "text/html": [
       "<div>\n",
       "<style scoped>\n",
       "    .dataframe tbody tr th:only-of-type {\n",
       "        vertical-align: middle;\n",
       "    }\n",
       "\n",
       "    .dataframe tbody tr th {\n",
       "        vertical-align: top;\n",
       "    }\n",
       "\n",
       "    .dataframe thead th {\n",
       "        text-align: right;\n",
       "    }\n",
       "</style>\n",
       "<table border=\"1\" class=\"dataframe\">\n",
       "  <thead>\n",
       "    <tr style=\"text-align: right;\">\n",
       "      <th></th>\n",
       "      <th>di1</th>\n",
       "      <th>di2</th>\n",
       "      <th>di3</th>\n",
       "      <th>dt1</th>\n",
       "      <th>dt2</th>\n",
       "      <th>dt3</th>\n",
       "      <th>mi1</th>\n",
       "      <th>mi2</th>\n",
       "      <th>mi3</th>\n",
       "      <th>mt1</th>\n",
       "      <th>mt2</th>\n",
       "      <th>mt3</th>\n",
       "      <th>wi1</th>\n",
       "      <th>wi2</th>\n",
       "      <th>wt1</th>\n",
       "      <th>wt2</th>\n",
       "    </tr>\n",
       "  </thead>\n",
       "  <tbody>\n",
       "    <tr>\n",
       "      <th>mmu-let-7b-5p</th>\n",
       "      <td>71</td>\n",
       "      <td>32</td>\n",
       "      <td>55</td>\n",
       "      <td>35</td>\n",
       "      <td>171</td>\n",
       "      <td>49</td>\n",
       "      <td>18</td>\n",
       "      <td>14</td>\n",
       "      <td>97</td>\n",
       "      <td>11</td>\n",
       "      <td>20</td>\n",
       "      <td>31</td>\n",
       "      <td>10</td>\n",
       "      <td>24</td>\n",
       "      <td>13</td>\n",
       "      <td>28</td>\n",
       "    </tr>\n",
       "    <tr>\n",
       "      <th>mmu-let-7b-3p</th>\n",
       "      <td>0</td>\n",
       "      <td>0</td>\n",
       "      <td>0</td>\n",
       "      <td>0</td>\n",
       "      <td>1</td>\n",
       "      <td>0</td>\n",
       "      <td>0</td>\n",
       "      <td>0</td>\n",
       "      <td>2</td>\n",
       "      <td>0</td>\n",
       "      <td>0</td>\n",
       "      <td>0</td>\n",
       "      <td>0</td>\n",
       "      <td>0</td>\n",
       "      <td>0</td>\n",
       "      <td>0</td>\n",
       "    </tr>\n",
       "    <tr>\n",
       "      <th>mmu-let-7d-5p</th>\n",
       "      <td>58</td>\n",
       "      <td>34</td>\n",
       "      <td>46</td>\n",
       "      <td>34</td>\n",
       "      <td>76</td>\n",
       "      <td>38</td>\n",
       "      <td>2</td>\n",
       "      <td>1</td>\n",
       "      <td>6</td>\n",
       "      <td>9</td>\n",
       "      <td>6</td>\n",
       "      <td>5</td>\n",
       "      <td>0</td>\n",
       "      <td>6</td>\n",
       "      <td>4</td>\n",
       "      <td>3</td>\n",
       "    </tr>\n",
       "  </tbody>\n",
       "</table>\n",
       "</div>"
      ],
      "text/plain": [
       "               di1  di2  di3  dt1  dt2  dt3  mi1  mi2  mi3  mt1  mt2  mt3  \\\n",
       "mmu-let-7b-5p   71   32   55   35  171   49   18   14   97   11   20   31   \n",
       "mmu-let-7b-3p    0    0    0    0    1    0    0    0    2    0    0    0   \n",
       "mmu-let-7d-5p   58   34   46   34   76   38    2    1    6    9    6    5   \n",
       "\n",
       "               wi1  wi2  wt1  wt2  \n",
       "mmu-let-7b-5p   10   24   13   28  \n",
       "mmu-let-7b-3p    0    0    0    0  \n",
       "mmu-let-7d-5p    0    6    4    3  "
      ]
     },
     "metadata": {},
     "output_type": "display_data"
    },
    {
     "name": "stdout",
     "output_type": "stream",
     "text": [
      "N lines : 406 ; N uniqe miRNAs: 406\n"
     ]
    }
   ],
   "source": [
    "# raw counts\n",
    "path = f\"../../miRNA_ivv_ivt_DEA/results/{sample_dirname}/noThreshold/results/all_counts_merged_raw.tsv\"\n",
    "tbl = pd.read_csv(path,\n",
    "                  sep='\\t',\n",
    "                  header=0,\n",
    "                 )\n",
    "tbl.columns = [tbl.columns[0].strip('#')] + list(tbl.columns[1:])\n",
    "display(tbl.head(3))\n",
    "\n",
    "print(f\"N lines : {tbl.shape[0]:,} ; N uniqe miRNAs: {tbl.index.unique().shape[0]:,}\")\n",
    "\n",
    "DATASETS['miRDeep2'][sample_dirname]['combined']['raw_cts'] = tbl"
   ]
  },
  {
   "cell_type": "markdown",
   "metadata": {},
   "source": [
    "##### normalized counts"
   ]
  },
  {
   "cell_type": "code",
   "execution_count": 30,
   "metadata": {
    "ExecuteTime": {
     "end_time": "2021-07-01T14:10:29.769659Z",
     "start_time": "2021-07-01T14:10:29.714989Z"
    }
   },
   "outputs": [
    {
     "data": {
      "text/html": [
       "<div>\n",
       "<style scoped>\n",
       "    .dataframe tbody tr th:only-of-type {\n",
       "        vertical-align: middle;\n",
       "    }\n",
       "\n",
       "    .dataframe tbody tr th {\n",
       "        vertical-align: top;\n",
       "    }\n",
       "\n",
       "    .dataframe thead th {\n",
       "        text-align: right;\n",
       "    }\n",
       "</style>\n",
       "<table border=\"1\" class=\"dataframe\">\n",
       "  <thead>\n",
       "    <tr style=\"text-align: right;\">\n",
       "      <th></th>\n",
       "      <th>di1</th>\n",
       "      <th>di2</th>\n",
       "      <th>di3</th>\n",
       "      <th>dt1</th>\n",
       "      <th>dt2</th>\n",
       "      <th>dt3</th>\n",
       "      <th>mi1</th>\n",
       "      <th>mi2</th>\n",
       "      <th>mi3</th>\n",
       "      <th>mt1</th>\n",
       "      <th>mt2</th>\n",
       "      <th>mt3</th>\n",
       "      <th>wi1</th>\n",
       "      <th>wi2</th>\n",
       "      <th>wt1</th>\n",
       "      <th>wt2</th>\n",
       "    </tr>\n",
       "  </thead>\n",
       "  <tbody>\n",
       "    <tr>\n",
       "      <th>mmu-let-7b-5p</th>\n",
       "      <td>4.692824</td>\n",
       "      <td>4.298829</td>\n",
       "      <td>4.864385</td>\n",
       "      <td>4.206526</td>\n",
       "      <td>5.555769</td>\n",
       "      <td>4.416406</td>\n",
       "      <td>4.979150</td>\n",
       "      <td>4.975141</td>\n",
       "      <td>7.526721</td>\n",
       "      <td>4.140164</td>\n",
       "      <td>4.975123</td>\n",
       "      <td>5.541160</td>\n",
       "      <td>4.970771</td>\n",
       "      <td>4.822201</td>\n",
       "      <td>3.890027</td>\n",
       "      <td>4.361103</td>\n",
       "    </tr>\n",
       "    <tr>\n",
       "      <th>mmu-let-7b-3p</th>\n",
       "      <td>-2.028538</td>\n",
       "      <td>-2.013912</td>\n",
       "      <td>-2.019624</td>\n",
       "      <td>-2.025628</td>\n",
       "      <td>-1.925839</td>\n",
       "      <td>-2.027248</td>\n",
       "      <td>-1.919160</td>\n",
       "      <td>-1.898555</td>\n",
       "      <td>-1.558906</td>\n",
       "      <td>-1.939165</td>\n",
       "      <td>-1.928193</td>\n",
       "      <td>-1.925797</td>\n",
       "      <td>-1.870871</td>\n",
       "      <td>-1.953944</td>\n",
       "      <td>-1.970500</td>\n",
       "      <td>-1.998675</td>\n",
       "    </tr>\n",
       "    <tr>\n",
       "      <th>mmu-let-7d-5p</th>\n",
       "      <td>4.025264</td>\n",
       "      <td>3.947315</td>\n",
       "      <td>4.193056</td>\n",
       "      <td>3.779013</td>\n",
       "      <td>4.122780</td>\n",
       "      <td>3.733049</td>\n",
       "      <td>2.537163</td>\n",
       "      <td>2.375420</td>\n",
       "      <td>3.663383</td>\n",
       "      <td>3.503750</td>\n",
       "      <td>3.252238</td>\n",
       "      <td>3.120843</td>\n",
       "      <td>2.093728</td>\n",
       "      <td>2.982120</td>\n",
       "      <td>2.509607</td>\n",
       "      <td>2.077653</td>\n",
       "    </tr>\n",
       "  </tbody>\n",
       "</table>\n",
       "</div>"
      ],
      "text/plain": [
       "                    di1       di2       di3       dt1       dt2       dt3  \\\n",
       "mmu-let-7b-5p  4.692824  4.298829  4.864385  4.206526  5.555769  4.416406   \n",
       "mmu-let-7b-3p -2.028538 -2.013912 -2.019624 -2.025628 -1.925839 -2.027248   \n",
       "mmu-let-7d-5p  4.025264  3.947315  4.193056  3.779013  4.122780  3.733049   \n",
       "\n",
       "                    mi1       mi2       mi3       mt1       mt2       mt3  \\\n",
       "mmu-let-7b-5p  4.979150  4.975141  7.526721  4.140164  4.975123  5.541160   \n",
       "mmu-let-7b-3p -1.919160 -1.898555 -1.558906 -1.939165 -1.928193 -1.925797   \n",
       "mmu-let-7d-5p  2.537163  2.375420  3.663383  3.503750  3.252238  3.120843   \n",
       "\n",
       "                    wi1       wi2       wt1       wt2  \n",
       "mmu-let-7b-5p  4.970771  4.822201  3.890027  4.361103  \n",
       "mmu-let-7b-3p -1.870871 -1.953944 -1.970500 -1.998675  \n",
       "mmu-let-7d-5p  2.093728  2.982120  2.509607  2.077653  "
      ]
     },
     "metadata": {},
     "output_type": "display_data"
    },
    {
     "name": "stdout",
     "output_type": "stream",
     "text": [
      "N lines : 406 ; N uniqe miRNAs: 406\n"
     ]
    }
   ],
   "source": [
    "# norm counts\n",
    "path = f\"../../miRNA_ivv_ivt_DEA/results/{sample_dirname}/noThreshold/results/all_counts_merged_rlog.tsv\"\n",
    "tbl = pd.read_csv(path,\n",
    "                  sep='\\t',\n",
    "                  header=0,\n",
    "                 )\n",
    "tbl.columns = [tbl.columns[0].strip('#')] + list(tbl.columns[1:])\n",
    "display(tbl.head(3))\n",
    "\n",
    "print(f\"N lines : {tbl.shape[0]:,} ; N uniqe miRNAs: {tbl.index.unique().shape[0]:,}\")\n",
    "\n",
    "DATASETS['miRDeep2'][sample_dirname]['combined']['norm_cts'] = tbl"
   ]
  },
  {
   "cell_type": "markdown",
   "metadata": {},
   "source": [
    "##### DEA"
   ]
  },
  {
   "cell_type": "code",
   "execution_count": 31,
   "metadata": {
    "ExecuteTime": {
     "end_time": "2021-07-01T14:10:33.253837Z",
     "start_time": "2021-07-01T14:10:33.129491Z"
    }
   },
   "outputs": [
    {
     "name": "stdout",
     "output_type": "stream",
     "text": [
      "Warning: <process_significant> was set to check while column was not found ; generating values.\n",
      "Warning: <process_significant> was set to check while column was not found ; generating values.\n"
     ]
    }
   ],
   "source": [
    "p1_all = ['diapaused_ICM', 'mTor_ICM']\n",
    "p2_all = [\"wt_ICM\"]\n",
    "\n",
    "for p1, p2 in itt.product(p1_all, p2_all):\n",
    "    path = f\"../../miRNA_ivv_ivt_DEA/results/{sample_dirname}/noThreshold/results/differential-expression-tables/{p1}_VS_{p2}_FC_shrink.tsv\"\n",
    "    dea_res = lib_misc.load_DEA_result(path, p1, p2, thresholds['ivt']['LFC'], thresholds['ivv']['pval'])\n",
    "    DATASETS['miRDeep2'][sample_dirname]['combined']['DEA'][f\"{p1}_VS_{p2}\"] = dea_res"
   ]
  },
  {
   "cell_type": "code",
   "execution_count": 32,
   "metadata": {
    "ExecuteTime": {
     "end_time": "2021-07-01T14:10:35.364867Z",
     "start_time": "2021-07-01T14:10:35.239487Z"
    }
   },
   "outputs": [
    {
     "name": "stdout",
     "output_type": "stream",
     "text": [
      "Warning: <process_significant> was set to check while column was not found ; generating values.\n",
      "Warning: <process_significant> was set to check while column was not found ; generating values.\n"
     ]
    }
   ],
   "source": [
    "p1_all = ['diapaused_TE', 'mTor_TE']\n",
    "p2_all = [\"wt_TE\"]\n",
    "\n",
    "\n",
    "for p1, p2 in itt.product(p1_all, p2_all):\n",
    "    path = f\"../../miRNA_ivv_ivt_DEA/results/{sample_dirname}/noThreshold/results/differential-expression-tables/{p1}_VS_{p2}_FC_shrink.tsv\"\n",
    "    dea_res = lib_misc.load_DEA_result(path, p1, p2, thresholds['ivt']['LFC'], thresholds['ivv']['pval'])\n",
    "\n",
    "    DATASETS['miRDeep2'][sample_dirname]['combined']['DEA'][f\"{p1}_VS_{p2}\"] = dea_res"
   ]
  },
  {
   "cell_type": "markdown",
   "metadata": {},
   "source": [
    "# Clustering and heatmaps"
   ]
  },
  {
   "cell_type": "markdown",
   "metadata": {},
   "source": [
    "## Exporting results : preparation"
   ]
  },
  {
   "cell_type": "code",
   "execution_count": 76,
   "metadata": {
    "ExecuteTime": {
     "end_time": "2021-07-01T14:43:45.669710Z",
     "start_time": "2021-07-01T14:43:45.650872Z"
    }
   },
   "outputs": [
    {
     "name": "stdout",
     "output_type": "stream",
     "text": [
      "../results/RNAseq-DEA_IVV-IVT_clustering/2021-07-01_16:43:45\n"
     ]
    }
   ],
   "source": [
    "parent_directory = \"../results/RNAseq-DEA_IVV-IVT_clustering/\"\n",
    "outputdir = pyutils.misc.make_experiment_outputdir(parent_directory)\n",
    "print(outputdir)"
   ]
  },
  {
   "cell_type": "markdown",
   "metadata": {},
   "source": [
    "## Other set-up"
   ]
  },
  {
   "cell_type": "code",
   "execution_count": 77,
   "metadata": {
    "ExecuteTime": {
     "end_time": "2021-07-01T14:44:01.822996Z",
     "start_time": "2021-07-01T14:44:01.816497Z"
    }
   },
   "outputs": [],
   "source": [
    "CLUSTERINGS = pyutils.misc.recursive_defaultdict()"
   ]
  },
  {
   "cell_type": "code",
   "execution_count": 78,
   "metadata": {
    "ExecuteTime": {
     "end_time": "2021-07-01T14:44:02.838077Z",
     "start_time": "2021-07-01T14:44:02.831884Z"
    }
   },
   "outputs": [],
   "source": [
    "# Here we define VMIN and VMAX by inspecting all the cluster results.\n",
    "# This allows to have a unified scale across clustering results figures,\n",
    "# so a color from one table is comparable to the color of another table.\n",
    "VMIN_LOGFC = -6\n",
    "VMAX_LOGFC = 6"
   ]
  },
  {
   "cell_type": "markdown",
   "metadata": {},
   "source": [
    "## E14 / ICM"
   ]
  },
  {
   "cell_type": "code",
   "execution_count": 153,
   "metadata": {
    "ExecuteTime": {
     "end_time": "2021-07-01T15:19:02.799969Z",
     "start_time": "2021-07-01T15:19:02.792281Z"
    }
   },
   "outputs": [],
   "source": [
    "outputdir_E14ICM = outputdir / \"IVV-IVT_E14-ICM\"\n",
    "if not outputdir_E14ICM.exists():\n",
    "    outputdir_E14ICM.mkdir()"
   ]
  },
  {
   "cell_type": "markdown",
   "metadata": {},
   "source": [
    "### Prepare data"
   ]
  },
  {
   "cell_type": "code",
   "execution_count": 154,
   "metadata": {
    "ExecuteTime": {
     "end_time": "2021-07-01T15:19:04.194955Z",
     "start_time": "2021-07-01T15:19:04.129192Z"
    },
    "scrolled": false
   },
   "outputs": [
    {
     "name": "stdout",
     "output_type": "stream",
     "text": [
      "643\n",
      "Number of miRNA successfully merged from the two experiments: 327\n"
     ]
    }
   ],
   "source": [
    "tmp_tbls = []\n",
    "tmp_de_genes = []\n",
    "tmp_de_genes_table = []\n",
    "\n",
    "for k in DATASETS['miRDeep2']['ivv_samples']['combined']['DEA'].keys():\n",
    "    if not \"ICM\" in k: continue\n",
    "\n",
    "    dea = DATASETS['miRDeep2']['ivv_samples']['combined']['DEA'][k]\n",
    "    tmp_tbl = dea.get_full_table()\n",
    "    tmp_tbl = tmp_tbl.filter(regex='logFC').rename(columns = {'logFC':k.split('_VS_')[0]})\n",
    "    tmp_tbls.append(tmp_tbl)\n",
    "\n",
    "    tmp_de_genes+= list(DATASETS['miRDeep2']['ivv_samples']['combined']['DEA'][k].get_significant().index.values)\n",
    "    tmp_de_genes_table.append(DATASETS['miRDeep2']['ivv_samples']['combined']['DEA'][k].get_significant().assign(comparison=k))\n",
    "\n",
    "for k in DATASETS['miRDeep2']['ivt_samples']['combined']['DEA'].keys():\n",
    "    if not \"E14\" in k: continue\n",
    "\n",
    "    dea = DATASETS['miRDeep2']['ivt_samples']['combined']['DEA'][k]\n",
    "    tmp_tbl = dea.get_full_table()\n",
    "    tmp_tbl = tmp_tbl.filter(regex='logFC').rename(columns = {'logFC':k.split('_VS_')[0]})\n",
    "    tmp_tbls.append(tmp_tbl)\n",
    "\n",
    "    tmp_de_genes+= list(DATASETS['miRDeep2']['ivt_samples']['combined']['DEA'][k].get_significant().index.values)\n",
    "    tmp_de_genes_table.append(DATASETS['miRDeep2']['ivt_samples']['combined']['DEA'][k].get_significant().assign(comparison=k))\n",
    "\n",
    "\n",
    "full_merge = pd.concat(tmp_tbls, sort=True, axis=1)\n",
    "print(full_merge.shape[0])\n",
    "full_merge = full_merge.dropna()\n",
    "print(f\"Number of miRNA successfully merged from the two experiments: {full_merge.shape[0]:,}\")\n",
    "\n",
    "# Remove duplicates and focus on those merged.\n",
    "DE_genes = set(tmp_de_genes) & set(full_merge.index.values)\n",
    "\n",
    "\n",
    "tmp_de_genes_table = pd.concat(tmp_de_genes_table)"
   ]
  },
  {
   "cell_type": "code",
   "execution_count": 155,
   "metadata": {
    "ExecuteTime": {
     "end_time": "2021-07-01T15:19:05.797194Z",
     "start_time": "2021-07-01T15:19:05.783348Z"
    }
   },
   "outputs": [],
   "source": [
    "scaler = sklearn.preprocessing.StandardScaler()\n",
    "scaled_logFC_sub = scaler.fit_transform(full_merge)\n",
    "scaled_logFC_sub = pd.DataFrame(scaled_logFC_sub,\n",
    "                                index = full_merge.index.values,\n",
    "                                columns = full_merge.columns)"
   ]
  },
  {
   "cell_type": "code",
   "execution_count": 156,
   "metadata": {
    "ExecuteTime": {
     "end_time": "2021-07-01T15:19:07.156595Z",
     "start_time": "2021-07-01T15:19:07.144577Z"
    }
   },
   "outputs": [],
   "source": [
    "CLUSTERINGS['DESeq2']['IVV_IVT_E14']['raw_logFC'] = full_merge.copy()\n",
    "CLUSTERINGS['DESeq2']['IVV_IVT_E14']['DE_genes'] = DE_genes\n",
    "CLUSTERINGS['DESeq2']['IVV_IVT_E14']['scaled_logFC'] = scaled_logFC_sub.copy()\n",
    "CLUSTERINGS['DESeq2']['IVV_IVT_E14']['DE_genes_table'] = tmp_de_genes_table.copy()"
   ]
  },
  {
   "cell_type": "markdown",
   "metadata": {},
   "source": [
    "### Clustering"
   ]
  },
  {
   "cell_type": "code",
   "execution_count": 157,
   "metadata": {
    "ExecuteTime": {
     "end_time": "2021-07-01T15:19:08.628440Z",
     "start_time": "2021-07-01T15:19:08.622614Z"
    }
   },
   "outputs": [],
   "source": [
    "sample_tissue = 'IVV_IVT_E14'\n",
    "method = 'ward'\n",
    "metric = 'euclidean'"
   ]
  },
  {
   "cell_type": "code",
   "execution_count": 158,
   "metadata": {
    "ExecuteTime": {
     "end_time": "2021-07-01T15:19:12.275028Z",
     "start_time": "2021-07-01T15:19:09.542061Z"
    }
   },
   "outputs": [
    {
     "name": "stderr",
     "output_type": "stream",
     "text": [
      "/home/icb/lambert.moyon/anaconda3/envs/devpause_env/lib/python3.7/site-packages/matplotlib/figure.py:2299: UserWarning: This figure includes Axes that are not compatible with tight_layout, so results might be incorrect.\n",
      "  warnings.warn(\"This figure includes Axes that are not compatible \"\n"
     ]
    },
    {
     "data": {
      "image/png": "[encoded data removed]",
      "text/plain": [
       "<Figure size 864x432 with 1 Axes>"
      ]
     },
     "metadata": {},
     "output_type": "display_data"
    }
   ],
   "source": [
    "E14_ICM_ClusteringExp = ClusteringExperiment(CLUSTERINGS['DESeq2']['IVV_IVT_E14']['scaled_logFC'],\n",
    "                                             method=method,\n",
    "                                             metric=metric)\n",
    "\n",
    "#E14_ICM_ClusteringExp.plot_silhouettes()\n",
    "E14_ICM_ClusteringExp.selected_N_clusters = 9\n",
    "\n",
    "savefig_file = outputdir_E14ICM / \"silhouette.svg\"\n",
    "#savefig_file = None\n",
    "E14_ICM_ClusteringExp.plot_silhouettes(savefig_file=savefig_file)"
   ]
  },
  {
   "cell_type": "code",
   "execution_count": 159,
   "metadata": {
    "ExecuteTime": {
     "end_time": "2021-07-01T15:19:12.325951Z",
     "start_time": "2021-07-01T15:19:12.284388Z"
    }
   },
   "outputs": [
    {
     "name": "stdout",
     "output_type": "stream",
     "text": [
      "Min value over the table: -5.988283086996269\n",
      "Max value over the table: 4.06823937599978\n",
      "Cmap returned range: [-8 ; 8]\n"
     ]
    }
   ],
   "source": [
    "linkage = E14_ICM_ClusteringExp.linkage\n",
    "selected_cluster_labels = E14_ICM_ClusteringExp.selected_cluster_labels\n",
    "colors_clusters = E14_ICM_ClusteringExp.colors_clusters\n",
    "\n",
    "\n",
    "E14_ICM_clusters = ClusteredTable(CLUSTERINGS['DESeq2']['IVV_IVT_E14']['raw_logFC'],\n",
    "                                  clusters=selected_cluster_labels,\n",
    "                                  colors_clusters=colors_clusters\n",
    "                                  )\n",
    "\n",
    "# Define a cmap with alternative colors for better highlighting changes in fold changes.\n",
    "E14_ICM_clusters.print_min_max()\n",
    "my_cmap = CmapBuilder().get_cmap_minmax(-8,8)"
   ]
  },
  {
   "cell_type": "code",
   "execution_count": 160,
   "metadata": {
    "ExecuteTime": {
     "end_time": "2021-07-01T15:19:16.448367Z",
     "start_time": "2021-07-01T15:19:14.168730Z"
    },
    "scrolled": false
   },
   "outputs": [
    {
     "data": {
      "image/png": "[encoded data removed]",
      "text/plain": [
       "<Figure size 1152x432 with 5 Axes>"
      ]
     },
     "metadata": {},
     "output_type": "display_data"
    },
    {
     "data": {
      "text/html": [
       "<div>\n",
       "<style scoped>\n",
       "    .dataframe tbody tr th:only-of-type {\n",
       "        vertical-align: middle;\n",
       "    }\n",
       "\n",
       "    .dataframe tbody tr th {\n",
       "        vertical-align: top;\n",
       "    }\n",
       "\n",
       "    .dataframe thead th {\n",
       "        text-align: right;\n",
       "    }\n",
       "</style>\n",
       "<table border=\"1\" class=\"dataframe\">\n",
       "  <thead>\n",
       "    <tr style=\"text-align: right;\">\n",
       "      <th></th>\n",
       "      <th>mean.diapaused_ICM</th>\n",
       "      <th>mean.mTor_ICM</th>\n",
       "      <th>mean.paused_E14</th>\n",
       "      <th>mean_profile</th>\n",
       "      <th>N_tot</th>\n",
       "      <th>N_DE_anyComparison</th>\n",
       "    </tr>\n",
       "    <tr>\n",
       "      <th>cluster</th>\n",
       "      <th></th>\n",
       "      <th></th>\n",
       "      <th></th>\n",
       "      <th></th>\n",
       "      <th></th>\n",
       "      <th></th>\n",
       "    </tr>\n",
       "  </thead>\n",
       "  <tbody>\n",
       "    <tr>\n",
       "      <th>0</th>\n",
       "      <td>0.449847</td>\n",
       "      <td>0.135439</td>\n",
       "      <td>-0.863280</td>\n",
       "      <td>discordant</td>\n",
       "      <td>62</td>\n",
       "      <td>2</td>\n",
       "    </tr>\n",
       "    <tr>\n",
       "      <th>1</th>\n",
       "      <td>1.481452</td>\n",
       "      <td>1.120591</td>\n",
       "      <td>0.768657</td>\n",
       "      <td>positive</td>\n",
       "      <td>23</td>\n",
       "      <td>1</td>\n",
       "    </tr>\n",
       "    <tr>\n",
       "      <th>2</th>\n",
       "      <td>0.185339</td>\n",
       "      <td>-1.430976</td>\n",
       "      <td>-2.248414</td>\n",
       "      <td>discordant</td>\n",
       "      <td>14</td>\n",
       "      <td>5</td>\n",
       "    </tr>\n",
       "    <tr>\n",
       "      <th>3</th>\n",
       "      <td>-0.708896</td>\n",
       "      <td>-0.500840</td>\n",
       "      <td>0.107604</td>\n",
       "      <td>discordant</td>\n",
       "      <td>67</td>\n",
       "      <td>0</td>\n",
       "    </tr>\n",
       "    <tr>\n",
       "      <th>4</th>\n",
       "      <td>0.049790</td>\n",
       "      <td>0.140059</td>\n",
       "      <td>0.676268</td>\n",
       "      <td>positive</td>\n",
       "      <td>107</td>\n",
       "      <td>1</td>\n",
       "    </tr>\n",
       "    <tr>\n",
       "      <th>5</th>\n",
       "      <td>0.237193</td>\n",
       "      <td>-0.055313</td>\n",
       "      <td>-3.944389</td>\n",
       "      <td>discordant</td>\n",
       "      <td>26</td>\n",
       "      <td>12</td>\n",
       "    </tr>\n",
       "    <tr>\n",
       "      <th>6</th>\n",
       "      <td>-1.774168</td>\n",
       "      <td>-1.855261</td>\n",
       "      <td>0.467281</td>\n",
       "      <td>discordant</td>\n",
       "      <td>13</td>\n",
       "      <td>1</td>\n",
       "    </tr>\n",
       "    <tr>\n",
       "      <th>7</th>\n",
       "      <td>-1.942101</td>\n",
       "      <td>-2.322173</td>\n",
       "      <td>-4.382110</td>\n",
       "      <td>negative</td>\n",
       "      <td>3</td>\n",
       "      <td>3</td>\n",
       "    </tr>\n",
       "    <tr>\n",
       "      <th>8</th>\n",
       "      <td>0.476572</td>\n",
       "      <td>2.811007</td>\n",
       "      <td>0.290268</td>\n",
       "      <td>positive</td>\n",
       "      <td>12</td>\n",
       "      <td>1</td>\n",
       "    </tr>\n",
       "  </tbody>\n",
       "</table>\n",
       "</div>"
      ],
      "text/plain": [
       "         mean.diapaused_ICM  mean.mTor_ICM  mean.paused_E14 mean_profile  \\\n",
       "cluster                                                                    \n",
       "0                  0.449847       0.135439        -0.863280   discordant   \n",
       "1                  1.481452       1.120591         0.768657     positive   \n",
       "2                  0.185339      -1.430976        -2.248414   discordant   \n",
       "3                 -0.708896      -0.500840         0.107604   discordant   \n",
       "4                  0.049790       0.140059         0.676268     positive   \n",
       "5                  0.237193      -0.055313        -3.944389   discordant   \n",
       "6                 -1.774168      -1.855261         0.467281   discordant   \n",
       "7                 -1.942101      -2.322173        -4.382110     negative   \n",
       "8                  0.476572       2.811007         0.290268     positive   \n",
       "\n",
       "         N_tot  N_DE_anyComparison  \n",
       "cluster                             \n",
       "0           62                   2  \n",
       "1           23                   1  \n",
       "2           14                   5  \n",
       "3           67                   0  \n",
       "4          107                   1  \n",
       "5           26                  12  \n",
       "6           13                   1  \n",
       "7            3                   3  \n",
       "8           12                   1  "
      ]
     },
     "metadata": {},
     "output_type": "display_data"
    }
   ],
   "source": [
    "savefig_file = outputdir_E14ICM / \"heatmap_raw-logFC.svg\"\n",
    "#savefig_file = None\n",
    "\n",
    "E14_ICM_clusters.plot_heatmap(col_linkage=linkage,\n",
    "                              savefigfile=savefig_file,\n",
    "                              #my_cmap=my_cmap,\n",
    "                              kwargs_heatmap={'vmin':VMIN_LOGFC,'vmax':VMAX_LOGFC}\n",
    "                             )\n",
    "\n",
    "summary_table = E14_ICM_clusters.summarize_clusters(DE_genes=CLUSTERINGS['DESeq2']['IVV_IVT_E14']['DE_genes'])\n",
    "display(summary_table)"
   ]
  },
  {
   "cell_type": "code",
   "execution_count": 162,
   "metadata": {
    "ExecuteTime": {
     "end_time": "2021-07-01T15:19:19.274406Z",
     "start_time": "2021-07-01T15:19:19.260178Z"
    }
   },
   "outputs": [],
   "source": [
    "CLUSTERINGS['DESeq2'][sample_tissue]['CLUSTERINGS'][f'hc_{method}']['linkage'] = linkage\n",
    "CLUSTERINGS['DESeq2'][sample_tissue]['CLUSTERINGS'][f'hc_{method}']['selected_cluster_labels'] = selected_cluster_labels\n",
    "CLUSTERINGS['DESeq2'][sample_tissue]['CLUSTERINGS'][f'hc_{method}']['colors_clusters'] = colors_clusters\n",
    "CLUSTERINGS['DESeq2'][sample_tissue]['CLUSTERINGS'][f'hc_{method}']['summarized_clusters'] = summary_table.copy()"
   ]
  },
  {
   "cell_type": "markdown",
   "metadata": {},
   "source": [
    "### Export"
   ]
  },
  {
   "cell_type": "code",
   "execution_count": 163,
   "metadata": {
    "ExecuteTime": {
     "end_time": "2021-07-01T15:19:20.750031Z",
     "start_time": "2021-07-01T15:19:20.615506Z"
    }
   },
   "outputs": [
    {
     "name": "stdout",
     "output_type": "stream",
     "text": [
      "../results/RNAseq-DEA_IVV-IVT_clustering/2021-07-01_16:43:45/IVV-IVT_E14-ICM/table_w_annotated_clusters.raw_logFC.tsv\n",
      "../results/RNAseq-DEA_IVV-IVT_clustering/2021-07-01_16:43:45/IVV-IVT_E14-ICM/per_cluster_table.raw_logFC/cluster_0.table.raw_logFC.tsv\n",
      "../results/RNAseq-DEA_IVV-IVT_clustering/2021-07-01_16:43:45/IVV-IVT_E14-ICM/per_cluster_table.raw_logFC/cluster_1.table.raw_logFC.tsv\n",
      "../results/RNAseq-DEA_IVV-IVT_clustering/2021-07-01_16:43:45/IVV-IVT_E14-ICM/per_cluster_table.raw_logFC/cluster_2.table.raw_logFC.tsv\n",
      "../results/RNAseq-DEA_IVV-IVT_clustering/2021-07-01_16:43:45/IVV-IVT_E14-ICM/per_cluster_table.raw_logFC/cluster_3.table.raw_logFC.tsv\n",
      "../results/RNAseq-DEA_IVV-IVT_clustering/2021-07-01_16:43:45/IVV-IVT_E14-ICM/per_cluster_table.raw_logFC/cluster_4.table.raw_logFC.tsv\n",
      "../results/RNAseq-DEA_IVV-IVT_clustering/2021-07-01_16:43:45/IVV-IVT_E14-ICM/per_cluster_table.raw_logFC/cluster_5.table.raw_logFC.tsv\n",
      "../results/RNAseq-DEA_IVV-IVT_clustering/2021-07-01_16:43:45/IVV-IVT_E14-ICM/per_cluster_table.raw_logFC/cluster_6.table.raw_logFC.tsv\n",
      "../results/RNAseq-DEA_IVV-IVT_clustering/2021-07-01_16:43:45/IVV-IVT_E14-ICM/per_cluster_table.raw_logFC/cluster_7.table.raw_logFC.tsv\n",
      "../results/RNAseq-DEA_IVV-IVT_clustering/2021-07-01_16:43:45/IVV-IVT_E14-ICM/per_cluster_table.raw_logFC/cluster_8.table.raw_logFC.tsv\n",
      "../results/RNAseq-DEA_IVV-IVT_clustering/2021-07-01_16:43:45/IVV-IVT_E14-ICM/summary_table.raw_logFC.tsv\n"
     ]
    }
   ],
   "source": [
    "# This exports the table used for the heatmap ; the sub-table per cluster ; the summary table.\n",
    "E14_ICM_clusters.export_data(outputdir_E14ICM, suffix='raw_logFC')\n",
    "\n",
    "# We also export the scaled logFC values\n",
    "outputdir_E14ICM_scaled_tbl = outputdir_E14ICM / \"table_scaled_logFC_for_clustering.tsv\"\n",
    "CLUSTERINGS['DESeq2']['IVV_IVT_E14']['scaled_logFC'].to_csv(outputdir_E14ICM_scaled_tbl,\n",
    "                                                            header=True,\n",
    "                                                            index=True,\n",
    "                                                            sep=\"\\t\"\n",
    "                                                           )\n",
    "\n",
    "# And the table of DE miRNAs, aggregated from the different comparisons.\n",
    "outputdir_E14ICM_DE_genes = outputdir_E14ICM / \"table_DE_genes_all_comparisons.tsv\"\n",
    "CLUSTERINGS['DESeq2']['IVV_IVT_E14']['DE_genes_table'].to_csv(outputdir_E14ICM_DE_genes,\n",
    "                                                              header=True,\n",
    "                                                              index=True,\n",
    "                                                              sep=\"\\t\"\n",
    "                                                             )"
   ]
  },
  {
   "cell_type": "markdown",
   "metadata": {},
   "source": [
    "### Exploring clustering"
   ]
  },
  {
   "cell_type": "markdown",
   "metadata": {},
   "source": [
    "##### Explore specific cluster"
   ]
  },
  {
   "cell_type": "code",
   "execution_count": 305,
   "metadata": {
    "ExecuteTime": {
     "end_time": "2021-07-01T07:12:43.816013Z",
     "start_time": "2021-07-01T07:12:43.786958Z"
    }
   },
   "outputs": [
    {
     "data": {
      "text/html": [
       "<div>\n",
       "<style scoped>\n",
       "    .dataframe tbody tr th:only-of-type {\n",
       "        vertical-align: middle;\n",
       "    }\n",
       "\n",
       "    .dataframe tbody tr th {\n",
       "        vertical-align: top;\n",
       "    }\n",
       "\n",
       "    .dataframe thead th {\n",
       "        text-align: right;\n",
       "    }\n",
       "</style>\n",
       "<table border=\"1\" class=\"dataframe\">\n",
       "  <thead>\n",
       "    <tr style=\"text-align: right;\">\n",
       "      <th></th>\n",
       "      <th>diapaused_ICM</th>\n",
       "      <th>mTor_ICM</th>\n",
       "      <th>paused_E14</th>\n",
       "      <th>cluster</th>\n",
       "    </tr>\n",
       "  </thead>\n",
       "  <tbody>\n",
       "    <tr>\n",
       "      <th>mmu-let-7d-5p</th>\n",
       "      <td>1.994476</td>\n",
       "      <td>0.392090</td>\n",
       "      <td>0.781504</td>\n",
       "      <td>1</td>\n",
       "    </tr>\n",
       "    <tr>\n",
       "      <th>mmu-let-7g-5p</th>\n",
       "      <td>1.043283</td>\n",
       "      <td>0.885175</td>\n",
       "      <td>0.542781</td>\n",
       "      <td>1</td>\n",
       "    </tr>\n",
       "    <tr>\n",
       "      <th>mmu-miR-141-3p</th>\n",
       "      <td>1.580174</td>\n",
       "      <td>1.674259</td>\n",
       "      <td>0.539699</td>\n",
       "      <td>1</td>\n",
       "    </tr>\n",
       "    <tr>\n",
       "      <th>mmu-miR-148a-3p</th>\n",
       "      <td>0.838747</td>\n",
       "      <td>1.161704</td>\n",
       "      <td>1.727824</td>\n",
       "      <td>1</td>\n",
       "    </tr>\n",
       "    <tr>\n",
       "      <th>mmu-miR-152-3p</th>\n",
       "      <td>3.369270</td>\n",
       "      <td>2.469559</td>\n",
       "      <td>-0.494827</td>\n",
       "      <td>1</td>\n",
       "    </tr>\n",
       "    <tr>\n",
       "      <th>mmu-miR-1839-5p</th>\n",
       "      <td>2.026016</td>\n",
       "      <td>1.597830</td>\n",
       "      <td>1.632651</td>\n",
       "      <td>1</td>\n",
       "    </tr>\n",
       "    <tr>\n",
       "      <th>mmu-miR-200a-3p</th>\n",
       "      <td>1.521712</td>\n",
       "      <td>1.449122</td>\n",
       "      <td>0.838676</td>\n",
       "      <td>1</td>\n",
       "    </tr>\n",
       "    <tr>\n",
       "      <th>mmu-miR-200b-3p</th>\n",
       "      <td>1.231986</td>\n",
       "      <td>1.415203</td>\n",
       "      <td>1.423348</td>\n",
       "      <td>1</td>\n",
       "    </tr>\n",
       "    <tr>\n",
       "      <th>mmu-miR-200b-5p</th>\n",
       "      <td>1.862138</td>\n",
       "      <td>0.391647</td>\n",
       "      <td>2.120523</td>\n",
       "      <td>1</td>\n",
       "    </tr>\n",
       "    <tr>\n",
       "      <th>mmu-miR-200c-3p</th>\n",
       "      <td>1.187016</td>\n",
       "      <td>0.978491</td>\n",
       "      <td>1.868178</td>\n",
       "      <td>1</td>\n",
       "    </tr>\n",
       "    <tr>\n",
       "      <th>mmu-miR-224-5p</th>\n",
       "      <td>1.602010</td>\n",
       "      <td>0.277842</td>\n",
       "      <td>0.409597</td>\n",
       "      <td>1</td>\n",
       "    </tr>\n",
       "    <tr>\n",
       "      <th>mmu-miR-26b-5p</th>\n",
       "      <td>0.563257</td>\n",
       "      <td>1.456949</td>\n",
       "      <td>3.082136</td>\n",
       "      <td>1</td>\n",
       "    </tr>\n",
       "    <tr>\n",
       "      <th>mmu-miR-30d-5p</th>\n",
       "      <td>1.323386</td>\n",
       "      <td>1.126564</td>\n",
       "      <td>0.911987</td>\n",
       "      <td>1</td>\n",
       "    </tr>\n",
       "    <tr>\n",
       "      <th>mmu-miR-429-3p</th>\n",
       "      <td>1.460482</td>\n",
       "      <td>0.447465</td>\n",
       "      <td>1.399124</td>\n",
       "      <td>1</td>\n",
       "    </tr>\n",
       "    <tr>\n",
       "      <th>mmu-miR-434-3p</th>\n",
       "      <td>1.012303</td>\n",
       "      <td>1.197660</td>\n",
       "      <td>0.517823</td>\n",
       "      <td>1</td>\n",
       "    </tr>\n",
       "    <tr>\n",
       "      <th>mmu-miR-483-3p</th>\n",
       "      <td>0.914404</td>\n",
       "      <td>1.051896</td>\n",
       "      <td>0.000000</td>\n",
       "      <td>1</td>\n",
       "    </tr>\n",
       "    <tr>\n",
       "      <th>mmu-miR-503-3p</th>\n",
       "      <td>0.651439</td>\n",
       "      <td>1.388993</td>\n",
       "      <td>0.965473</td>\n",
       "      <td>1</td>\n",
       "    </tr>\n",
       "    <tr>\n",
       "      <th>mmu-miR-532-3p</th>\n",
       "      <td>0.919127</td>\n",
       "      <td>0.924762</td>\n",
       "      <td>0.788106</td>\n",
       "      <td>1</td>\n",
       "    </tr>\n",
       "    <tr>\n",
       "      <th>mmu-miR-542-3p</th>\n",
       "      <td>1.657134</td>\n",
       "      <td>0.000000</td>\n",
       "      <td>1.618264</td>\n",
       "      <td>1</td>\n",
       "    </tr>\n",
       "    <tr>\n",
       "      <th>mmu-miR-574-5p</th>\n",
       "      <td>0.396536</td>\n",
       "      <td>0.953551</td>\n",
       "      <td>0.083520</td>\n",
       "      <td>1</td>\n",
       "    </tr>\n",
       "    <tr>\n",
       "      <th>mmu-miR-669f-3p</th>\n",
       "      <td>2.900993</td>\n",
       "      <td>1.783292</td>\n",
       "      <td>-4.098907</td>\n",
       "      <td>1</td>\n",
       "    </tr>\n",
       "    <tr>\n",
       "      <th>mmu-miR-676-3p</th>\n",
       "      <td>2.497754</td>\n",
       "      <td>1.419433</td>\n",
       "      <td>0.712663</td>\n",
       "      <td>1</td>\n",
       "    </tr>\n",
       "    <tr>\n",
       "      <th>mmu-miR-98-5p</th>\n",
       "      <td>1.519750</td>\n",
       "      <td>1.330105</td>\n",
       "      <td>0.308966</td>\n",
       "      <td>1</td>\n",
       "    </tr>\n",
       "  </tbody>\n",
       "</table>\n",
       "</div>"
      ],
      "text/plain": [
       "                 diapaused_ICM  mTor_ICM  paused_E14  cluster\n",
       "mmu-let-7d-5p         1.994476  0.392090    0.781504        1\n",
       "mmu-let-7g-5p         1.043283  0.885175    0.542781        1\n",
       "mmu-miR-141-3p        1.580174  1.674259    0.539699        1\n",
       "mmu-miR-148a-3p       0.838747  1.161704    1.727824        1\n",
       "mmu-miR-152-3p        3.369270  2.469559   -0.494827        1\n",
       "mmu-miR-1839-5p       2.026016  1.597830    1.632651        1\n",
       "mmu-miR-200a-3p       1.521712  1.449122    0.838676        1\n",
       "mmu-miR-200b-3p       1.231986  1.415203    1.423348        1\n",
       "mmu-miR-200b-5p       1.862138  0.391647    2.120523        1\n",
       "mmu-miR-200c-3p       1.187016  0.978491    1.868178        1\n",
       "mmu-miR-224-5p        1.602010  0.277842    0.409597        1\n",
       "mmu-miR-26b-5p        0.563257  1.456949    3.082136        1\n",
       "mmu-miR-30d-5p        1.323386  1.126564    0.911987        1\n",
       "mmu-miR-429-3p        1.460482  0.447465    1.399124        1\n",
       "mmu-miR-434-3p        1.012303  1.197660    0.517823        1\n",
       "mmu-miR-483-3p        0.914404  1.051896    0.000000        1\n",
       "mmu-miR-503-3p        0.651439  1.388993    0.965473        1\n",
       "mmu-miR-532-3p        0.919127  0.924762    0.788106        1\n",
       "mmu-miR-542-3p        1.657134  0.000000    1.618264        1\n",
       "mmu-miR-574-5p        0.396536  0.953551    0.083520        1\n",
       "mmu-miR-669f-3p       2.900993  1.783292   -4.098907        1\n",
       "mmu-miR-676-3p        2.497754  1.419433    0.712663        1\n",
       "mmu-miR-98-5p         1.519750  1.330105    0.308966        1"
      ]
     },
     "metadata": {},
     "output_type": "display_data"
    }
   ],
   "source": [
    "display(clusters_logFC.loc[(tmp[\"cluster\"]==1),:])"
   ]
  },
  {
   "cell_type": "markdown",
   "metadata": {},
   "source": [
    "##### Candidate miRNA original values"
   ]
  },
  {
   "cell_type": "code",
   "execution_count": 186,
   "metadata": {
    "ExecuteTime": {
     "end_time": "2021-07-02T10:49:20.044056Z",
     "start_time": "2021-07-02T10:49:20.019149Z"
    }
   },
   "outputs": [
    {
     "data": {
      "text/html": [
       "<div>\n",
       "<style scoped>\n",
       "    .dataframe tbody tr th:only-of-type {\n",
       "        vertical-align: middle;\n",
       "    }\n",
       "\n",
       "    .dataframe tbody tr th {\n",
       "        vertical-align: top;\n",
       "    }\n",
       "\n",
       "    .dataframe thead th {\n",
       "        text-align: right;\n",
       "    }\n",
       "</style>\n",
       "<table border=\"1\" class=\"dataframe\">\n",
       "  <thead>\n",
       "    <tr style=\"text-align: right;\">\n",
       "      <th></th>\n",
       "      <th>logFC</th>\n",
       "      <th>pval</th>\n",
       "      <th>padj</th>\n",
       "      <th>DE_status</th>\n",
       "      <th>significant</th>\n",
       "    </tr>\n",
       "  </thead>\n",
       "  <tbody>\n",
       "    <tr>\n",
       "      <th>mmu-miR-200b-5p</th>\n",
       "      <td>2.120523</td>\n",
       "      <td>0.314826</td>\n",
       "      <td>1.0</td>\n",
       "      <td>notSign</td>\n",
       "      <td>False</td>\n",
       "    </tr>\n",
       "  </tbody>\n",
       "</table>\n",
       "</div>"
      ],
      "text/plain": [
       "                    logFC      pval  padj DE_status  significant\n",
       "mmu-miR-200b-5p  2.120523  0.314826   1.0   notSign        False"
      ]
     },
     "execution_count": 186,
     "metadata": {},
     "output_type": "execute_result"
    }
   ],
   "source": [
    "# Here look at the DE status of a given miRNA of interest.\n",
    "DATASETS['miRDeep2']['ivt_samples']['combined']['DEA']['paused_E14_VS_wt_E14'].get_full_table().loc[['mmu-miR-200b-5p'],:]"
   ]
  },
  {
   "cell_type": "code",
   "execution_count": 243,
   "metadata": {
    "ExecuteTime": {
     "end_time": "2021-06-30T14:59:21.822360Z",
     "start_time": "2021-06-30T14:59:21.793065Z"
    }
   },
   "outputs": [
    {
     "data": {
      "text/html": [
       "<div>\n",
       "<style scoped>\n",
       "    .dataframe tbody tr th:only-of-type {\n",
       "        vertical-align: middle;\n",
       "    }\n",
       "\n",
       "    .dataframe tbody tr th {\n",
       "        vertical-align: top;\n",
       "    }\n",
       "\n",
       "    .dataframe thead th {\n",
       "        text-align: right;\n",
       "    }\n",
       "</style>\n",
       "<table border=\"1\" class=\"dataframe\">\n",
       "  <thead>\n",
       "    <tr style=\"text-align: right;\">\n",
       "      <th></th>\n",
       "      <th>tw1</th>\n",
       "      <th>tp1</th>\n",
       "      <th>tw2</th>\n",
       "      <th>tp2</th>\n",
       "      <th>tw3</th>\n",
       "      <th>tp3</th>\n",
       "      <th>ew1</th>\n",
       "      <th>ep1</th>\n",
       "      <th>ew2</th>\n",
       "      <th>ep2</th>\n",
       "      <th>ew3</th>\n",
       "      <th>ep3</th>\n",
       "    </tr>\n",
       "  </thead>\n",
       "  <tbody>\n",
       "    <tr>\n",
       "      <th>mmu-miR-200b-5p</th>\n",
       "      <td>0.622642</td>\n",
       "      <td>-1.027421</td>\n",
       "      <td>0.235676</td>\n",
       "      <td>-0.113156</td>\n",
       "      <td>-0.818341</td>\n",
       "      <td>-1.466125</td>\n",
       "      <td>-0.823506</td>\n",
       "      <td>0.81129</td>\n",
       "      <td>-0.55684</td>\n",
       "      <td>1.276289</td>\n",
       "      <td>0.50274</td>\n",
       "      <td>1.366103</td>\n",
       "    </tr>\n",
       "  </tbody>\n",
       "</table>\n",
       "</div>"
      ],
      "text/plain": [
       "                      tw1       tp1       tw2       tp2       tw3       tp3  \\\n",
       "mmu-miR-200b-5p  0.622642 -1.027421  0.235676 -0.113156 -0.818341 -1.466125   \n",
       "\n",
       "                      ew1      ep1      ew2       ep2      ew3       ep3  \n",
       "mmu-miR-200b-5p -0.823506  0.81129 -0.55684  1.276289  0.50274  1.366103  "
      ]
     },
     "execution_count": 243,
     "metadata": {},
     "output_type": "execute_result"
    }
   ],
   "source": [
    "# Here look at the rlog values of a miRNA of interest\n",
    "DATASETS['miRDeep2']['ivt_samples']['combined']['norm_cts'].loc[['mmu-miR-200b-5p']]"
   ]
  },
  {
   "cell_type": "markdown",
   "metadata": {},
   "source": [
    "## TS / TE"
   ]
  },
  {
   "cell_type": "code",
   "execution_count": 164,
   "metadata": {
    "ExecuteTime": {
     "end_time": "2021-07-01T15:19:24.512119Z",
     "start_time": "2021-07-01T15:19:24.504338Z"
    }
   },
   "outputs": [],
   "source": [
    "outputdir_TSTE = outputdir / \"IVV-IVT_TS-TE\"\n",
    "if not outputdir_TSTE.exists():\n",
    "    outputdir_TSTE.mkdir()"
   ]
  },
  {
   "cell_type": "markdown",
   "metadata": {},
   "source": [
    "### Prepare data"
   ]
  },
  {
   "cell_type": "code",
   "execution_count": 165,
   "metadata": {
    "ExecuteTime": {
     "end_time": "2021-07-01T15:19:25.993366Z",
     "start_time": "2021-07-01T15:19:25.746424Z"
    },
    "scrolled": false
   },
   "outputs": [
    {
     "name": "stdout",
     "output_type": "stream",
     "text": [
      "643\n",
      "Number of miRNA successfully merged from the two experiments: 327\n"
     ]
    }
   ],
   "source": [
    "tmp_tbls = []\n",
    "tmp_de_genes = []\n",
    "tmp_de_genes_table = []\n",
    "\n",
    "for k in DATASETS['miRDeep2']['ivv_samples']['combined']['DEA'].keys():\n",
    "    if not \"TE\" in k: continue\n",
    "\n",
    "    dea = DATASETS['miRDeep2']['ivv_samples']['combined']['DEA'][k]\n",
    "    tmp_tbl = dea.get_full_table()\n",
    "    tmp_tbl = tmp_tbl.filter(regex='logFC').rename(columns = {'logFC':k.split('_VS_')[0]})\n",
    "    tmp_tbls.append(tmp_tbl)\n",
    "\n",
    "    tmp_de_genes+= list(DATASETS['miRDeep2']['ivv_samples']['combined']['DEA'][k].get_significant().index.values)\n",
    "    tmp_de_genes_table.append(DATASETS['miRDeep2']['ivv_samples']['combined']['DEA'][k].get_significant().assign(comparison=k))\n",
    "\n",
    "\n",
    "for k in DATASETS['miRDeep2']['ivt_samples']['combined']['DEA'].keys():\n",
    "    if not \"TS\" in k: continue\n",
    "\n",
    "    dea = DATASETS['miRDeep2']['ivt_samples']['combined']['DEA'][k]\n",
    "    tmp_tbl = dea.get_full_table()\n",
    "    tmp_tbl = tmp_tbl.filter(regex='logFC').rename(columns = {'logFC':k.split('_VS_')[0]})\n",
    "    tmp_tbls.append(tmp_tbl)\n",
    "\n",
    "    tmp_de_genes+= list(DATASETS['miRDeep2']['ivt_samples']['combined']['DEA'][k].get_significant().index.values)\n",
    "    tmp_de_genes_table.append(DATASETS['miRDeep2']['ivt_samples']['combined']['DEA'][k].get_significant().assign(comparison=k))\n",
    "\n",
    "\n",
    "\n",
    "full_merge = pd.concat(tmp_tbls, sort=True, axis=1)\n",
    "print(full_merge.shape[0])\n",
    "full_merge = full_merge.dropna()\n",
    "print(f\"Number of miRNA successfully merged from the two experiments: {full_merge.shape[0]:,}\")\n",
    "\n",
    "# Remove duplicates and focus on those merged.\n",
    "DE_genes = set(tmp_de_genes) & set(full_merge.index.values)\n",
    "\n",
    "\n",
    "tmp_de_genes_table = pd.concat(tmp_de_genes_table)"
   ]
  },
  {
   "cell_type": "code",
   "execution_count": 166,
   "metadata": {
    "ExecuteTime": {
     "end_time": "2021-07-01T15:19:27.833845Z",
     "start_time": "2021-07-01T15:19:27.819354Z"
    }
   },
   "outputs": [],
   "source": [
    "scaler = sklearn.preprocessing.StandardScaler()\n",
    "scaled_logFC_sub = scaler.fit_transform(full_merge)\n",
    "scaled_logFC_sub = pd.DataFrame(scaled_logFC_sub,\n",
    "                                index = full_merge.index.values,\n",
    "                                columns = full_merge.columns)"
   ]
  },
  {
   "cell_type": "code",
   "execution_count": 167,
   "metadata": {
    "ExecuteTime": {
     "end_time": "2021-07-01T15:19:29.004513Z",
     "start_time": "2021-07-01T15:19:28.992592Z"
    }
   },
   "outputs": [],
   "source": [
    "CLUSTERINGS['DESeq2']['IVV_IVT_TS']['raw_logFC'] = full_merge.copy()\n",
    "CLUSTERINGS['DESeq2']['IVV_IVT_TS']['DE_genes'] = DE_genes\n",
    "CLUSTERINGS['DESeq2']['IVV_IVT_TS']['DE_genes_table'] = tmp_de_genes_table.copy()\n",
    "CLUSTERINGS['DESeq2']['IVV_IVT_TS']['scaled_logFC'] = scaled_logFC_sub.copy()"
   ]
  },
  {
   "cell_type": "markdown",
   "metadata": {},
   "source": [
    "### Clustering"
   ]
  },
  {
   "cell_type": "code",
   "execution_count": 168,
   "metadata": {
    "ExecuteTime": {
     "end_time": "2021-07-01T15:19:30.816361Z",
     "start_time": "2021-07-01T15:19:30.809487Z"
    }
   },
   "outputs": [],
   "source": [
    "sample_tissue = 'IVV_IVT_TS'\n",
    "method = 'ward'\n",
    "metric = 'euclidean'"
   ]
  },
  {
   "cell_type": "code",
   "execution_count": 169,
   "metadata": {
    "ExecuteTime": {
     "end_time": "2021-07-01T15:19:34.432864Z",
     "start_time": "2021-07-01T15:19:31.593530Z"
    }
   },
   "outputs": [
    {
     "name": "stderr",
     "output_type": "stream",
     "text": [
      "/home/icb/lambert.moyon/anaconda3/envs/devpause_env/lib/python3.7/site-packages/matplotlib/figure.py:2299: UserWarning: This figure includes Axes that are not compatible with tight_layout, so results might be incorrect.\n",
      "  warnings.warn(\"This figure includes Axes that are not compatible \"\n"
     ]
    },
    {
     "data": {
      "image/png": "[encoded data removed]",
      "text/plain": [
       "<Figure size 864x432 with 1 Axes>"
      ]
     },
     "metadata": {},
     "output_type": "display_data"
    }
   ],
   "source": [
    "TE_TS_ClusteringExp = ClusteringExperiment(CLUSTERINGS['DESeq2']['IVV_IVT_TS']['scaled_logFC'],\n",
    "                                           method=method,\n",
    "                                           metric=metric)\n",
    "\n",
    "#TE_TS_ClusteringExp.plot_silhouettes()\n",
    "TE_TS_ClusteringExp.selected_N_clusters = 10\n",
    "\n",
    "savefig_file = outputdir_TSTE / \"silhouette.svg\"\n",
    "#savefig_file = None\n",
    "TE_TS_ClusteringExp.plot_silhouettes(savefig_file=savefig_file)"
   ]
  },
  {
   "cell_type": "code",
   "execution_count": 171,
   "metadata": {
    "ExecuteTime": {
     "end_time": "2021-07-01T15:19:37.296611Z",
     "start_time": "2021-07-01T15:19:37.257344Z"
    }
   },
   "outputs": [
    {
     "name": "stdout",
     "output_type": "stream",
     "text": [
      "Min value over the table: -4.97444586002641\n",
      "Max value over the table: 3.3540273360999704\n",
      "Cmap returned range: [-8 ; 8]\n"
     ]
    }
   ],
   "source": [
    "linkage = TE_TS_ClusteringExp.linkage\n",
    "selected_cluster_labels = TE_TS_ClusteringExp.selected_cluster_labels\n",
    "colors_clusters = TE_TS_ClusteringExp.colors_clusters\n",
    "\n",
    "\n",
    "TE_TS_clusters = ClusteredTable(CLUSTERINGS['DESeq2']['IVV_IVT_TS']['raw_logFC'],\n",
    "                                clusters=selected_cluster_labels,\n",
    "                                colors_clusters=colors_clusters\n",
    "                                )\n",
    "\n",
    "# Define a cmap with alternative colors for better highlighting changes in fold changes.\n",
    "TE_TS_clusters.print_min_max()\n",
    "my_cmap = CmapBuilder().get_cmap_minmax(-8,8)"
   ]
  },
  {
   "cell_type": "code",
   "execution_count": 172,
   "metadata": {
    "ExecuteTime": {
     "end_time": "2021-07-01T15:19:41.797724Z",
     "start_time": "2021-07-01T15:19:39.466320Z"
    }
   },
   "outputs": [
    {
     "data": {
      "image/png": "[encoded data removed]",
      "text/plain": [
       "<Figure size 1152x432 with 5 Axes>"
      ]
     },
     "metadata": {},
     "output_type": "display_data"
    },
    {
     "data": {
      "text/html": [
       "<div>\n",
       "<style scoped>\n",
       "    .dataframe tbody tr th:only-of-type {\n",
       "        vertical-align: middle;\n",
       "    }\n",
       "\n",
       "    .dataframe tbody tr th {\n",
       "        vertical-align: top;\n",
       "    }\n",
       "\n",
       "    .dataframe thead th {\n",
       "        text-align: right;\n",
       "    }\n",
       "</style>\n",
       "<table border=\"1\" class=\"dataframe\">\n",
       "  <thead>\n",
       "    <tr style=\"text-align: right;\">\n",
       "      <th></th>\n",
       "      <th>mean.diapaused_TE</th>\n",
       "      <th>mean.mTor_TE</th>\n",
       "      <th>mean.paused_TS</th>\n",
       "      <th>mean_profile</th>\n",
       "      <th>N_tot</th>\n",
       "      <th>N_DE_anyComparison</th>\n",
       "    </tr>\n",
       "    <tr>\n",
       "      <th>cluster</th>\n",
       "      <th></th>\n",
       "      <th></th>\n",
       "      <th></th>\n",
       "      <th></th>\n",
       "      <th></th>\n",
       "      <th></th>\n",
       "    </tr>\n",
       "  </thead>\n",
       "  <tbody>\n",
       "    <tr>\n",
       "      <th>0</th>\n",
       "      <td>-0.064658</td>\n",
       "      <td>0.155397</td>\n",
       "      <td>-2.306848</td>\n",
       "      <td>discordant</td>\n",
       "      <td>27</td>\n",
       "      <td>2</td>\n",
       "    </tr>\n",
       "    <tr>\n",
       "      <th>1</th>\n",
       "      <td>2.564999</td>\n",
       "      <td>1.404327</td>\n",
       "      <td>-0.004316</td>\n",
       "      <td>discordant</td>\n",
       "      <td>4</td>\n",
       "      <td>0</td>\n",
       "    </tr>\n",
       "    <tr>\n",
       "      <th>2</th>\n",
       "      <td>-0.337964</td>\n",
       "      <td>-1.470314</td>\n",
       "      <td>0.225911</td>\n",
       "      <td>discordant</td>\n",
       "      <td>35</td>\n",
       "      <td>1</td>\n",
       "    </tr>\n",
       "    <tr>\n",
       "      <th>3</th>\n",
       "      <td>0.982439</td>\n",
       "      <td>1.341624</td>\n",
       "      <td>0.225553</td>\n",
       "      <td>positive</td>\n",
       "      <td>22</td>\n",
       "      <td>1</td>\n",
       "    </tr>\n",
       "    <tr>\n",
       "      <th>4</th>\n",
       "      <td>0.178296</td>\n",
       "      <td>-0.040337</td>\n",
       "      <td>-0.984653</td>\n",
       "      <td>discordant</td>\n",
       "      <td>50</td>\n",
       "      <td>0</td>\n",
       "    </tr>\n",
       "    <tr>\n",
       "      <th>5</th>\n",
       "      <td>-0.326718</td>\n",
       "      <td>-0.247845</td>\n",
       "      <td>1.201220</td>\n",
       "      <td>discordant</td>\n",
       "      <td>40</td>\n",
       "      <td>1</td>\n",
       "    </tr>\n",
       "    <tr>\n",
       "      <th>6</th>\n",
       "      <td>0.044488</td>\n",
       "      <td>-0.014229</td>\n",
       "      <td>0.104801</td>\n",
       "      <td>discordant</td>\n",
       "      <td>114</td>\n",
       "      <td>0</td>\n",
       "    </tr>\n",
       "    <tr>\n",
       "      <th>7</th>\n",
       "      <td>-1.009122</td>\n",
       "      <td>-0.661814</td>\n",
       "      <td>-0.443701</td>\n",
       "      <td>negative</td>\n",
       "      <td>18</td>\n",
       "      <td>0</td>\n",
       "    </tr>\n",
       "    <tr>\n",
       "      <th>8</th>\n",
       "      <td>-0.619423</td>\n",
       "      <td>0.783159</td>\n",
       "      <td>-0.172111</td>\n",
       "      <td>discordant</td>\n",
       "      <td>12</td>\n",
       "      <td>0</td>\n",
       "    </tr>\n",
       "    <tr>\n",
       "      <th>9</th>\n",
       "      <td>-2.572094</td>\n",
       "      <td>-2.376063</td>\n",
       "      <td>-1.952739</td>\n",
       "      <td>negative</td>\n",
       "      <td>5</td>\n",
       "      <td>5</td>\n",
       "    </tr>\n",
       "  </tbody>\n",
       "</table>\n",
       "</div>"
      ],
      "text/plain": [
       "         mean.diapaused_TE  mean.mTor_TE  mean.paused_TS mean_profile  N_tot  \\\n",
       "cluster                                                                        \n",
       "0                -0.064658      0.155397       -2.306848   discordant     27   \n",
       "1                 2.564999      1.404327       -0.004316   discordant      4   \n",
       "2                -0.337964     -1.470314        0.225911   discordant     35   \n",
       "3                 0.982439      1.341624        0.225553     positive     22   \n",
       "4                 0.178296     -0.040337       -0.984653   discordant     50   \n",
       "5                -0.326718     -0.247845        1.201220   discordant     40   \n",
       "6                 0.044488     -0.014229        0.104801   discordant    114   \n",
       "7                -1.009122     -0.661814       -0.443701     negative     18   \n",
       "8                -0.619423      0.783159       -0.172111   discordant     12   \n",
       "9                -2.572094     -2.376063       -1.952739     negative      5   \n",
       "\n",
       "         N_DE_anyComparison  \n",
       "cluster                      \n",
       "0                         2  \n",
       "1                         0  \n",
       "2                         1  \n",
       "3                         1  \n",
       "4                         0  \n",
       "5                         1  \n",
       "6                         0  \n",
       "7                         0  \n",
       "8                         0  \n",
       "9                         5  "
      ]
     },
     "metadata": {},
     "output_type": "display_data"
    }
   ],
   "source": [
    "savefig_file = outputdir_TSTE / \"heatmap_raw-logFC.svg\"\n",
    "#savefig_file = None\n",
    "\n",
    "TE_TS_clusters.plot_heatmap(col_linkage=linkage,\n",
    "                            savefigfile=savefig_file,\n",
    "                            #my_cmap=my_cmap,\n",
    "                            kwargs_heatmap={'vmin':VMIN_LOGFC,'vmax':VMAX_LOGFC}\n",
    "                            )\n",
    "\n",
    "summary_table = TE_TS_clusters.summarize_clusters(DE_genes=CLUSTERINGS['DESeq2']['IVV_IVT_TS']['DE_genes'])\n",
    "display(summary_table)"
   ]
  },
  {
   "cell_type": "code",
   "execution_count": 173,
   "metadata": {
    "ExecuteTime": {
     "end_time": "2021-07-01T15:19:45.206971Z",
     "start_time": "2021-07-01T15:19:45.190270Z"
    }
   },
   "outputs": [],
   "source": [
    "CLUSTERINGS['DESeq2'][sample_tissue]['CLUSTERINGS'][f'hc_{method}']['linkage'] = linkage\n",
    "CLUSTERINGS['DESeq2'][sample_tissue]['CLUSTERINGS'][f'hc_{method}']['selected_cluster_labels'] = selected_cluster_labels\n",
    "CLUSTERINGS['DESeq2'][sample_tissue]['CLUSTERINGS'][f'hc_{method}']['colors_clusters'] = colors_clusters\n",
    "CLUSTERINGS['DESeq2'][sample_tissue]['CLUSTERINGS'][f'hc_{method}']['summarized_clusters'] = summary_table.copy()"
   ]
  },
  {
   "cell_type": "markdown",
   "metadata": {},
   "source": [
    "### Exporting"
   ]
  },
  {
   "cell_type": "code",
   "execution_count": 174,
   "metadata": {
    "ExecuteTime": {
     "end_time": "2021-07-01T15:19:46.642169Z",
     "start_time": "2021-07-01T15:19:46.497271Z"
    }
   },
   "outputs": [
    {
     "name": "stdout",
     "output_type": "stream",
     "text": [
      "../results/RNAseq-DEA_IVV-IVT_clustering/2021-07-01_16:43:45/IVV-IVT_TS-TE/table_w_annotated_clusters.raw_logFC.tsv\n",
      "../results/RNAseq-DEA_IVV-IVT_clustering/2021-07-01_16:43:45/IVV-IVT_TS-TE/per_cluster_table.raw_logFC/cluster_0.table.raw_logFC.tsv\n",
      "../results/RNAseq-DEA_IVV-IVT_clustering/2021-07-01_16:43:45/IVV-IVT_TS-TE/per_cluster_table.raw_logFC/cluster_1.table.raw_logFC.tsv\n",
      "../results/RNAseq-DEA_IVV-IVT_clustering/2021-07-01_16:43:45/IVV-IVT_TS-TE/per_cluster_table.raw_logFC/cluster_2.table.raw_logFC.tsv\n",
      "../results/RNAseq-DEA_IVV-IVT_clustering/2021-07-01_16:43:45/IVV-IVT_TS-TE/per_cluster_table.raw_logFC/cluster_3.table.raw_logFC.tsv\n",
      "../results/RNAseq-DEA_IVV-IVT_clustering/2021-07-01_16:43:45/IVV-IVT_TS-TE/per_cluster_table.raw_logFC/cluster_4.table.raw_logFC.tsv\n",
      "../results/RNAseq-DEA_IVV-IVT_clustering/2021-07-01_16:43:45/IVV-IVT_TS-TE/per_cluster_table.raw_logFC/cluster_5.table.raw_logFC.tsv\n",
      "../results/RNAseq-DEA_IVV-IVT_clustering/2021-07-01_16:43:45/IVV-IVT_TS-TE/per_cluster_table.raw_logFC/cluster_6.table.raw_logFC.tsv\n",
      "../results/RNAseq-DEA_IVV-IVT_clustering/2021-07-01_16:43:45/IVV-IVT_TS-TE/per_cluster_table.raw_logFC/cluster_7.table.raw_logFC.tsv\n",
      "../results/RNAseq-DEA_IVV-IVT_clustering/2021-07-01_16:43:45/IVV-IVT_TS-TE/per_cluster_table.raw_logFC/cluster_8.table.raw_logFC.tsv\n",
      "../results/RNAseq-DEA_IVV-IVT_clustering/2021-07-01_16:43:45/IVV-IVT_TS-TE/per_cluster_table.raw_logFC/cluster_9.table.raw_logFC.tsv\n",
      "../results/RNAseq-DEA_IVV-IVT_clustering/2021-07-01_16:43:45/IVV-IVT_TS-TE/summary_table.raw_logFC.tsv\n"
     ]
    }
   ],
   "source": [
    "# This exports the table used for the heatmap ; the sub-table per cluster ; the summary table.\n",
    "TE_TS_clusters.export_data(outputdir_TSTE, suffix='raw_logFC')\n",
    "\n",
    "# We also export the scaled logFC values\n",
    "outputdir_TSTE_scaled_tbl = outputdir_TSTE / \"table_scaled_logFC_for_clustering.tsv\"\n",
    "CLUSTERINGS['DESeq2']['IVV_IVT_TS']['scaled_logFC'].to_csv(outputdir_TSTE_scaled_tbl,\n",
    "                                                            header=True,\n",
    "                                                            index=True,\n",
    "                                                            sep=\"\\t\"\n",
    "                                                           )\n",
    "\n",
    "# And the table of DE miRNAs, aggregated from the different comparisons.\n",
    "outputdir_TSTE_DE_genes = outputdir_TSTE / \"table_DE_genes_all_comparisons.tsv\"\n",
    "CLUSTERINGS['DESeq2']['IVV_IVT_TS']['DE_genes_table'].to_csv(outputdir_TSTE_DE_genes,\n",
    "                                                              header=True,\n",
    "                                                              index=True,\n",
    "                                                              sep=\"\\t\"\n",
    "                                                             )"
   ]
  },
  {
   "cell_type": "markdown",
   "metadata": {},
   "source": [
    "## in vivo samples (ICM and TE)"
   ]
  },
  {
   "cell_type": "code",
   "execution_count": 175,
   "metadata": {
    "ExecuteTime": {
     "end_time": "2021-07-01T15:19:48.173220Z",
     "start_time": "2021-07-01T15:19:48.165182Z"
    }
   },
   "outputs": [],
   "source": [
    "outputdir_IVV = outputdir / \"IVV\"\n",
    "if not outputdir_IVV.exists():\n",
    "    outputdir_IVV.mkdir()"
   ]
  },
  {
   "cell_type": "markdown",
   "metadata": {},
   "source": [
    "### Prepare dataset"
   ]
  },
  {
   "cell_type": "code",
   "execution_count": 176,
   "metadata": {
    "ExecuteTime": {
     "end_time": "2021-07-01T15:19:49.438469Z",
     "start_time": "2021-07-01T15:19:49.377445Z"
    }
   },
   "outputs": [
    {
     "name": "stdout",
     "output_type": "stream",
     "text": [
      "406\n",
      "406\n"
     ]
    }
   ],
   "source": [
    "tmp_tbls = []\n",
    "tmp_de_genes = []\n",
    "tmp_de_genes_table = []\n",
    "\n",
    "for k in DATASETS['miRDeep2']['ivv_samples']['combined']['DEA'].keys():\n",
    "    dea = DATASETS['miRDeep2']['ivv_samples']['combined']['DEA'][k]\n",
    "    tmp_tbl = dea.get_full_table()\n",
    "    tmp_tbl = tmp_tbl.filter(regex='logFC').rename(columns = {'logFC':k.split('_VS_')[0]})\n",
    "    tmp_tbls.append(tmp_tbl)\n",
    "\n",
    "    tmp_de_genes+= list(DATASETS['miRDeep2']['ivv_samples']['combined']['DEA'][k].get_significant().index.values)\n",
    "    tmp_de_genes_table.append(DATASETS['miRDeep2']['ivv_samples']['combined']['DEA'][k].get_significant().assign(comparison=k))\n",
    "\n",
    "\n",
    "full_merge = pd.concat(tmp_tbls, axis=1)\n",
    "print(full_merge.shape[0])\n",
    "full_merge = full_merge.dropna()\n",
    "print(full_merge.shape[0])\n",
    "\n",
    "# Remove duplicates and focus on those merged.\n",
    "DE_genes = set(tmp_de_genes) & set(full_merge.index.values)\n",
    "\n",
    "\n",
    "tmp_de_genes_table = pd.concat(tmp_de_genes_table)"
   ]
  },
  {
   "cell_type": "code",
   "execution_count": 177,
   "metadata": {
    "ExecuteTime": {
     "end_time": "2021-07-01T15:19:51.636781Z",
     "start_time": "2021-07-01T15:19:51.623015Z"
    }
   },
   "outputs": [],
   "source": [
    "scaler = sklearn.preprocessing.StandardScaler()\n",
    "scaled_logFC_sub = scaler.fit_transform(full_merge)\n",
    "scaled_logFC_sub = pd.DataFrame(scaled_logFC_sub,\n",
    "                                index = full_merge.index.values,\n",
    "                                columns = full_merge.columns)"
   ]
  },
  {
   "cell_type": "code",
   "execution_count": 178,
   "metadata": {
    "ExecuteTime": {
     "end_time": "2021-07-01T15:19:52.531413Z",
     "start_time": "2021-07-01T15:19:52.523000Z"
    }
   },
   "outputs": [],
   "source": [
    "CLUSTERINGS['DESeq2']['IVV']['raw_logFC'] = full_merge.copy()\n",
    "CLUSTERINGS['DESeq2']['IVV']['DE_genes'] = DE_genes\n",
    "CLUSTERINGS['DESeq2']['IVV']['DE_genes_table'] = tmp_de_genes_table.copy()\n",
    "CLUSTERINGS['DESeq2']['IVV']['scaled_logFC'] = scaled_logFC_sub.copy()"
   ]
  },
  {
   "cell_type": "markdown",
   "metadata": {},
   "source": [
    "### Clustering"
   ]
  },
  {
   "cell_type": "code",
   "execution_count": 179,
   "metadata": {
    "ExecuteTime": {
     "end_time": "2021-07-01T15:19:54.001352Z",
     "start_time": "2021-07-01T15:19:53.994975Z"
    }
   },
   "outputs": [],
   "source": [
    "sample_tissue = 'IVV'\n",
    "method = 'ward'\n",
    "metric = 'euclidean'"
   ]
  },
  {
   "cell_type": "code",
   "execution_count": 180,
   "metadata": {
    "ExecuteTime": {
     "end_time": "2021-07-01T15:19:58.077024Z",
     "start_time": "2021-07-01T15:19:54.720387Z"
    }
   },
   "outputs": [
    {
     "name": "stderr",
     "output_type": "stream",
     "text": [
      "/home/icb/lambert.moyon/anaconda3/envs/devpause_env/lib/python3.7/site-packages/matplotlib/figure.py:2299: UserWarning: This figure includes Axes that are not compatible with tight_layout, so results might be incorrect.\n",
      "  warnings.warn(\"This figure includes Axes that are not compatible \"\n"
     ]
    },
    {
     "data": {
      "image/png": "[encoded data removed]",
      "text/plain": [
       "<Figure size 864x432 with 1 Axes>"
      ]
     },
     "metadata": {},
     "output_type": "display_data"
    }
   ],
   "source": [
    "IVV_ClusteringExp = ClusteringExperiment(CLUSTERINGS['DESeq2']['IVV']['scaled_logFC'],\n",
    "                                         method=method,\n",
    "                                         metric=metric)\n",
    "\n",
    "#IVV_ClusteringExp.plot_silhouettes()\n",
    "IVV_ClusteringExp.selected_N_clusters = 9\n",
    "\n",
    "savefig_file = outputdir_IVV / \"silhouette.svg\"\n",
    "#savefig_file = None\n",
    "IVV_ClusteringExp.plot_silhouettes(savefig_file= savefig_file)"
   ]
  },
  {
   "cell_type": "code",
   "execution_count": 181,
   "metadata": {
    "ExecuteTime": {
     "end_time": "2021-07-01T15:19:58.129282Z",
     "start_time": "2021-07-01T15:19:58.086722Z"
    }
   },
   "outputs": [
    {
     "name": "stdout",
     "output_type": "stream",
     "text": [
      "Min value over the table: -4.97444586002641\n",
      "Max value over the table: 4.06823937599978\n",
      "Cmap returned range: [-6 ; 6]\n"
     ]
    }
   ],
   "source": [
    "linkage = IVV_ClusteringExp.linkage\n",
    "selected_cluster_labels = IVV_ClusteringExp.selected_cluster_labels\n",
    "colors_clusters = IVV_ClusteringExp.colors_clusters\n",
    "\n",
    "\n",
    "\n",
    "IVV_clusters = ClusteredTable(CLUSTERINGS['DESeq2']['IVV']['raw_logFC'],\n",
    "                              clusters=selected_cluster_labels,\n",
    "                              colors_clusters=colors_clusters,\n",
    "                              )\n",
    "\n",
    "IVV_clusters.print_min_max()\n",
    "my_cmap = CmapBuilder().get_cmap_minmax(-6,6)"
   ]
  },
  {
   "cell_type": "code",
   "execution_count": 182,
   "metadata": {
    "ExecuteTime": {
     "end_time": "2021-07-01T15:20:00.821847Z",
     "start_time": "2021-07-01T15:19:58.138768Z"
    },
    "scrolled": false
   },
   "outputs": [
    {
     "data": {
      "image/png": "[encoded data removed]",
      "text/plain": [
       "<Figure size 1152x432 with 5 Axes>"
      ]
     },
     "metadata": {},
     "output_type": "display_data"
    },
    {
     "data": {
      "text/html": [
       "<div>\n",
       "<style scoped>\n",
       "    .dataframe tbody tr th:only-of-type {\n",
       "        vertical-align: middle;\n",
       "    }\n",
       "\n",
       "    .dataframe tbody tr th {\n",
       "        vertical-align: top;\n",
       "    }\n",
       "\n",
       "    .dataframe thead th {\n",
       "        text-align: right;\n",
       "    }\n",
       "</style>\n",
       "<table border=\"1\" class=\"dataframe\">\n",
       "  <thead>\n",
       "    <tr style=\"text-align: right;\">\n",
       "      <th></th>\n",
       "      <th>mean.diapaused_ICM</th>\n",
       "      <th>mean.mTor_ICM</th>\n",
       "      <th>mean.diapaused_TE</th>\n",
       "      <th>mean.mTor_TE</th>\n",
       "      <th>mean_profile</th>\n",
       "      <th>N_tot</th>\n",
       "      <th>N_DE_anyComparison</th>\n",
       "    </tr>\n",
       "    <tr>\n",
       "      <th>cluster</th>\n",
       "      <th></th>\n",
       "      <th></th>\n",
       "      <th></th>\n",
       "      <th></th>\n",
       "      <th></th>\n",
       "      <th></th>\n",
       "      <th></th>\n",
       "    </tr>\n",
       "  </thead>\n",
       "  <tbody>\n",
       "    <tr>\n",
       "      <th>0</th>\n",
       "      <td>-0.127776</td>\n",
       "      <td>0.360500</td>\n",
       "      <td>0.842992</td>\n",
       "      <td>0.534441</td>\n",
       "      <td>discordant</td>\n",
       "      <td>33</td>\n",
       "      <td>0</td>\n",
       "    </tr>\n",
       "    <tr>\n",
       "      <th>1</th>\n",
       "      <td>-0.101879</td>\n",
       "      <td>-0.056224</td>\n",
       "      <td>-0.087201</td>\n",
       "      <td>-0.022746</td>\n",
       "      <td>negative</td>\n",
       "      <td>242</td>\n",
       "      <td>0</td>\n",
       "    </tr>\n",
       "    <tr>\n",
       "      <th>2</th>\n",
       "      <td>1.436497</td>\n",
       "      <td>1.964691</td>\n",
       "      <td>1.466011</td>\n",
       "      <td>2.018700</td>\n",
       "      <td>positive</td>\n",
       "      <td>10</td>\n",
       "      <td>2</td>\n",
       "    </tr>\n",
       "    <tr>\n",
       "      <th>3</th>\n",
       "      <td>0.152812</td>\n",
       "      <td>-1.074550</td>\n",
       "      <td>-0.357441</td>\n",
       "      <td>-1.641778</td>\n",
       "      <td>discordant</td>\n",
       "      <td>31</td>\n",
       "      <td>3</td>\n",
       "    </tr>\n",
       "    <tr>\n",
       "      <th>4</th>\n",
       "      <td>1.452468</td>\n",
       "      <td>1.320279</td>\n",
       "      <td>0.681914</td>\n",
       "      <td>-0.089586</td>\n",
       "      <td>discordant</td>\n",
       "      <td>20</td>\n",
       "      <td>0</td>\n",
       "    </tr>\n",
       "    <tr>\n",
       "      <th>5</th>\n",
       "      <td>0.872394</td>\n",
       "      <td>0.615255</td>\n",
       "      <td>-0.453685</td>\n",
       "      <td>-0.520024</td>\n",
       "      <td>discordant</td>\n",
       "      <td>31</td>\n",
       "      <td>0</td>\n",
       "    </tr>\n",
       "    <tr>\n",
       "      <th>6</th>\n",
       "      <td>-2.004892</td>\n",
       "      <td>-1.881711</td>\n",
       "      <td>0.036030</td>\n",
       "      <td>0.463580</td>\n",
       "      <td>discordant</td>\n",
       "      <td>15</td>\n",
       "      <td>0</td>\n",
       "    </tr>\n",
       "    <tr>\n",
       "      <th>7</th>\n",
       "      <td>-1.282754</td>\n",
       "      <td>-1.184942</td>\n",
       "      <td>-1.704106</td>\n",
       "      <td>-0.637479</td>\n",
       "      <td>negative</td>\n",
       "      <td>13</td>\n",
       "      <td>1</td>\n",
       "    </tr>\n",
       "    <tr>\n",
       "      <th>8</th>\n",
       "      <td>-0.345574</td>\n",
       "      <td>1.934089</td>\n",
       "      <td>-0.662244</td>\n",
       "      <td>0.751572</td>\n",
       "      <td>discordant</td>\n",
       "      <td>11</td>\n",
       "      <td>1</td>\n",
       "    </tr>\n",
       "  </tbody>\n",
       "</table>\n",
       "</div>"
      ],
      "text/plain": [
       "         mean.diapaused_ICM  mean.mTor_ICM  mean.diapaused_TE  mean.mTor_TE  \\\n",
       "cluster                                                                       \n",
       "0                 -0.127776       0.360500           0.842992      0.534441   \n",
       "1                 -0.101879      -0.056224          -0.087201     -0.022746   \n",
       "2                  1.436497       1.964691           1.466011      2.018700   \n",
       "3                  0.152812      -1.074550          -0.357441     -1.641778   \n",
       "4                  1.452468       1.320279           0.681914     -0.089586   \n",
       "5                  0.872394       0.615255          -0.453685     -0.520024   \n",
       "6                 -2.004892      -1.881711           0.036030      0.463580   \n",
       "7                 -1.282754      -1.184942          -1.704106     -0.637479   \n",
       "8                 -0.345574       1.934089          -0.662244      0.751572   \n",
       "\n",
       "        mean_profile  N_tot  N_DE_anyComparison  \n",
       "cluster                                          \n",
       "0         discordant     33                   0  \n",
       "1           negative    242                   0  \n",
       "2           positive     10                   2  \n",
       "3         discordant     31                   3  \n",
       "4         discordant     20                   0  \n",
       "5         discordant     31                   0  \n",
       "6         discordant     15                   0  \n",
       "7           negative     13                   1  \n",
       "8         discordant     11                   1  "
      ]
     },
     "metadata": {},
     "output_type": "display_data"
    }
   ],
   "source": [
    "savefig_file = outputdir_IVV / \"heatmap_raw-logFC.svg\"\n",
    "#savefig_file = None\n",
    "\n",
    "\n",
    "IVV_clusters.plot_heatmap(col_linkage=linkage,\n",
    "                          savefigfile=savefig_file,\n",
    "                          #my_cmap=my_cmap,\n",
    "                          kwargs_heatmap={'vmin':VMIN_LOGFC,'vmax':VMAX_LOGFC}\n",
    "                          )\n",
    "\n",
    "\n",
    "summary_table = IVV_clusters.summarize_clusters(DE_genes=CLUSTERINGS['DESeq2']['IVV']['DE_genes'])\n",
    "display(summary_table)"
   ]
  },
  {
   "cell_type": "code",
   "execution_count": 183,
   "metadata": {
    "ExecuteTime": {
     "end_time": "2021-07-01T15:20:00.843753Z",
     "start_time": "2021-07-01T15:20:00.831119Z"
    }
   },
   "outputs": [],
   "source": [
    "CLUSTERINGS['DESeq2'][sample_tissue]['CLUSTERINGS'][f'hc_{method}']['linkage'] = linkage\n",
    "CLUSTERINGS['DESeq2'][sample_tissue]['CLUSTERINGS'][f'hc_{method}']['selected_cluster_labels'] = selected_cluster_labels\n",
    "CLUSTERINGS['DESeq2'][sample_tissue]['CLUSTERINGS'][f'hc_{method}']['colors_clusters'] = colors_clusters\n",
    "CLUSTERINGS['DESeq2'][sample_tissue]['CLUSTERINGS'][f'hc_{method}']['summarized_clusters'] = summary_table.copy()"
   ]
  },
  {
   "cell_type": "markdown",
   "metadata": {},
   "source": [
    "### Export"
   ]
  },
  {
   "cell_type": "code",
   "execution_count": 184,
   "metadata": {
    "ExecuteTime": {
     "end_time": "2021-07-01T15:20:03.357071Z",
     "start_time": "2021-07-01T15:20:03.216379Z"
    }
   },
   "outputs": [
    {
     "name": "stdout",
     "output_type": "stream",
     "text": [
      "../results/RNAseq-DEA_IVV-IVT_clustering/2021-07-01_16:43:45/IVV/table_w_annotated_clusters.raw_logFC.tsv\n",
      "../results/RNAseq-DEA_IVV-IVT_clustering/2021-07-01_16:43:45/IVV/per_cluster_table.raw_logFC/cluster_0.table.raw_logFC.tsv\n",
      "../results/RNAseq-DEA_IVV-IVT_clustering/2021-07-01_16:43:45/IVV/per_cluster_table.raw_logFC/cluster_1.table.raw_logFC.tsv\n",
      "../results/RNAseq-DEA_IVV-IVT_clustering/2021-07-01_16:43:45/IVV/per_cluster_table.raw_logFC/cluster_2.table.raw_logFC.tsv\n",
      "../results/RNAseq-DEA_IVV-IVT_clustering/2021-07-01_16:43:45/IVV/per_cluster_table.raw_logFC/cluster_3.table.raw_logFC.tsv\n",
      "../results/RNAseq-DEA_IVV-IVT_clustering/2021-07-01_16:43:45/IVV/per_cluster_table.raw_logFC/cluster_4.table.raw_logFC.tsv\n",
      "../results/RNAseq-DEA_IVV-IVT_clustering/2021-07-01_16:43:45/IVV/per_cluster_table.raw_logFC/cluster_5.table.raw_logFC.tsv\n",
      "../results/RNAseq-DEA_IVV-IVT_clustering/2021-07-01_16:43:45/IVV/per_cluster_table.raw_logFC/cluster_6.table.raw_logFC.tsv\n",
      "../results/RNAseq-DEA_IVV-IVT_clustering/2021-07-01_16:43:45/IVV/per_cluster_table.raw_logFC/cluster_7.table.raw_logFC.tsv\n",
      "../results/RNAseq-DEA_IVV-IVT_clustering/2021-07-01_16:43:45/IVV/per_cluster_table.raw_logFC/cluster_8.table.raw_logFC.tsv\n",
      "../results/RNAseq-DEA_IVV-IVT_clustering/2021-07-01_16:43:45/IVV/summary_table.raw_logFC.tsv\n"
     ]
    }
   ],
   "source": [
    "# This exports the table used for the heatmap ; the sub-table per cluster ; the summary table.\n",
    "IVV_clusters.export_data(outputdir_IVV, suffix='raw_logFC')\n",
    "\n",
    "# We also export the scaled logFC values\n",
    "outputdir_IVV_scaled_tbl = outputdir_IVV / \"table_scaled_logFC_for_clustering.tsv\"\n",
    "CLUSTERINGS['DESeq2']['IVV']['scaled_logFC'].to_csv(outputdir_IVV_scaled_tbl,\n",
    "                                                    header=True,\n",
    "                                                    index=True,\n",
    "                                                    sep=\"\\t\"\n",
    "                                                   )\n",
    "\n",
    "# And the table of DE miRNAs, aggregated from the different comparisons.\n",
    "outputdir_IVV_DE_genes = outputdir_IVV / \"table_DE_genes_all_comparisons.tsv\"\n",
    "CLUSTERINGS['DESeq2']['IVV']['DE_genes_table'].to_csv(outputdir_IVV_DE_genes,\n",
    "                                                      header=True,\n",
    "                                                      index=True,\n",
    "                                                      sep=\"\\t\"\n",
    "                                                     )"
   ]
  }
 ],
 "metadata": {
  "kernelspec": {
   "display_name": "Python 3",
   "language": "python",
   "name": "python3"
  },
  "language_info": {
   "codemirror_mode": {
    "name": "ipython",
    "version": 3
   },
   "file_extension": ".py",
   "mimetype": "text/x-python",
   "name": "python",
   "nbconvert_exporter": "python",
   "pygments_lexer": "ipython3",
   "version": "3.9.15"
  },
  "toc": {
   "base_numbering": 1,
   "nav_menu": {},
   "number_sections": true,
   "sideBar": true,
   "skip_h1_title": false,
   "title_cell": "Table of Contents",
   "title_sidebar": "Contents",
   "toc_cell": false,
   "toc_position": {
    "height": "calc(100% - 180px)",
    "left": "10px",
    "top": "150px",
    "width": "320px"
   },
   "toc_section_display": true,
   "toc_window_display": true
  }
 },
 "nbformat": 4,
 "nbformat_minor": 4
}
